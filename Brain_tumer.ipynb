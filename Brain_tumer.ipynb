{
  "metadata": {
    "kernelspec": {
      "language": "python",
      "display_name": "Python 3",
      "name": "python3"
    },
    "language_info": {
      "pygments_lexer": "ipython3",
      "nbconvert_exporter": "python",
      "version": "3.6.4",
      "file_extension": ".py",
      "codemirror_mode": {
        "name": "ipython",
        "version": 3
      },
      "name": "python",
      "mimetype": "text/x-python"
    },
    "colab": {
      "provenance": [],
      "include_colab_link": true
    },
    "widgets": {
      "application/vnd.jupyter.widget-state+json": {
        "43516238475641e9a668a749ee8b3a47": {
          "model_module": "@jupyter-widgets/controls",
          "model_name": "HBoxModel",
          "model_module_version": "1.5.0",
          "state": {
            "_dom_classes": [],
            "_model_module": "@jupyter-widgets/controls",
            "_model_module_version": "1.5.0",
            "_model_name": "HBoxModel",
            "_view_count": null,
            "_view_module": "@jupyter-widgets/controls",
            "_view_module_version": "1.5.0",
            "_view_name": "HBoxView",
            "box_style": "",
            "children": [
              "IPY_MODEL_d8a9aa5a8cfa4704a7dec9bbb530d874",
              "IPY_MODEL_d2e6dd2200e84304ae4b33ec94c66849",
              "IPY_MODEL_e0e2b6fd021246358cbfaa22c9a0fd43"
            ],
            "layout": "IPY_MODEL_9e24f6c1544a47879f3cdd19ce8e5d0e"
          }
        },
        "d8a9aa5a8cfa4704a7dec9bbb530d874": {
          "model_module": "@jupyter-widgets/controls",
          "model_name": "HTMLModel",
          "model_module_version": "1.5.0",
          "state": {
            "_dom_classes": [],
            "_model_module": "@jupyter-widgets/controls",
            "_model_module_version": "1.5.0",
            "_model_name": "HTMLModel",
            "_view_count": null,
            "_view_module": "@jupyter-widgets/controls",
            "_view_module_version": "1.5.0",
            "_view_name": "HTMLView",
            "description": "",
            "description_tooltip": null,
            "layout": "IPY_MODEL_5001649cc57947c6bae4b346706094fa",
            "placeholder": "​",
            "style": "IPY_MODEL_c3ee9c4ca0f14e5aaca7c28ab3594439",
            "value": "100%"
          }
        },
        "d2e6dd2200e84304ae4b33ec94c66849": {
          "model_module": "@jupyter-widgets/controls",
          "model_name": "FloatProgressModel",
          "model_module_version": "1.5.0",
          "state": {
            "_dom_classes": [],
            "_model_module": "@jupyter-widgets/controls",
            "_model_module_version": "1.5.0",
            "_model_name": "FloatProgressModel",
            "_view_count": null,
            "_view_module": "@jupyter-widgets/controls",
            "_view_module_version": "1.5.0",
            "_view_name": "ProgressView",
            "bar_style": "success",
            "description": "",
            "description_tooltip": null,
            "layout": "IPY_MODEL_9ff047339bf146a8be0afa220e855a01",
            "max": 22139423,
            "min": 0,
            "orientation": "horizontal",
            "style": "IPY_MODEL_b94fbf68710a4423aafddfc9d144c795",
            "value": 22139423
          }
        },
        "e0e2b6fd021246358cbfaa22c9a0fd43": {
          "model_module": "@jupyter-widgets/controls",
          "model_name": "HTMLModel",
          "model_module_version": "1.5.0",
          "state": {
            "_dom_classes": [],
            "_model_module": "@jupyter-widgets/controls",
            "_model_module_version": "1.5.0",
            "_model_name": "HTMLModel",
            "_view_count": null,
            "_view_module": "@jupyter-widgets/controls",
            "_view_module_version": "1.5.0",
            "_view_name": "HTMLView",
            "description": "",
            "description_tooltip": null,
            "layout": "IPY_MODEL_a86f9469135547aa8a3c9a589b887d20",
            "placeholder": "​",
            "style": "IPY_MODEL_8ae00b78fe784f8fa7356c632139af7e",
            "value": " 21.1M/21.1M [00:00&lt;00:00, 75.3MB/s]"
          }
        },
        "9e24f6c1544a47879f3cdd19ce8e5d0e": {
          "model_module": "@jupyter-widgets/base",
          "model_name": "LayoutModel",
          "model_module_version": "1.2.0",
          "state": {
            "_model_module": "@jupyter-widgets/base",
            "_model_module_version": "1.2.0",
            "_model_name": "LayoutModel",
            "_view_count": null,
            "_view_module": "@jupyter-widgets/base",
            "_view_module_version": "1.2.0",
            "_view_name": "LayoutView",
            "align_content": null,
            "align_items": null,
            "align_self": null,
            "border": null,
            "bottom": null,
            "display": null,
            "flex": null,
            "flex_flow": null,
            "grid_area": null,
            "grid_auto_columns": null,
            "grid_auto_flow": null,
            "grid_auto_rows": null,
            "grid_column": null,
            "grid_gap": null,
            "grid_row": null,
            "grid_template_areas": null,
            "grid_template_columns": null,
            "grid_template_rows": null,
            "height": null,
            "justify_content": null,
            "justify_items": null,
            "left": null,
            "margin": null,
            "max_height": null,
            "max_width": null,
            "min_height": null,
            "min_width": null,
            "object_fit": null,
            "object_position": null,
            "order": null,
            "overflow": null,
            "overflow_x": null,
            "overflow_y": null,
            "padding": null,
            "right": null,
            "top": null,
            "visibility": null,
            "width": null
          }
        },
        "5001649cc57947c6bae4b346706094fa": {
          "model_module": "@jupyter-widgets/base",
          "model_name": "LayoutModel",
          "model_module_version": "1.2.0",
          "state": {
            "_model_module": "@jupyter-widgets/base",
            "_model_module_version": "1.2.0",
            "_model_name": "LayoutModel",
            "_view_count": null,
            "_view_module": "@jupyter-widgets/base",
            "_view_module_version": "1.2.0",
            "_view_name": "LayoutView",
            "align_content": null,
            "align_items": null,
            "align_self": null,
            "border": null,
            "bottom": null,
            "display": null,
            "flex": null,
            "flex_flow": null,
            "grid_area": null,
            "grid_auto_columns": null,
            "grid_auto_flow": null,
            "grid_auto_rows": null,
            "grid_column": null,
            "grid_gap": null,
            "grid_row": null,
            "grid_template_areas": null,
            "grid_template_columns": null,
            "grid_template_rows": null,
            "height": null,
            "justify_content": null,
            "justify_items": null,
            "left": null,
            "margin": null,
            "max_height": null,
            "max_width": null,
            "min_height": null,
            "min_width": null,
            "object_fit": null,
            "object_position": null,
            "order": null,
            "overflow": null,
            "overflow_x": null,
            "overflow_y": null,
            "padding": null,
            "right": null,
            "top": null,
            "visibility": null,
            "width": null
          }
        },
        "c3ee9c4ca0f14e5aaca7c28ab3594439": {
          "model_module": "@jupyter-widgets/controls",
          "model_name": "DescriptionStyleModel",
          "model_module_version": "1.5.0",
          "state": {
            "_model_module": "@jupyter-widgets/controls",
            "_model_module_version": "1.5.0",
            "_model_name": "DescriptionStyleModel",
            "_view_count": null,
            "_view_module": "@jupyter-widgets/base",
            "_view_module_version": "1.2.0",
            "_view_name": "StyleView",
            "description_width": ""
          }
        },
        "9ff047339bf146a8be0afa220e855a01": {
          "model_module": "@jupyter-widgets/base",
          "model_name": "LayoutModel",
          "model_module_version": "1.2.0",
          "state": {
            "_model_module": "@jupyter-widgets/base",
            "_model_module_version": "1.2.0",
            "_model_name": "LayoutModel",
            "_view_count": null,
            "_view_module": "@jupyter-widgets/base",
            "_view_module_version": "1.2.0",
            "_view_name": "LayoutView",
            "align_content": null,
            "align_items": null,
            "align_self": null,
            "border": null,
            "bottom": null,
            "display": null,
            "flex": null,
            "flex_flow": null,
            "grid_area": null,
            "grid_auto_columns": null,
            "grid_auto_flow": null,
            "grid_auto_rows": null,
            "grid_column": null,
            "grid_gap": null,
            "grid_row": null,
            "grid_template_areas": null,
            "grid_template_columns": null,
            "grid_template_rows": null,
            "height": null,
            "justify_content": null,
            "justify_items": null,
            "left": null,
            "margin": null,
            "max_height": null,
            "max_width": null,
            "min_height": null,
            "min_width": null,
            "object_fit": null,
            "object_position": null,
            "order": null,
            "overflow": null,
            "overflow_x": null,
            "overflow_y": null,
            "padding": null,
            "right": null,
            "top": null,
            "visibility": null,
            "width": null
          }
        },
        "b94fbf68710a4423aafddfc9d144c795": {
          "model_module": "@jupyter-widgets/controls",
          "model_name": "ProgressStyleModel",
          "model_module_version": "1.5.0",
          "state": {
            "_model_module": "@jupyter-widgets/controls",
            "_model_module_version": "1.5.0",
            "_model_name": "ProgressStyleModel",
            "_view_count": null,
            "_view_module": "@jupyter-widgets/base",
            "_view_module_version": "1.2.0",
            "_view_name": "StyleView",
            "bar_color": null,
            "description_width": ""
          }
        },
        "a86f9469135547aa8a3c9a589b887d20": {
          "model_module": "@jupyter-widgets/base",
          "model_name": "LayoutModel",
          "model_module_version": "1.2.0",
          "state": {
            "_model_module": "@jupyter-widgets/base",
            "_model_module_version": "1.2.0",
            "_model_name": "LayoutModel",
            "_view_count": null,
            "_view_module": "@jupyter-widgets/base",
            "_view_module_version": "1.2.0",
            "_view_name": "LayoutView",
            "align_content": null,
            "align_items": null,
            "align_self": null,
            "border": null,
            "bottom": null,
            "display": null,
            "flex": null,
            "flex_flow": null,
            "grid_area": null,
            "grid_auto_columns": null,
            "grid_auto_flow": null,
            "grid_auto_rows": null,
            "grid_column": null,
            "grid_gap": null,
            "grid_row": null,
            "grid_template_areas": null,
            "grid_template_columns": null,
            "grid_template_rows": null,
            "height": null,
            "justify_content": null,
            "justify_items": null,
            "left": null,
            "margin": null,
            "max_height": null,
            "max_width": null,
            "min_height": null,
            "min_width": null,
            "object_fit": null,
            "object_position": null,
            "order": null,
            "overflow": null,
            "overflow_x": null,
            "overflow_y": null,
            "padding": null,
            "right": null,
            "top": null,
            "visibility": null,
            "width": null
          }
        },
        "8ae00b78fe784f8fa7356c632139af7e": {
          "model_module": "@jupyter-widgets/controls",
          "model_name": "DescriptionStyleModel",
          "model_module_version": "1.5.0",
          "state": {
            "_model_module": "@jupyter-widgets/controls",
            "_model_module_version": "1.5.0",
            "_model_name": "DescriptionStyleModel",
            "_view_count": null,
            "_view_module": "@jupyter-widgets/base",
            "_view_module_version": "1.2.0",
            "_view_name": "StyleView",
            "description_width": ""
          }
        }
      }
    }
  },
  "nbformat_minor": 0,
  "nbformat": 4,
  "cells": [
    {
      "cell_type": "markdown",
      "metadata": {
        "id": "view-in-github",
        "colab_type": "text"
      },
      "source": [
        "<a href=\"https://colab.research.google.com/github/saifulislamsarfaraz/Statistics-for-Data-Science/blob/main/Brain_tumer.ipynb\" target=\"_parent\"><img src=\"https://colab.research.google.com/assets/colab-badge.svg\" alt=\"Open In Colab\"/></a>"
      ]
    },
    {
      "cell_type": "code",
      "source": [
        "!pip install split-folders\n",
        "!pip install monai\n",
        "!pip install torchsummary "
      ],
      "metadata": {
        "trusted": true,
        "colab": {
          "base_uri": "https://localhost:8080/"
        },
        "id": "RQmI2YMGw2qC",
        "outputId": "5e5eafa4-a119-4924-8b8f-948995c988b8"
      },
      "execution_count": null,
      "outputs": [
        {
          "output_type": "stream",
          "name": "stdout",
          "text": [
            "Looking in indexes: https://pypi.org/simple, https://us-python.pkg.dev/colab-wheels/public/simple/\n",
            "Collecting split-folders\n",
            "  Downloading split_folders-0.5.1-py3-none-any.whl (8.4 kB)\n",
            "Installing collected packages: split-folders\n",
            "Successfully installed split-folders-0.5.1\n",
            "Looking in indexes: https://pypi.org/simple, https://us-python.pkg.dev/colab-wheels/public/simple/\n",
            "Collecting monai\n",
            "  Downloading monai-1.0.1-202210241233-py3-none-any.whl (1.1 MB)\n",
            "\u001b[K     |████████████████████████████████| 1.1 MB 15.7 MB/s \n",
            "\u001b[?25hRequirement already satisfied: torch>=1.7 in /usr/local/lib/python3.7/dist-packages (from monai) (1.12.1+cu113)\n",
            "Requirement already satisfied: numpy>=1.17 in /usr/local/lib/python3.7/dist-packages (from monai) (1.21.6)\n",
            "Requirement already satisfied: typing-extensions in /usr/local/lib/python3.7/dist-packages (from torch>=1.7->monai) (4.1.1)\n",
            "Installing collected packages: monai\n",
            "Successfully installed monai-1.0.1\n",
            "Looking in indexes: https://pypi.org/simple, https://us-python.pkg.dev/colab-wheels/public/simple/\n",
            "Requirement already satisfied: torchsummary in /usr/local/lib/python3.7/dist-packages (1.5.1)\n"
          ]
        }
      ]
    },
    {
      "cell_type": "code",
      "source": [
        "from google.colab import drive\n",
        "drive.mount('/content/drive')"
      ],
      "metadata": {
        "id": "zGLztwEM0yfc",
        "colab": {
          "base_uri": "https://localhost:8080/"
        },
        "outputId": "014f8189-d1a1-4b21-f0a6-0c9be80cb4aa"
      },
      "execution_count": null,
      "outputs": [
        {
          "output_type": "stream",
          "name": "stdout",
          "text": [
            "Mounted at /content/drive\n"
          ]
        }
      ]
    },
    {
      "cell_type": "code",
      "source": [
        "!pip install --upgrade pytorch torchvision"
      ],
      "metadata": {
        "trusted": true,
        "colab": {
          "base_uri": "https://localhost:8080/"
        },
        "id": "nwI0Xzfnw2qF",
        "outputId": "df8f152b-94a2-4e0e-bc54-f431b918d66a"
      },
      "execution_count": 4,
      "outputs": [
        {
          "output_type": "stream",
          "name": "stdout",
          "text": [
            "Looking in indexes: https://pypi.org/simple, https://us-python.pkg.dev/colab-wheels/public/simple/\n",
            "Collecting pytorch\n",
            "  Using cached pytorch-1.0.2.tar.gz (689 bytes)\n",
            "Requirement already satisfied: torchvision in /usr/local/lib/python3.7/dist-packages (0.14.0)\n",
            "Requirement already satisfied: numpy in /usr/local/lib/python3.7/dist-packages (from torchvision) (1.21.6)\n",
            "Requirement already satisfied: torch==1.13.0 in /usr/local/lib/python3.7/dist-packages (from torchvision) (1.13.0)\n",
            "Requirement already satisfied: pillow!=8.3.*,>=5.3.0 in /usr/local/lib/python3.7/dist-packages (from torchvision) (7.1.2)\n",
            "Requirement already satisfied: typing-extensions in /usr/local/lib/python3.7/dist-packages (from torchvision) (4.1.1)\n",
            "Requirement already satisfied: requests in /usr/local/lib/python3.7/dist-packages (from torchvision) (2.23.0)\n",
            "Requirement already satisfied: nvidia-cublas-cu11==11.10.3.66 in /usr/local/lib/python3.7/dist-packages (from torch==1.13.0->torchvision) (11.10.3.66)\n",
            "Requirement already satisfied: nvidia-cudnn-cu11==8.5.0.96 in /usr/local/lib/python3.7/dist-packages (from torch==1.13.0->torchvision) (8.5.0.96)\n",
            "Requirement already satisfied: nvidia-cuda-runtime-cu11==11.7.99 in /usr/local/lib/python3.7/dist-packages (from torch==1.13.0->torchvision) (11.7.99)\n",
            "Requirement already satisfied: nvidia-cuda-nvrtc-cu11==11.7.99 in /usr/local/lib/python3.7/dist-packages (from torch==1.13.0->torchvision) (11.7.99)\n",
            "Requirement already satisfied: wheel in /usr/local/lib/python3.7/dist-packages (from nvidia-cublas-cu11==11.10.3.66->torch==1.13.0->torchvision) (0.38.3)\n",
            "Requirement already satisfied: setuptools in /usr/local/lib/python3.7/dist-packages (from nvidia-cublas-cu11==11.10.3.66->torch==1.13.0->torchvision) (57.4.0)\n",
            "Requirement already satisfied: idna<3,>=2.5 in /usr/local/lib/python3.7/dist-packages (from requests->torchvision) (2.10)\n",
            "Requirement already satisfied: chardet<4,>=3.0.2 in /usr/local/lib/python3.7/dist-packages (from requests->torchvision) (3.0.4)\n",
            "Requirement already satisfied: certifi>=2017.4.17 in /usr/local/lib/python3.7/dist-packages (from requests->torchvision) (2022.9.24)\n",
            "Requirement already satisfied: urllib3!=1.25.0,!=1.25.1,<1.26,>=1.21.1 in /usr/local/lib/python3.7/dist-packages (from requests->torchvision) (1.24.3)\n",
            "Building wheels for collected packages: pytorch\n",
            "  Building wheel for pytorch (setup.py) ... \u001b[?25lerror\n",
            "\u001b[31m  ERROR: Failed building wheel for pytorch\u001b[0m\n",
            "\u001b[?25h  Running setup.py clean for pytorch\n",
            "Failed to build pytorch\n",
            "Installing collected packages: pytorch\n",
            "    Running setup.py install for pytorch ... \u001b[?25l\u001b[?25herror\n",
            "\u001b[31mERROR: Command errored out with exit status 1: /usr/bin/python3 -u -c 'import io, os, sys, setuptools, tokenize; sys.argv[0] = '\"'\"'/tmp/pip-install-z68n2w8j/pytorch_d464f723ee71405cb615fa6bd44d4dbe/setup.py'\"'\"'; __file__='\"'\"'/tmp/pip-install-z68n2w8j/pytorch_d464f723ee71405cb615fa6bd44d4dbe/setup.py'\"'\"';f = getattr(tokenize, '\"'\"'open'\"'\"', open)(__file__) if os.path.exists(__file__) else io.StringIO('\"'\"'from setuptools import setup; setup()'\"'\"');code = f.read().replace('\"'\"'\\r\\n'\"'\"', '\"'\"'\\n'\"'\"');f.close();exec(compile(code, __file__, '\"'\"'exec'\"'\"'))' install --record /tmp/pip-record-8xcjtsqr/install-record.txt --single-version-externally-managed --compile --install-headers /usr/local/include/python3.7/pytorch Check the logs for full command output.\u001b[0m\n"
          ]
        }
      ]
    },
    {
      "cell_type": "code",
      "source": [
        "import os\n",
        "import PIL\n",
        "import sys\n",
        "import copy\n",
        "import numpy as np\n",
        "import pandas as pd\n",
        "import matplotlib.pyplot as plt\n",
        "from tqdm import tqdm\n",
        "from glob import glob\n",
        "from torchsummary import summary\n",
        "import torch\n",
        "from torch.autograd import Variable\n",
        "from torch import nn\n",
        "import torchvision\n",
        "from torchvision import transforms,datasets,models\n",
        "import splitfolders\n",
        "from monai.networks.nets import DenseNet201,DenseNet121\n",
        "from sklearn.metrics import accuracy_score,classification_report"
      ],
      "metadata": {
        "_uuid": "8f2839f25d086af736a60e9eeb907d3b93b6e0e5",
        "_cell_guid": "b1076dfc-b9ad-4769-8c92-a6c4dae69d19",
        "execution": {
          "iopub.status.busy": "2022-11-04T07:55:49.319115Z",
          "iopub.execute_input": "2022-11-04T07:55:49.320049Z",
          "iopub.status.idle": "2022-11-04T07:55:49.327086Z",
          "shell.execute_reply.started": "2022-11-04T07:55:49.320011Z",
          "shell.execute_reply": "2022-11-04T07:55:49.325807Z"
        },
        "trusted": true,
        "id": "c9dfjKjHw2qG"
      },
      "execution_count": 5,
      "outputs": []
    },
    {
      "cell_type": "code",
      "source": [
        "path = '/content/drive/MyDrive/Colab Notebooks/Brain'"
      ],
      "metadata": {
        "execution": {
          "iopub.status.busy": "2022-11-04T07:53:58.080337Z",
          "iopub.execute_input": "2022-11-04T07:53:58.081103Z",
          "iopub.status.idle": "2022-11-04T07:53:58.089638Z",
          "shell.execute_reply.started": "2022-11-04T07:53:58.081056Z",
          "shell.execute_reply": "2022-11-04T07:53:58.088327Z"
        },
        "trusted": true,
        "id": "fNSiO2eew2qH"
      },
      "execution_count": 6,
      "outputs": []
    },
    {
      "cell_type": "markdown",
      "source": [
        "##  Data Preparing"
      ],
      "metadata": {
        "id": "2lQcDU_Zw2qH"
      }
    },
    {
      "cell_type": "code",
      "source": [
        "splitfolders.ratio('/content/drive/MyDrive/Colab Notebooks/Brain/Training',ratio=(0.8,0.2))"
      ],
      "metadata": {
        "execution": {
          "iopub.status.busy": "2022-11-04T07:54:15.826105Z",
          "iopub.execute_input": "2022-11-04T07:54:15.826691Z",
          "iopub.status.idle": "2022-11-04T07:54:25.331001Z",
          "shell.execute_reply.started": "2022-11-04T07:54:15.826644Z",
          "shell.execute_reply": "2022-11-04T07:54:25.329872Z"
        },
        "trusted": true,
        "id": "9YZ4_Acxw2qJ",
        "colab": {
          "base_uri": "https://localhost:8080/"
        },
        "outputId": "e37558d0-46da-463e-ae61-a3e50ad6fc13"
      },
      "execution_count": 7,
      "outputs": [
        {
          "output_type": "stream",
          "name": "stderr",
          "text": [
            "Copying files: 2878 files [00:42, 67.22 files/s] \n"
          ]
        }
      ]
    },
    {
      "cell_type": "code",
      "source": [
        "test_path = os.path.join(path,'Testing')\n",
        "train_path = './output/train'\n",
        "val_path = './output/val'"
      ],
      "metadata": {
        "execution": {
          "iopub.status.busy": "2022-11-04T07:54:59.102319Z",
          "iopub.execute_input": "2022-11-04T07:54:59.103214Z",
          "iopub.status.idle": "2022-11-04T07:54:59.108302Z",
          "shell.execute_reply.started": "2022-11-04T07:54:59.103136Z",
          "shell.execute_reply": "2022-11-04T07:54:59.107133Z"
        },
        "trusted": true,
        "id": "kP9dQYXvw2qK"
      },
      "execution_count": 8,
      "outputs": []
    },
    {
      "cell_type": "code",
      "source": [
        "data_dicts = {\n",
        "    'train':[],\n",
        "    'test':[],\n",
        "    'val':[]\n",
        "}\n",
        "data_labels = {\n",
        "    'train':[],\n",
        "    'test':[],\n",
        "    'val':[]\n",
        "}"
      ],
      "metadata": {
        "execution": {
          "iopub.status.busy": "2022-11-04T07:55:00.591189Z",
          "iopub.execute_input": "2022-11-04T07:55:00.591554Z",
          "iopub.status.idle": "2022-11-04T07:55:00.599583Z",
          "shell.execute_reply.started": "2022-11-04T07:55:00.591523Z",
          "shell.execute_reply": "2022-11-04T07:55:00.598604Z"
        },
        "trusted": true,
        "id": "PgtumHb3w2qL"
      },
      "execution_count": 9,
      "outputs": []
    },
    {
      "cell_type": "code",
      "source": [
        "for phase in ['train','val','test']:\n",
        "    if phase == 'train':\n",
        "        data_dir = train_path\n",
        "    elif phase == 'val':\n",
        "        data_dir = val_path\n",
        "    else:\n",
        "        data_dir = test_path\n",
        "    class_names = sorted(x for x in os.listdir(data_dir)\n",
        "                            if os.path.isdir(os.path.join(data_dir, x)))\n",
        "    num_class = len(class_names) \n",
        "    image_files = [\n",
        "        [\n",
        "            os.path.join(data_dir, class_names[i], x)\n",
        "            for x in os.listdir(os.path.join(data_dir, class_names[i]))\n",
        "        ]\n",
        "        for i in range(num_class)\n",
        "    ]\n",
        "    num_each = [len(image_files[i]) for i in range(num_class)]\n",
        "    image_files_list = [] \n",
        "    image_class = []\n",
        "    for i in range(num_class):\n",
        "        image_files_list.extend(image_files[i])\n",
        "        image_class.extend([i] * num_each[i])\n",
        "    data_dicts[phase] = image_files_list\n",
        "    data_labels[phase] = image_class\n",
        "    num_total = len(image_class)\n",
        "    image_width, image_height = PIL.Image.open(image_files_list[0]).size\n",
        "    print(f\"{phase} information\")\n",
        "    print(f\"Image dimensions: {image_width} x {image_height}\")\n",
        "    print(f\"Label names: {class_names}\")\n",
        "    print(f\"Label counts: {num_each}\")\n",
        "    print(f\"Total image count: {num_total}\")\n",
        "    print('--'*8)"
      ],
      "metadata": {
        "execution": {
          "iopub.status.busy": "2022-11-04T07:55:03.468393Z",
          "iopub.execute_input": "2022-11-04T07:55:03.468772Z",
          "iopub.status.idle": "2022-11-04T07:55:03.547802Z",
          "shell.execute_reply.started": "2022-11-04T07:55:03.46874Z",
          "shell.execute_reply": "2022-11-04T07:55:03.546738Z"
        },
        "trusted": true,
        "id": "4jmF1akWw2qM",
        "colab": {
          "base_uri": "https://localhost:8080/"
        },
        "outputId": "5123422b-9a2a-4f92-cd86-0d3a21d443f3"
      },
      "execution_count": 10,
      "outputs": [
        {
          "output_type": "stream",
          "name": "stdout",
          "text": [
            "train information\n",
            "Image dimensions: 512 x 512\n",
            "Label names: ['glioma_tumor', 'meningioma_tumor', 'no_tumor', 'pituitary_tumor']\n",
            "Label counts: [660, 657, 322, 661]\n",
            "Total image count: 2300\n",
            "----------------\n",
            "val information\n",
            "Image dimensions: 512 x 512\n",
            "Label names: ['glioma_tumor', 'meningioma_tumor', 'no_tumor', 'pituitary_tumor']\n",
            "Label counts: [166, 165, 81, 166]\n",
            "Total image count: 578\n",
            "----------------\n",
            "test information\n",
            "Image dimensions: 386 x 406\n",
            "Label names: ['glioma_tumor', 'meningioma_tumor', 'no_tumor', 'pituitary_tumor']\n",
            "Label counts: [100, 115, 105, 74]\n",
            "Total image count: 394\n",
            "----------------\n"
          ]
        }
      ]
    },
    {
      "cell_type": "markdown",
      "source": [
        "The original training set is divided into training set and verification set proportionally"
      ],
      "metadata": {
        "id": "UJwd0mfbw2qN"
      }
    },
    {
      "cell_type": "markdown",
      "source": [
        "## Visualize"
      ],
      "metadata": {
        "id": "shwwcNwZw2qN"
      }
    },
    {
      "cell_type": "code",
      "source": [
        "df = pd.DataFrame({'path': data_dicts['train'],'label': data_labels['train']})\n",
        "sorted_counts  = df.value_counts('label')\n",
        "plt.title('distribution in train dataset')\n",
        "plt.pie(sorted_counts, labels = class_names,startangle = 90,counterclock = False,autopct=\"%.1f%%\")"
      ],
      "metadata": {
        "execution": {
          "iopub.status.busy": "2022-11-04T07:55:05.986653Z",
          "iopub.execute_input": "2022-11-04T07:55:05.987355Z",
          "iopub.status.idle": "2022-11-04T07:55:06.155166Z",
          "shell.execute_reply.started": "2022-11-04T07:55:05.987318Z",
          "shell.execute_reply": "2022-11-04T07:55:06.153926Z"
        },
        "trusted": true,
        "id": "l0ZtU8zAw2qO",
        "colab": {
          "base_uri": "https://localhost:8080/",
          "height": 483
        },
        "outputId": "2a554f98-eb65-4b77-bd9e-34bf4bdba7ed"
      },
      "execution_count": 11,
      "outputs": [
        {
          "output_type": "execute_result",
          "data": {
            "text/plain": [
              "([<matplotlib.patches.Wedge at 0x7f379450c690>,\n",
              "  <matplotlib.patches.Wedge at 0x7f379450ce50>,\n",
              "  <matplotlib.patches.Wedge at 0x7f379449c710>,\n",
              "  <matplotlib.patches.Wedge at 0x7f37944a7050>],\n",
              " [Text(0.8636160276453844, 0.6812982876787573, 'glioma_tumor'),\n",
              "  Text(0.46291224867720315, -0.9978538219722444, 'meningioma_tumor'),\n",
              "  Text(-1.0766857864938464, -0.2252725397427029, 'no_tumor'),\n",
              "  Text(-0.46835731577295536, 0.995309712984834, 'pituitary_tumor')],\n",
              " [Text(0.47106328780657325, 0.37161724782477673, '28.7%'),\n",
              "  Text(0.25249759018756535, -0.5442839028939515, '28.7%'),\n",
              "  Text(-0.5872831562693707, -0.122875930768747, '28.6%'),\n",
              "  Text(-0.25546762678524837, 0.5428962070826366, '14.0%')])"
            ]
          },
          "metadata": {},
          "execution_count": 11
        },
        {
          "output_type": "display_data",
          "data": {
            "text/plain": [
              "<Figure size 432x288 with 1 Axes>"
            ],
            "image/png": "[encoded data removed]"
          },
          "metadata": {}
        }
      ]
    },
    {
      "cell_type": "code",
      "source": [
        "plt.subplots(3, 3, figsize=(8, 8))\n",
        "for i, k in enumerate(np.random.randint(num_total, size=9)):\n",
        "    im = PIL.Image.open(data_dicts['train'][k])\n",
        "    arr = np.array(im)\n",
        "    plt.subplot(3, 3, i + 1)\n",
        "    plt.xlabel(class_names[image_class[k]])\n",
        "    plt.imshow(arr, cmap=\"gray\", vmin=0, vmax=255)\n",
        "plt.tight_layout()\n",
        "plt.show()"
      ],
      "metadata": {
        "execution": {
          "iopub.status.busy": "2022-11-04T07:55:08.275923Z",
          "iopub.execute_input": "2022-11-04T07:55:08.276311Z",
          "iopub.status.idle": "2022-11-04T07:55:09.479613Z",
          "shell.execute_reply.started": "2022-11-04T07:55:08.276273Z",
          "shell.execute_reply": "2022-11-04T07:55:09.478669Z"
        },
        "trusted": true,
        "id": "4-cpxpykw2qO",
        "colab": {
          "base_uri": "https://localhost:8080/",
          "height": 585
        },
        "outputId": "34a55df2-5d0c-4413-cddb-bb42a4cae2a4"
      },
      "execution_count": 13,
      "outputs": [
        {
          "output_type": "display_data",
          "data": {
            "text/plain": [
              "<Figure size 576x576 with 9 Axes>"
            ],
            "image/png": "[encoded data removed]"
          },
          "metadata": {
            "needs_background": "light"
          }
        }
      ]
    },
    {
      "cell_type": "markdown",
      "source": [
        "## Train Preparing"
      ],
      "metadata": {
        "id": "FDDXUd-1w2qP"
      }
    },
    {
      "cell_type": "code",
      "source": [
        "#define transforms\n",
        "data_transforms = {\n",
        "        \"train\": transforms.Compose([\n",
        "            transforms.RandomResizedCrop(256),\n",
        "            transforms.RandomHorizontalFlip(),\n",
        "            transforms.RandomRotation(degrees=(-3,3)),\n",
        "            transforms.ToTensor(),\n",
        "            transforms.Normalize([0.485, 0.456, 0.406],[0.229, 0.224, 0.225])\n",
        "                                    ]),\n",
        "        \"val\": transforms.Compose([\n",
        "            transforms.Resize(256),\n",
        "            transforms.CenterCrop(128),\n",
        "            transforms.ToTensor(),\n",
        "            transforms.Normalize([0.485, 0.456, 0.406],[0.229, 0.224, 0.225])\n",
        "                                   ]),\n",
        "        \"test\":transforms.Compose([\n",
        "            transforms.Resize(256),\n",
        "            transforms.CenterCrop(128),\n",
        "            transforms.ToTensor(),\n",
        "            transforms.Normalize([0.485, 0.456, 0.406],[0.229, 0.224, 0.225])\n",
        "        ])\n",
        "}"
      ],
      "metadata": {
        "execution": {
          "iopub.status.busy": "2022-11-04T07:55:11.925313Z",
          "iopub.execute_input": "2022-11-04T07:55:11.925756Z",
          "iopub.status.idle": "2022-11-04T07:55:11.933681Z",
          "shell.execute_reply.started": "2022-11-04T07:55:11.925724Z",
          "shell.execute_reply": "2022-11-04T07:55:11.932694Z"
        },
        "trusted": true,
        "id": "Y9Dsa3kWw2qP"
      },
      "execution_count": 14,
      "outputs": []
    },
    {
      "cell_type": "code",
      "source": [
        "data_sets = {\n",
        "    \"train\":datasets.ImageFolder(train_path,transform = data_transforms['train']),\n",
        "    \"val\":datasets.ImageFolder(val_path,transform = data_transforms['val']),\n",
        "    \"test\":datasets.ImageFolder(test_path,transform = data_transforms['test']),\n",
        "}\n",
        "num_train = len(data_sets[\"train\"])\n",
        "num_val = len(data_sets[\"val\"])\n",
        "datasizes = {'train':num_train,'val':num_val}"
      ],
      "metadata": {
        "execution": {
          "iopub.status.busy": "2022-11-04T07:55:54.632691Z",
          "iopub.execute_input": "2022-11-04T07:55:54.633078Z",
          "iopub.status.idle": "2022-11-04T07:55:54.661733Z",
          "shell.execute_reply.started": "2022-11-04T07:55:54.633044Z",
          "shell.execute_reply": "2022-11-04T07:55:54.660812Z"
        },
        "trusted": true,
        "id": "6GbF6XkPw2qP"
      },
      "execution_count": 15,
      "outputs": []
    },
    {
      "cell_type": "code",
      "source": [
        "batch_size = 32\n",
        "nw = min([os.cpu_count(), batch_size if batch_size > 1 else 0, 8])  # number of workers\n",
        "print('Using {} dataloader workers every process'.format(nw))"
      ],
      "metadata": {
        "execution": {
          "iopub.status.busy": "2022-11-04T07:56:46.338345Z",
          "iopub.execute_input": "2022-11-04T07:56:46.338738Z",
          "iopub.status.idle": "2022-11-04T07:56:46.345252Z",
          "shell.execute_reply.started": "2022-11-04T07:56:46.338703Z",
          "shell.execute_reply": "2022-11-04T07:56:46.344184Z"
        },
        "trusted": true,
        "id": "F3FY7-P3w2qQ",
        "colab": {
          "base_uri": "https://localhost:8080/"
        },
        "outputId": "f9be1a7c-2daa-4131-c0bb-1718a7da32d4"
      },
      "execution_count": 16,
      "outputs": [
        {
          "output_type": "stream",
          "name": "stdout",
          "text": [
            "Using 2 dataloader workers every process\n"
          ]
        }
      ]
    },
    {
      "cell_type": "markdown",
      "source": [
        "Define dataloader"
      ],
      "metadata": {
        "id": "FNhkLQu5w2qQ"
      }
    },
    {
      "cell_type": "code",
      "source": [
        "dataloaders = {\n",
        "    \"train\":torch.utils.data.DataLoader(data_sets['train'],batch_size=batch_size,shuffle=True,num_workers=nw),\n",
        "    \"val\":torch.utils.data.DataLoader(data_sets['val'],batch_size=batch_size,shuffle=False,num_workers=nw),\n",
        "    \"test\":torch.utils.data.DataLoader(data_sets['test'],batch_size=batch_size,shuffle=False,num_workers=nw)\n",
        "}"
      ],
      "metadata": {
        "execution": {
          "iopub.status.busy": "2022-11-04T07:56:48.148659Z",
          "iopub.execute_input": "2022-11-04T07:56:48.149577Z",
          "iopub.status.idle": "2022-11-04T07:56:48.155886Z",
          "shell.execute_reply.started": "2022-11-04T07:56:48.149527Z",
          "shell.execute_reply": "2022-11-04T07:56:48.154898Z"
        },
        "trusted": true,
        "id": "XvOLzU74w2qQ"
      },
      "execution_count": 17,
      "outputs": []
    },
    {
      "cell_type": "code",
      "source": [
        "\n",
        "for i,data in enumerate(dataloaders['train']):\n",
        "    images,labels = data\n",
        "    print(images.shape)\n",
        "    break"
      ],
      "metadata": {
        "execution": {
          "iopub.status.busy": "2022-11-04T07:56:50.362046Z",
          "iopub.execute_input": "2022-11-04T07:56:50.362739Z",
          "iopub.status.idle": "2022-11-04T07:56:51.579189Z",
          "shell.execute_reply.started": "2022-11-04T07:56:50.362686Z",
          "shell.execute_reply": "2022-11-04T07:56:51.577997Z"
        },
        "trusted": true,
        "id": "jmpUfwmMw2qQ",
        "colab": {
          "base_uri": "https://localhost:8080/"
        },
        "outputId": "22345bdd-aff0-4375-f55d-0b0b6af4ec6a"
      },
      "execution_count": 18,
      "outputs": [
        {
          "output_type": "stream",
          "name": "stdout",
          "text": [
            "torch.Size([32, 3, 256, 256])\n"
          ]
        }
      ]
    },
    {
      "cell_type": "markdown",
      "source": [
        "choose a pretrained model"
      ],
      "metadata": {
        "id": "tCe5YWDtw2qR"
      }
    },
    {
      "cell_type": "code",
      "source": [
        "device = torch.device(\"cuda\" if torch.cuda.is_available() else \"cpu\")\n",
        "model=models.mobilenet_v3_large(pretrained=True)\n",
        "num_features=model.classifier[0].in_features\n",
        "model.classifier=nn.Sequential(\n",
        "    nn.Linear(in_features=num_features, out_features=4096, bias=True),\n",
        "    nn.ReLU(inplace=True),\n",
        "    nn.Dropout(p=0.5, inplace=False),\n",
        "    nn.Linear(in_features=4096, out_features=4096, bias=True),\n",
        "    nn.ReLU(inplace=True),\n",
        "    nn.Dropout(p=0.5, inplace=False),\n",
        "    nn.Linear(in_features=4096, out_features=4, bias=True)\n",
        "  )\n",
        "model.to(device)"
      ],
      "metadata": {
        "execution": {
          "iopub.status.busy": "2022-11-04T08:00:22.883308Z",
          "iopub.execute_input": "2022-11-04T08:00:22.883706Z",
          "iopub.status.idle": "2022-11-04T08:00:26.538493Z",
          "shell.execute_reply.started": "2022-11-04T08:00:22.883672Z",
          "shell.execute_reply": "2022-11-04T08:00:26.537525Z"
        },
        "scrolled": true,
        "trusted": true,
        "id": "qTE4H3Fiw2qR",
        "colab": {
          "base_uri": "https://localhost:8080/",
          "height": 1000,
          "referenced_widgets": [
            "43516238475641e9a668a749ee8b3a47",
            "d8a9aa5a8cfa4704a7dec9bbb530d874",
            "d2e6dd2200e84304ae4b33ec94c66849",
            "e0e2b6fd021246358cbfaa22c9a0fd43",
            "9e24f6c1544a47879f3cdd19ce8e5d0e",
            "5001649cc57947c6bae4b346706094fa",
            "c3ee9c4ca0f14e5aaca7c28ab3594439",
            "9ff047339bf146a8be0afa220e855a01",
            "b94fbf68710a4423aafddfc9d144c795",
            "a86f9469135547aa8a3c9a589b887d20",
            "8ae00b78fe784f8fa7356c632139af7e"
          ]
        },
        "outputId": "dc1eaabe-b36e-42bc-eea1-3aee1806e5ff"
      },
      "execution_count": 19,
      "outputs": [
        {
          "output_type": "stream",
          "name": "stderr",
          "text": [
            "/usr/local/lib/python3.7/dist-packages/torchvision/models/_utils.py:209: UserWarning: The parameter 'pretrained' is deprecated since 0.13 and may be removed in the future, please use 'weights' instead.\n",
            "  f\"The parameter '{pretrained_param}' is deprecated since 0.13 and may be removed in the future, \"\n",
            "/usr/local/lib/python3.7/dist-packages/torchvision/models/_utils.py:223: UserWarning: Arguments other than a weight enum or `None` for 'weights' are deprecated since 0.13 and may be removed in the future. The current behavior is equivalent to passing `weights=MobileNet_V3_Large_Weights.IMAGENET1K_V1`. You can also use `weights=MobileNet_V3_Large_Weights.DEFAULT` to get the most up-to-date weights.\n",
            "  warnings.warn(msg)\n",
            "Downloading: \"https://download.pytorch.org/models/mobilenet_v3_large-8738ca79.pth\" to /root/.cache/torch/hub/checkpoints/mobilenet_v3_large-8738ca79.pth\n"
          ]
        },
        {
          "output_type": "display_data",
          "data": {
            "text/plain": [
              "  0%|          | 0.00/21.1M [00:00<?, ?B/s]"
            ],
            "application/vnd.jupyter.widget-view+json": {
              "version_major": 2,
              "version_minor": 0,
              "model_id": "43516238475641e9a668a749ee8b3a47"
            }
          },
          "metadata": {}
        },
        {
          "output_type": "execute_result",
          "data": {
            "text/plain": [
              "MobileNetV3(\n",
              "  (features): Sequential(\n",
              "    (0): Conv2dNormActivation(\n",
              "      (0): Conv2d(3, 16, kernel_size=(3, 3), stride=(2, 2), padding=(1, 1), bias=False)\n",
              "      (1): BatchNorm2d(16, eps=0.001, momentum=0.01, affine=True, track_running_stats=True)\n",
              "      (2): Hardswish()\n",
              "    )\n",
              "    (1): InvertedResidual(\n",
              "      (block): Sequential(\n",
              "        (0): Conv2dNormActivation(\n",
              "          (0): Conv2d(16, 16, kernel_size=(3, 3), stride=(1, 1), padding=(1, 1), groups=16, bias=False)\n",
              "          (1): BatchNorm2d(16, eps=0.001, momentum=0.01, affine=True, track_running_stats=True)\n",
              "          (2): ReLU(inplace=True)\n",
              "        )\n",
              "        (1): Conv2dNormActivation(\n",
              "          (0): Conv2d(16, 16, kernel_size=(1, 1), stride=(1, 1), bias=False)\n",
              "          (1): BatchNorm2d(16, eps=0.001, momentum=0.01, affine=True, track_running_stats=True)\n",
              "        )\n",
              "      )\n",
              "    )\n",
              "    (2): InvertedResidual(\n",
              "      (block): Sequential(\n",
              "        (0): Conv2dNormActivation(\n",
              "          (0): Conv2d(16, 64, kernel_size=(1, 1), stride=(1, 1), bias=False)\n",
              "          (1): BatchNorm2d(64, eps=0.001, momentum=0.01, affine=True, track_running_stats=True)\n",
              "          (2): ReLU(inplace=True)\n",
              "        )\n",
              "        (1): Conv2dNormActivation(\n",
              "          (0): Conv2d(64, 64, kernel_size=(3, 3), stride=(2, 2), padding=(1, 1), groups=64, bias=False)\n",
              "          (1): BatchNorm2d(64, eps=0.001, momentum=0.01, affine=True, track_running_stats=True)\n",
              "          (2): ReLU(inplace=True)\n",
              "        )\n",
              "        (2): Conv2dNormActivation(\n",
              "          (0): Conv2d(64, 24, kernel_size=(1, 1), stride=(1, 1), bias=False)\n",
              "          (1): BatchNorm2d(24, eps=0.001, momentum=0.01, affine=True, track_running_stats=True)\n",
              "        )\n",
              "      )\n",
              "    )\n",
              "    (3): InvertedResidual(\n",
              "      (block): Sequential(\n",
              "        (0): Conv2dNormActivation(\n",
              "          (0): Conv2d(24, 72, kernel_size=(1, 1), stride=(1, 1), bias=False)\n",
              "          (1): BatchNorm2d(72, eps=0.001, momentum=0.01, affine=True, track_running_stats=True)\n",
              "          (2): ReLU(inplace=True)\n",
              "        )\n",
              "        (1): Conv2dNormActivation(\n",
              "          (0): Conv2d(72, 72, kernel_size=(3, 3), stride=(1, 1), padding=(1, 1), groups=72, bias=False)\n",
              "          (1): BatchNorm2d(72, eps=0.001, momentum=0.01, affine=True, track_running_stats=True)\n",
              "          (2): ReLU(inplace=True)\n",
              "        )\n",
              "        (2): Conv2dNormActivation(\n",
              "          (0): Conv2d(72, 24, kernel_size=(1, 1), stride=(1, 1), bias=False)\n",
              "          (1): BatchNorm2d(24, eps=0.001, momentum=0.01, affine=True, track_running_stats=True)\n",
              "        )\n",
              "      )\n",
              "    )\n",
              "    (4): InvertedResidual(\n",
              "      (block): Sequential(\n",
              "        (0): Conv2dNormActivation(\n",
              "          (0): Conv2d(24, 72, kernel_size=(1, 1), stride=(1, 1), bias=False)\n",
              "          (1): BatchNorm2d(72, eps=0.001, momentum=0.01, affine=True, track_running_stats=True)\n",
              "          (2): ReLU(inplace=True)\n",
              "        )\n",
              "        (1): Conv2dNormActivation(\n",
              "          (0): Conv2d(72, 72, kernel_size=(5, 5), stride=(2, 2), padding=(2, 2), groups=72, bias=False)\n",
              "          (1): BatchNorm2d(72, eps=0.001, momentum=0.01, affine=True, track_running_stats=True)\n",
              "          (2): ReLU(inplace=True)\n",
              "        )\n",
              "        (2): SqueezeExcitation(\n",
              "          (avgpool): AdaptiveAvgPool2d(output_size=1)\n",
              "          (fc1): Conv2d(72, 24, kernel_size=(1, 1), stride=(1, 1))\n",
              "          (fc2): Conv2d(24, 72, kernel_size=(1, 1), stride=(1, 1))\n",
              "          (activation): ReLU()\n",
              "          (scale_activation): Hardsigmoid()\n",
              "        )\n",
              "        (3): Conv2dNormActivation(\n",
              "          (0): Conv2d(72, 40, kernel_size=(1, 1), stride=(1, 1), bias=False)\n",
              "          (1): BatchNorm2d(40, eps=0.001, momentum=0.01, affine=True, track_running_stats=True)\n",
              "        )\n",
              "      )\n",
              "    )\n",
              "    (5): InvertedResidual(\n",
              "      (block): Sequential(\n",
              "        (0): Conv2dNormActivation(\n",
              "          (0): Conv2d(40, 120, kernel_size=(1, 1), stride=(1, 1), bias=False)\n",
              "          (1): BatchNorm2d(120, eps=0.001, momentum=0.01, affine=True, track_running_stats=True)\n",
              "          (2): ReLU(inplace=True)\n",
              "        )\n",
              "        (1): Conv2dNormActivation(\n",
              "          (0): Conv2d(120, 120, kernel_size=(5, 5), stride=(1, 1), padding=(2, 2), groups=120, bias=False)\n",
              "          (1): BatchNorm2d(120, eps=0.001, momentum=0.01, affine=True, track_running_stats=True)\n",
              "          (2): ReLU(inplace=True)\n",
              "        )\n",
              "        (2): SqueezeExcitation(\n",
              "          (avgpool): AdaptiveAvgPool2d(output_size=1)\n",
              "          (fc1): Conv2d(120, 32, kernel_size=(1, 1), stride=(1, 1))\n",
              "          (fc2): Conv2d(32, 120, kernel_size=(1, 1), stride=(1, 1))\n",
              "          (activation): ReLU()\n",
              "          (scale_activation): Hardsigmoid()\n",
              "        )\n",
              "        (3): Conv2dNormActivation(\n",
              "          (0): Conv2d(120, 40, kernel_size=(1, 1), stride=(1, 1), bias=False)\n",
              "          (1): BatchNorm2d(40, eps=0.001, momentum=0.01, affine=True, track_running_stats=True)\n",
              "        )\n",
              "      )\n",
              "    )\n",
              "    (6): InvertedResidual(\n",
              "      (block): Sequential(\n",
              "        (0): Conv2dNormActivation(\n",
              "          (0): Conv2d(40, 120, kernel_size=(1, 1), stride=(1, 1), bias=False)\n",
              "          (1): BatchNorm2d(120, eps=0.001, momentum=0.01, affine=True, track_running_stats=True)\n",
              "          (2): ReLU(inplace=True)\n",
              "        )\n",
              "        (1): Conv2dNormActivation(\n",
              "          (0): Conv2d(120, 120, kernel_size=(5, 5), stride=(1, 1), padding=(2, 2), groups=120, bias=False)\n",
              "          (1): BatchNorm2d(120, eps=0.001, momentum=0.01, affine=True, track_running_stats=True)\n",
              "          (2): ReLU(inplace=True)\n",
              "        )\n",
              "        (2): SqueezeExcitation(\n",
              "          (avgpool): AdaptiveAvgPool2d(output_size=1)\n",
              "          (fc1): Conv2d(120, 32, kernel_size=(1, 1), stride=(1, 1))\n",
              "          (fc2): Conv2d(32, 120, kernel_size=(1, 1), stride=(1, 1))\n",
              "          (activation): ReLU()\n",
              "          (scale_activation): Hardsigmoid()\n",
              "        )\n",
              "        (3): Conv2dNormActivation(\n",
              "          (0): Conv2d(120, 40, kernel_size=(1, 1), stride=(1, 1), bias=False)\n",
              "          (1): BatchNorm2d(40, eps=0.001, momentum=0.01, affine=True, track_running_stats=True)\n",
              "        )\n",
              "      )\n",
              "    )\n",
              "    (7): InvertedResidual(\n",
              "      (block): Sequential(\n",
              "        (0): Conv2dNormActivation(\n",
              "          (0): Conv2d(40, 240, kernel_size=(1, 1), stride=(1, 1), bias=False)\n",
              "          (1): BatchNorm2d(240, eps=0.001, momentum=0.01, affine=True, track_running_stats=True)\n",
              "          (2): Hardswish()\n",
              "        )\n",
              "        (1): Conv2dNormActivation(\n",
              "          (0): Conv2d(240, 240, kernel_size=(3, 3), stride=(2, 2), padding=(1, 1), groups=240, bias=False)\n",
              "          (1): BatchNorm2d(240, eps=0.001, momentum=0.01, affine=True, track_running_stats=True)\n",
              "          (2): Hardswish()\n",
              "        )\n",
              "        (2): Conv2dNormActivation(\n",
              "          (0): Conv2d(240, 80, kernel_size=(1, 1), stride=(1, 1), bias=False)\n",
              "          (1): BatchNorm2d(80, eps=0.001, momentum=0.01, affine=True, track_running_stats=True)\n",
              "        )\n",
              "      )\n",
              "    )\n",
              "    (8): InvertedResidual(\n",
              "      (block): Sequential(\n",
              "        (0): Conv2dNormActivation(\n",
              "          (0): Conv2d(80, 200, kernel_size=(1, 1), stride=(1, 1), bias=False)\n",
              "          (1): BatchNorm2d(200, eps=0.001, momentum=0.01, affine=True, track_running_stats=True)\n",
              "          (2): Hardswish()\n",
              "        )\n",
              "        (1): Conv2dNormActivation(\n",
              "          (0): Conv2d(200, 200, kernel_size=(3, 3), stride=(1, 1), padding=(1, 1), groups=200, bias=False)\n",
              "          (1): BatchNorm2d(200, eps=0.001, momentum=0.01, affine=True, track_running_stats=True)\n",
              "          (2): Hardswish()\n",
              "        )\n",
              "        (2): Conv2dNormActivation(\n",
              "          (0): Conv2d(200, 80, kernel_size=(1, 1), stride=(1, 1), bias=False)\n",
              "          (1): BatchNorm2d(80, eps=0.001, momentum=0.01, affine=True, track_running_stats=True)\n",
              "        )\n",
              "      )\n",
              "    )\n",
              "    (9): InvertedResidual(\n",
              "      (block): Sequential(\n",
              "        (0): Conv2dNormActivation(\n",
              "          (0): Conv2d(80, 184, kernel_size=(1, 1), stride=(1, 1), bias=False)\n",
              "          (1): BatchNorm2d(184, eps=0.001, momentum=0.01, affine=True, track_running_stats=True)\n",
              "          (2): Hardswish()\n",
              "        )\n",
              "        (1): Conv2dNormActivation(\n",
              "          (0): Conv2d(184, 184, kernel_size=(3, 3), stride=(1, 1), padding=(1, 1), groups=184, bias=False)\n",
              "          (1): BatchNorm2d(184, eps=0.001, momentum=0.01, affine=True, track_running_stats=True)\n",
              "          (2): Hardswish()\n",
              "        )\n",
              "        (2): Conv2dNormActivation(\n",
              "          (0): Conv2d(184, 80, kernel_size=(1, 1), stride=(1, 1), bias=False)\n",
              "          (1): BatchNorm2d(80, eps=0.001, momentum=0.01, affine=True, track_running_stats=True)\n",
              "        )\n",
              "      )\n",
              "    )\n",
              "    (10): InvertedResidual(\n",
              "      (block): Sequential(\n",
              "        (0): Conv2dNormActivation(\n",
              "          (0): Conv2d(80, 184, kernel_size=(1, 1), stride=(1, 1), bias=False)\n",
              "          (1): BatchNorm2d(184, eps=0.001, momentum=0.01, affine=True, track_running_stats=True)\n",
              "          (2): Hardswish()\n",
              "        )\n",
              "        (1): Conv2dNormActivation(\n",
              "          (0): Conv2d(184, 184, kernel_size=(3, 3), stride=(1, 1), padding=(1, 1), groups=184, bias=False)\n",
              "          (1): BatchNorm2d(184, eps=0.001, momentum=0.01, affine=True, track_running_stats=True)\n",
              "          (2): Hardswish()\n",
              "        )\n",
              "        (2): Conv2dNormActivation(\n",
              "          (0): Conv2d(184, 80, kernel_size=(1, 1), stride=(1, 1), bias=False)\n",
              "          (1): BatchNorm2d(80, eps=0.001, momentum=0.01, affine=True, track_running_stats=True)\n",
              "        )\n",
              "      )\n",
              "    )\n",
              "    (11): InvertedResidual(\n",
              "      (block): Sequential(\n",
              "        (0): Conv2dNormActivation(\n",
              "          (0): Conv2d(80, 480, kernel_size=(1, 1), stride=(1, 1), bias=False)\n",
              "          (1): BatchNorm2d(480, eps=0.001, momentum=0.01, affine=True, track_running_stats=True)\n",
              "          (2): Hardswish()\n",
              "        )\n",
              "        (1): Conv2dNormActivation(\n",
              "          (0): Conv2d(480, 480, kernel_size=(3, 3), stride=(1, 1), padding=(1, 1), groups=480, bias=False)\n",
              "          (1): BatchNorm2d(480, eps=0.001, momentum=0.01, affine=True, track_running_stats=True)\n",
              "          (2): Hardswish()\n",
              "        )\n",
              "        (2): SqueezeExcitation(\n",
              "          (avgpool): AdaptiveAvgPool2d(output_size=1)\n",
              "          (fc1): Conv2d(480, 120, kernel_size=(1, 1), stride=(1, 1))\n",
              "          (fc2): Conv2d(120, 480, kernel_size=(1, 1), stride=(1, 1))\n",
              "          (activation): ReLU()\n",
              "          (scale_activation): Hardsigmoid()\n",
              "        )\n",
              "        (3): Conv2dNormActivation(\n",
              "          (0): Conv2d(480, 112, kernel_size=(1, 1), stride=(1, 1), bias=False)\n",
              "          (1): BatchNorm2d(112, eps=0.001, momentum=0.01, affine=True, track_running_stats=True)\n",
              "        )\n",
              "      )\n",
              "    )\n",
              "    (12): InvertedResidual(\n",
              "      (block): Sequential(\n",
              "        (0): Conv2dNormActivation(\n",
              "          (0): Conv2d(112, 672, kernel_size=(1, 1), stride=(1, 1), bias=False)\n",
              "          (1): BatchNorm2d(672, eps=0.001, momentum=0.01, affine=True, track_running_stats=True)\n",
              "          (2): Hardswish()\n",
              "        )\n",
              "        (1): Conv2dNormActivation(\n",
              "          (0): Conv2d(672, 672, kernel_size=(3, 3), stride=(1, 1), padding=(1, 1), groups=672, bias=False)\n",
              "          (1): BatchNorm2d(672, eps=0.001, momentum=0.01, affine=True, track_running_stats=True)\n",
              "          (2): Hardswish()\n",
              "        )\n",
              "        (2): SqueezeExcitation(\n",
              "          (avgpool): AdaptiveAvgPool2d(output_size=1)\n",
              "          (fc1): Conv2d(672, 168, kernel_size=(1, 1), stride=(1, 1))\n",
              "          (fc2): Conv2d(168, 672, kernel_size=(1, 1), stride=(1, 1))\n",
              "          (activation): ReLU()\n",
              "          (scale_activation): Hardsigmoid()\n",
              "        )\n",
              "        (3): Conv2dNormActivation(\n",
              "          (0): Conv2d(672, 112, kernel_size=(1, 1), stride=(1, 1), bias=False)\n",
              "          (1): BatchNorm2d(112, eps=0.001, momentum=0.01, affine=True, track_running_stats=True)\n",
              "        )\n",
              "      )\n",
              "    )\n",
              "    (13): InvertedResidual(\n",
              "      (block): Sequential(\n",
              "        (0): Conv2dNormActivation(\n",
              "          (0): Conv2d(112, 672, kernel_size=(1, 1), stride=(1, 1), bias=False)\n",
              "          (1): BatchNorm2d(672, eps=0.001, momentum=0.01, affine=True, track_running_stats=True)\n",
              "          (2): Hardswish()\n",
              "        )\n",
              "        (1): Conv2dNormActivation(\n",
              "          (0): Conv2d(672, 672, kernel_size=(5, 5), stride=(2, 2), padding=(2, 2), groups=672, bias=False)\n",
              "          (1): BatchNorm2d(672, eps=0.001, momentum=0.01, affine=True, track_running_stats=True)\n",
              "          (2): Hardswish()\n",
              "        )\n",
              "        (2): SqueezeExcitation(\n",
              "          (avgpool): AdaptiveAvgPool2d(output_size=1)\n",
              "          (fc1): Conv2d(672, 168, kernel_size=(1, 1), stride=(1, 1))\n",
              "          (fc2): Conv2d(168, 672, kernel_size=(1, 1), stride=(1, 1))\n",
              "          (activation): ReLU()\n",
              "          (scale_activation): Hardsigmoid()\n",
              "        )\n",
              "        (3): Conv2dNormActivation(\n",
              "          (0): Conv2d(672, 160, kernel_size=(1, 1), stride=(1, 1), bias=False)\n",
              "          (1): BatchNorm2d(160, eps=0.001, momentum=0.01, affine=True, track_running_stats=True)\n",
              "        )\n",
              "      )\n",
              "    )\n",
              "    (14): InvertedResidual(\n",
              "      (block): Sequential(\n",
              "        (0): Conv2dNormActivation(\n",
              "          (0): Conv2d(160, 960, kernel_size=(1, 1), stride=(1, 1), bias=False)\n",
              "          (1): BatchNorm2d(960, eps=0.001, momentum=0.01, affine=True, track_running_stats=True)\n",
              "          (2): Hardswish()\n",
              "        )\n",
              "        (1): Conv2dNormActivation(\n",
              "          (0): Conv2d(960, 960, kernel_size=(5, 5), stride=(1, 1), padding=(2, 2), groups=960, bias=False)\n",
              "          (1): BatchNorm2d(960, eps=0.001, momentum=0.01, affine=True, track_running_stats=True)\n",
              "          (2): Hardswish()\n",
              "        )\n",
              "        (2): SqueezeExcitation(\n",
              "          (avgpool): AdaptiveAvgPool2d(output_size=1)\n",
              "          (fc1): Conv2d(960, 240, kernel_size=(1, 1), stride=(1, 1))\n",
              "          (fc2): Conv2d(240, 960, kernel_size=(1, 1), stride=(1, 1))\n",
              "          (activation): ReLU()\n",
              "          (scale_activation): Hardsigmoid()\n",
              "        )\n",
              "        (3): Conv2dNormActivation(\n",
              "          (0): Conv2d(960, 160, kernel_size=(1, 1), stride=(1, 1), bias=False)\n",
              "          (1): BatchNorm2d(160, eps=0.001, momentum=0.01, affine=True, track_running_stats=True)\n",
              "        )\n",
              "      )\n",
              "    )\n",
              "    (15): InvertedResidual(\n",
              "      (block): Sequential(\n",
              "        (0): Conv2dNormActivation(\n",
              "          (0): Conv2d(160, 960, kernel_size=(1, 1), stride=(1, 1), bias=False)\n",
              "          (1): BatchNorm2d(960, eps=0.001, momentum=0.01, affine=True, track_running_stats=True)\n",
              "          (2): Hardswish()\n",
              "        )\n",
              "        (1): Conv2dNormActivation(\n",
              "          (0): Conv2d(960, 960, kernel_size=(5, 5), stride=(1, 1), padding=(2, 2), groups=960, bias=False)\n",
              "          (1): BatchNorm2d(960, eps=0.001, momentum=0.01, affine=True, track_running_stats=True)\n",
              "          (2): Hardswish()\n",
              "        )\n",
              "        (2): SqueezeExcitation(\n",
              "          (avgpool): AdaptiveAvgPool2d(output_size=1)\n",
              "          (fc1): Conv2d(960, 240, kernel_size=(1, 1), stride=(1, 1))\n",
              "          (fc2): Conv2d(240, 960, kernel_size=(1, 1), stride=(1, 1))\n",
              "          (activation): ReLU()\n",
              "          (scale_activation): Hardsigmoid()\n",
              "        )\n",
              "        (3): Conv2dNormActivation(\n",
              "          (0): Conv2d(960, 160, kernel_size=(1, 1), stride=(1, 1), bias=False)\n",
              "          (1): BatchNorm2d(160, eps=0.001, momentum=0.01, affine=True, track_running_stats=True)\n",
              "        )\n",
              "      )\n",
              "    )\n",
              "    (16): Conv2dNormActivation(\n",
              "      (0): Conv2d(160, 960, kernel_size=(1, 1), stride=(1, 1), bias=False)\n",
              "      (1): BatchNorm2d(960, eps=0.001, momentum=0.01, affine=True, track_running_stats=True)\n",
              "      (2): Hardswish()\n",
              "    )\n",
              "  )\n",
              "  (avgpool): AdaptiveAvgPool2d(output_size=1)\n",
              "  (classifier): Sequential(\n",
              "    (0): Linear(in_features=960, out_features=4096, bias=True)\n",
              "    (1): ReLU(inplace=True)\n",
              "    (2): Dropout(p=0.5, inplace=False)\n",
              "    (3): Linear(in_features=4096, out_features=4096, bias=True)\n",
              "    (4): ReLU(inplace=True)\n",
              "    (5): Dropout(p=0.5, inplace=False)\n",
              "    (6): Linear(in_features=4096, out_features=4, bias=True)\n",
              "  )\n",
              ")"
            ]
          },
          "metadata": {},
          "execution_count": 19
        }
      ]
    },
    {
      "cell_type": "markdown",
      "source": [
        "Setting Lossfunction Optimizer and HyperParameters "
      ],
      "metadata": {
        "id": "XuRkMLp1w2qR"
      }
    },
    {
      "cell_type": "code",
      "source": [
        "optimizer=torch.optim.Adam(model.parameters(),lr=0.001,weight_decay=0.0001)\n",
        "loss_function=nn.CrossEntropyLoss()\n",
        "scheduler = torch.optim.lr_scheduler.StepLR(optimizer, step_size=7, gamma=0.1)"
      ],
      "metadata": {
        "execution": {
          "iopub.status.busy": "2022-11-04T08:01:22.94788Z",
          "iopub.execute_input": "2022-11-04T08:01:22.94829Z",
          "iopub.status.idle": "2022-11-04T08:01:22.957011Z",
          "shell.execute_reply.started": "2022-11-04T08:01:22.948257Z",
          "shell.execute_reply": "2022-11-04T08:01:22.95583Z"
        },
        "trusted": true,
        "id": "58lXPhvcw2qR"
      },
      "execution_count": 20,
      "outputs": []
    },
    {
      "cell_type": "code",
      "source": [
        "num_epochs = 30\n",
        "best_acc = 0.0\n",
        "train_loss_list = []\n",
        "train_acc_list = []\n",
        "val_loss_list = []\n",
        "val_acc_list = []"
      ],
      "metadata": {
        "execution": {
          "iopub.status.busy": "2022-11-04T08:00:35.811359Z",
          "iopub.execute_input": "2022-11-04T08:00:35.811778Z",
          "iopub.status.idle": "2022-11-04T08:00:35.817616Z",
          "shell.execute_reply.started": "2022-11-04T08:00:35.811744Z",
          "shell.execute_reply": "2022-11-04T08:00:35.816652Z"
        },
        "trusted": true,
        "id": "QePYkQ7kw2qS"
      },
      "execution_count": 21,
      "outputs": []
    },
    {
      "cell_type": "code",
      "source": [
        "for epoch in range(num_epochs):\n",
        "\n",
        "    print('Epoch {}/{}'.format(epoch+1, num_epochs))\n",
        "    print('-' * 10)\n",
        "    for phase in ['train', 'val']:\n",
        "            if phase == 'train':\n",
        "                model.train()  # Set model to training mode\n",
        "            else:\n",
        "                model.eval()   # Set model to evaluate mode\n",
        "            running_loss = 0.0\n",
        "            running_corrects = 0\n",
        "            train_bar = tqdm(dataloaders[phase], file=sys.stdout)\n",
        "            \n",
        "            #batch\n",
        "            for step,data in enumerate(train_bar):\n",
        "                optimizer.zero_grad()\n",
        "                X,y_true = data\n",
        "                with torch.set_grad_enabled(phase == 'train'):\n",
        "                    y_predict = model(X.to(device))\n",
        "                    _, pred_labels = torch.max(y_predict, 1)\n",
        "                    # _, pred_labels = torch.max(y_predict.item(), 1)\n",
        "                    loss = loss_function(y_predict, y_true.to(device))\n",
        "                    if phase == 'train':\n",
        "                        loss.backward()\n",
        "                        optimizer.step()\n",
        "                running_loss += loss.item() * X.size(0)#batch_size\n",
        "                running_corrects += torch.sum(pred_labels == y_true.data.to(device))\n",
        "                # running_corrects += torch.sum(pred_labels == y_true.data)\n",
        "            if phase == 'train':\n",
        "                scheduler.step()\n",
        "                \n",
        "            epoch_loss = running_loss / datasizes[phase]\n",
        "            epoch_acc = running_corrects.double() / datasizes[phase]\n",
        "            if phase == 'train':\n",
        "                train_loss_list.append(epoch_loss)\n",
        "                train_acc_list.append(epoch_acc)\n",
        "            elif phase == 'val':\n",
        "                val_loss_list.append(epoch_loss)\n",
        "                val_acc_list.append(epoch_acc)\n",
        "            print('Loss: {:.4f} Acc: {:.4f}'.format(phase, epoch_loss, epoch_acc))\n",
        "            \n",
        "            \n",
        "            if phase == 'val' and epoch_acc > best_acc:\n",
        "                best_acc = epoch_acc\n",
        "                best_model_wts = copy.deepcopy(model.state_dict())\n",
        "                torch.save(model.state_dict(),'best_checkpoint.model')\n",
        "                \n",
        "print('Best val Acc: {:4f}'.format(best_acc))      "
      ],
      "metadata": {
        "execution": {
          "iopub.status.busy": "2022-11-04T08:01:25.205049Z",
          "iopub.execute_input": "2022-11-04T08:01:25.20556Z",
          "iopub.status.idle": "2022-11-04T08:11:30.631413Z",
          "shell.execute_reply.started": "2022-11-04T08:01:25.205519Z",
          "shell.execute_reply": "2022-11-04T08:11:30.630288Z"
        },
        "trusted": true,
        "id": "T6m5qNMew2qS",
        "colab": {
          "base_uri": "https://localhost:8080/"
        },
        "outputId": "04954537-1d36-4227-b7b0-a9e886330661"
      },
      "execution_count": 22,
      "outputs": [
        {
          "output_type": "stream",
          "name": "stdout",
          "text": [
            "Epoch 1/30\n",
            "----------\n",
            "100%|██████████| 72/72 [07:25<00:00,  6.18s/it]\n",
            "train阶段 Loss: 0.7330 Acc: 0.7343\n",
            "100%|██████████| 19/19 [00:09<00:00,  1.91it/s]\n",
            "val阶段 Loss: 4.2609 Acc: 0.5035\n",
            "Epoch 2/30\n",
            "----------\n",
            "100%|██████████| 72/72 [11:32<00:00,  9.62s/it]\n",
            "train阶段 Loss: 0.4425 Acc: 0.8365\n",
            "100%|██████████| 19/19 [00:09<00:00,  1.92it/s]\n",
            "val阶段 Loss: 1.2856 Acc: 0.7734\n",
            "Epoch 3/30\n",
            "----------\n",
            "100%|██████████| 72/72 [12:06<00:00, 10.10s/it]\n",
            "train阶段 Loss: 0.4244 Acc: 0.8509\n",
            "100%|██████████| 19/19 [00:09<00:00,  2.07it/s]\n",
            "val阶段 Loss: 1.3722 Acc: 0.7197\n",
            "Epoch 4/30\n",
            "----------\n",
            "100%|██████████| 72/72 [13:48<00:00, 11.50s/it]\n",
            "train阶段 Loss: 0.3350 Acc: 0.8874\n",
            "100%|██████████| 19/19 [00:12<00:00,  1.54it/s]\n",
            "val阶段 Loss: 0.4170 Acc: 0.8616\n",
            "Epoch 5/30\n",
            "----------\n",
            "100%|██████████| 72/72 [11:18<00:00,  9.42s/it]\n",
            "train阶段 Loss: 0.3424 Acc: 0.8757\n",
            "100%|██████████| 19/19 [00:09<00:00,  2.05it/s]\n",
            "val阶段 Loss: 0.4965 Acc: 0.8633\n",
            "Epoch 6/30\n",
            "----------\n",
            "100%|██████████| 72/72 [08:04<00:00,  6.74s/it]\n",
            "train阶段 Loss: 0.2714 Acc: 0.9096\n",
            "100%|██████████| 19/19 [00:13<00:00,  1.42it/s]\n",
            "val阶段 Loss: 0.9194 Acc: 0.7422\n",
            "Epoch 7/30\n",
            "----------\n",
            "100%|██████████| 72/72 [08:40<00:00,  7.22s/it]\n",
            "train阶段 Loss: 0.2767 Acc: 0.9009\n",
            "100%|██████████| 19/19 [00:13<00:00,  1.43it/s]\n",
            "val阶段 Loss: 0.7991 Acc: 0.8253\n",
            "Epoch 8/30\n",
            "----------\n",
            "100%|██████████| 72/72 [11:52<00:00,  9.89s/it]\n",
            "train阶段 Loss: 0.2022 Acc: 0.9296\n",
            "100%|██████████| 19/19 [00:18<00:00,  1.02it/s]\n",
            "val阶段 Loss: 0.3175 Acc: 0.9204\n",
            "Epoch 9/30\n",
            "----------\n",
            "100%|██████████| 72/72 [12:38<00:00, 10.53s/it]\n",
            "train阶段 Loss: 0.1539 Acc: 0.9439\n",
            "100%|██████████| 19/19 [00:27<00:00,  1.42s/it]\n",
            "val阶段 Loss: 0.2679 Acc: 0.9239\n",
            "Epoch 10/30\n",
            "----------\n",
            "100%|██████████| 72/72 [11:46<00:00,  9.81s/it]\n",
            "train阶段 Loss: 0.1425 Acc: 0.9509\n",
            "100%|██████████| 19/19 [00:28<00:00,  1.52s/it]\n",
            "val阶段 Loss: 0.2909 Acc: 0.9204\n",
            "Epoch 11/30\n",
            "----------\n",
            "100%|██████████| 72/72 [08:42<00:00,  7.26s/it]\n",
            "train阶段 Loss: 0.1436 Acc: 0.9500\n",
            "100%|██████████| 19/19 [00:09<00:00,  2.01it/s]\n",
            "val阶段 Loss: 0.2862 Acc: 0.9170\n",
            "Epoch 12/30\n",
            "----------\n",
            "100%|██████████| 72/72 [07:11<00:00,  5.99s/it]\n",
            "train阶段 Loss: 0.1260 Acc: 0.9535\n",
            "100%|██████████| 19/19 [00:09<00:00,  2.02it/s]\n",
            "val阶段 Loss: 0.3841 Acc: 0.9031\n",
            "Epoch 13/30\n",
            "----------\n",
            "100%|██████████| 72/72 [07:12<00:00,  6.01s/it]\n",
            "train阶段 Loss: 0.1350 Acc: 0.9452\n",
            "100%|██████████| 19/19 [00:12<00:00,  1.56it/s]\n",
            "val阶段 Loss: 0.2941 Acc: 0.9221\n",
            "Epoch 14/30\n",
            "----------\n",
            "100%|██████████| 72/72 [07:03<00:00,  5.88s/it]\n",
            "train阶段 Loss: 0.1188 Acc: 0.9583\n",
            "100%|██████████| 19/19 [00:09<00:00,  2.05it/s]\n",
            "val阶段 Loss: 0.3386 Acc: 0.9170\n",
            "Epoch 15/30\n",
            "----------\n",
            "100%|██████████| 72/72 [08:54<00:00,  7.43s/it]\n",
            "train阶段 Loss: 0.1252 Acc: 0.9526\n",
            "100%|██████████| 19/19 [00:09<00:00,  2.04it/s]\n",
            "val阶段 Loss: 0.3208 Acc: 0.9100\n",
            "Epoch 16/30\n",
            "----------\n",
            "100%|██████████| 72/72 [13:27<00:00, 11.22s/it]\n",
            "train阶段 Loss: 0.1103 Acc: 0.9617\n",
            "100%|██████████| 19/19 [00:09<00:00,  1.99it/s]\n",
            "val阶段 Loss: 0.3068 Acc: 0.9083\n",
            "Epoch 17/30\n",
            "----------\n",
            "100%|██████████| 72/72 [16:01<00:00, 13.36s/it]\n",
            "train阶段 Loss: 0.1006 Acc: 0.9570\n",
            "100%|██████████| 19/19 [00:12<00:00,  1.53it/s]\n",
            "val阶段 Loss: 0.3070 Acc: 0.9118\n",
            "Epoch 18/30\n",
            "----------\n",
            "100%|██████████| 72/72 [17:46<00:00, 14.81s/it]\n",
            "train阶段 Loss: 0.1047 Acc: 0.9648\n",
            "100%|██████████| 19/19 [00:14<00:00,  1.32it/s]\n",
            "val阶段 Loss: 0.2958 Acc: 0.9100\n",
            "Epoch 19/30\n",
            "----------\n",
            "100%|██████████| 72/72 [18:07<00:00, 15.11s/it]\n",
            "train阶段 Loss: 0.1070 Acc: 0.9570\n",
            "100%|██████████| 19/19 [00:14<00:00,  1.29it/s]\n",
            "val阶段 Loss: 0.2912 Acc: 0.9118\n",
            "Epoch 20/30\n",
            "----------\n",
            "100%|██████████| 72/72 [18:35<00:00, 15.49s/it]\n",
            "train阶段 Loss: 0.1037 Acc: 0.9643\n",
            "100%|██████████| 19/19 [00:14<00:00,  1.28it/s]\n",
            "val阶段 Loss: 0.2920 Acc: 0.9118\n",
            "Epoch 21/30\n",
            "----------\n",
            "100%|██████████| 72/72 [18:57<00:00, 15.80s/it]\n",
            "train阶段 Loss: 0.1171 Acc: 0.9513\n",
            "100%|██████████| 19/19 [00:14<00:00,  1.28it/s]\n",
            "val阶段 Loss: 0.2969 Acc: 0.9100\n",
            "Epoch 22/30\n",
            "----------\n",
            "100%|██████████| 72/72 [18:57<00:00, 15.80s/it]\n",
            "train阶段 Loss: 0.1051 Acc: 0.9622\n",
            "100%|██████████| 19/19 [00:22<00:00,  1.20s/it]\n",
            "val阶段 Loss: 0.2937 Acc: 0.9135\n",
            "Epoch 23/30\n",
            "----------\n",
            "100%|██████████| 72/72 [19:07<00:00, 15.94s/it]\n",
            "train阶段 Loss: 0.0985 Acc: 0.9661\n",
            "100%|██████████| 19/19 [00:19<00:00,  1.02s/it]\n",
            "val阶段 Loss: 0.2922 Acc: 0.9135\n",
            "Epoch 24/30\n",
            "----------\n",
            "100%|██████████| 72/72 [19:03<00:00, 15.89s/it]\n",
            "train阶段 Loss: 0.1140 Acc: 0.9574\n",
            "100%|██████████| 19/19 [00:20<00:00,  1.08s/it]\n",
            "val阶段 Loss: 0.2899 Acc: 0.9135\n",
            "Epoch 25/30\n",
            "----------\n",
            "100%|██████████| 72/72 [19:08<00:00, 15.95s/it]\n",
            "train阶段 Loss: 0.1079 Acc: 0.9643\n",
            "100%|██████████| 19/19 [00:19<00:00,  1.03s/it]\n",
            "val阶段 Loss: 0.2899 Acc: 0.9135\n",
            "Epoch 26/30\n",
            "----------\n",
            "100%|██████████| 72/72 [19:06<00:00, 15.92s/it]\n",
            "train阶段 Loss: 0.1165 Acc: 0.9570\n",
            "100%|██████████| 19/19 [00:19<00:00,  1.03s/it]\n",
            "val阶段 Loss: 0.2904 Acc: 0.9135\n",
            "Epoch 27/30\n",
            "----------\n",
            "100%|██████████| 72/72 [18:44<00:00, 15.61s/it]\n",
            "train阶段 Loss: 0.1061 Acc: 0.9648\n",
            "100%|██████████| 19/19 [00:18<00:00,  1.01it/s]\n",
            "val阶段 Loss: 0.2940 Acc: 0.9135\n",
            "Epoch 28/30\n",
            "----------\n",
            "100%|██████████| 72/72 [18:43<00:00, 15.60s/it]\n",
            "train阶段 Loss: 0.0988 Acc: 0.9648\n",
            "100%|██████████| 19/19 [00:25<00:00,  1.32s/it]\n",
            "val阶段 Loss: 0.2944 Acc: 0.9118\n",
            "Epoch 29/30\n",
            "----------\n",
            "100%|██████████| 72/72 [18:45<00:00, 15.64s/it]\n",
            "train阶段 Loss: 0.1064 Acc: 0.9596\n",
            "100%|██████████| 19/19 [00:18<00:00,  1.04it/s]\n",
            "val阶段 Loss: 0.2957 Acc: 0.9118\n",
            "Epoch 30/30\n",
            "----------\n",
            "100%|██████████| 72/72 [18:48<00:00, 15.68s/it]\n",
            "train阶段 Loss: 0.1150 Acc: 0.9526\n",
            "100%|██████████| 19/19 [00:15<00:00,  1.25it/s]\n",
            "val阶段 Loss: 0.2922 Acc: 0.9135\n",
            "Best val Acc: 0.923875\n"
          ]
        }
      ]
    },
    {
      "cell_type": "code",
      "source": [
        "acc_dict = {'train':torch.tensor(train_acc_list, device='cpu') .tolist(),'val':torch.tensor(val_acc_list, device='cpu') .tolist()}\n",
        "loss_dict = {'train':torch.tensor(train_loss_list, device='cpu') .tolist(),'val':torch.tensor(val_loss_list, device='cpu').tolist()}"
      ],
      "metadata": {
        "execution": {
          "iopub.status.busy": "2022-11-04T08:13:01.328834Z",
          "iopub.execute_input": "2022-11-04T08:13:01.329242Z",
          "iopub.status.idle": "2022-11-04T08:13:01.337896Z",
          "shell.execute_reply.started": "2022-11-04T08:13:01.329209Z",
          "shell.execute_reply": "2022-11-04T08:13:01.336542Z"
        },
        "trusted": true,
        "id": "TbffvoXdw2qS"
      },
      "execution_count": 23,
      "outputs": []
    },
    {
      "cell_type": "code",
      "source": [
        "max_accvalue = max(acc_dict['val'])\n",
        "max_accidx = acc_dict['val'].index(max_accvalue)+1\n",
        "min_lossvalue = min(loss_dict['val'])\n",
        "min_lossidx = loss_dict['val'].index(min_lossvalue)+1"
      ],
      "metadata": {
        "execution": {
          "iopub.status.busy": "2022-11-04T08:13:02.792666Z",
          "iopub.execute_input": "2022-11-04T08:13:02.793376Z",
          "iopub.status.idle": "2022-11-04T08:13:02.799931Z",
          "shell.execute_reply.started": "2022-11-04T08:13:02.793338Z",
          "shell.execute_reply": "2022-11-04T08:13:02.798573Z"
        },
        "trusted": true,
        "id": "Yl9eDRJ0w2qT"
      },
      "execution_count": 24,
      "outputs": []
    },
    {
      "cell_type": "code",
      "source": [
        "plt.figure(figsize=(20,5))\n",
        "plt.subplot(1,2,1)\n",
        "plt.title('loss')\n",
        "plt.xlabel('epoch')\n",
        "plt.grid(alpha=0.4,linestyle=':')\n",
        "x = [i + 1 for i in range(num_epochs)]\n",
        "for phase in ['train','val']:\n",
        "    plt.plot(x,loss_dict[phase],'-o',label=phase)\n",
        "    plt.legend()\n",
        "    plt.plot(min_lossidx,min_lossvalue,'-ro')\n",
        "    plt.annotate(round(min_lossvalue,2), xy=(min_lossidx, min_lossvalue))\n",
        "plt.subplot(1,2,2)\n",
        "plt.title('acc')\n",
        "plt.xlabel('epoch')\n",
        "plt.grid(alpha=0.4,linestyle=':')\n",
        "for phase in ['train','val']:\n",
        "    plt.plot(x,acc_dict[phase],'-o',label=phase)\n",
        "    plt.legend()\n",
        "    plt.plot(max_accidx,max_accvalue,'-ro')\n",
        "    # plt.annotate(round(max_value,2), xy=(max_idx, max_value),xytext=(max_idx, max_idx))\n",
        "    plt.annotate(round(max_accvalue,2), xy=(max_accidx, max_accvalue))"
      ],
      "metadata": {
        "execution": {
          "iopub.status.busy": "2022-11-04T08:13:04.339404Z",
          "iopub.execute_input": "2022-11-04T08:13:04.34008Z",
          "iopub.status.idle": "2022-11-04T08:13:04.909642Z",
          "shell.execute_reply.started": "2022-11-04T08:13:04.340042Z",
          "shell.execute_reply": "2022-11-04T08:13:04.908462Z"
        },
        "trusted": true,
        "id": "Tlx4Nix3w2qT",
        "colab": {
          "base_uri": "https://localhost:8080/",
          "height": 350
        },
        "outputId": "5b16b2b2-c65e-46b2-8ca3-48dafedd1a54"
      },
      "execution_count": 25,
      "outputs": [
        {
          "output_type": "display_data",
          "data": {
            "text/plain": [
              "<Figure size 1440x360 with 2 Axes>"
            ],
            "image/png": "[encoded data removed]"
          },
          "metadata": {
            "needs_background": "light"
          }
        }
      ]
    },
    {
      "cell_type": "markdown",
      "source": [
        "##  Evaluation"
      ],
      "metadata": {
        "id": "Gcn8sqdtw2qT"
      }
    },
    {
      "cell_type": "code",
      "source": [
        "def test(model,testloader):\n",
        "    with torch.no_grad():\n",
        "        n_correct=0\n",
        "        n_samples=0\n",
        "        y_pred=[]\n",
        "        y_actual=[]\n",
        "        for i,(images,labels) in enumerate(testloader):\n",
        "            images=images.to(device)\n",
        "            labels=labels.to(device)\n",
        "            \n",
        "            outputs=model(images)\n",
        "            \n",
        "            y_actual+=list(np.array(labels.detach().to('cpu')).flatten())\n",
        "        # value ,index\n",
        "            _,predictes=torch.max(outputs,1)\n",
        "            y_pred+=list(np.array(predictes.detach().to('cpu')).flatten())\n",
        "        # number of samples in current batch\n",
        "            n_samples+=labels.shape[0]\n",
        "\n",
        "            n_correct+= (predictes==labels).sum().item()\n",
        "            \n",
        "        y_actual=np.array(y_actual).flatten()\n",
        "        y_pred=np.array(y_pred).flatten()\n",
        "        print(np.unique(y_pred))\n",
        "        acc = classification_report(y_actual,y_pred,target_names=['glioma_tumor', 'meningioma_tumor', 'no_tumor', 'pituitary_tumor'])\n",
        "        print(f\"{acc}\")\n"
      ],
      "metadata": {
        "execution": {
          "iopub.status.busy": "2022-11-04T08:13:16.71277Z",
          "iopub.execute_input": "2022-11-04T08:13:16.71315Z",
          "iopub.status.idle": "2022-11-04T08:13:16.722381Z",
          "shell.execute_reply.started": "2022-11-04T08:13:16.713118Z",
          "shell.execute_reply": "2022-11-04T08:13:16.721301Z"
        },
        "trusted": true,
        "id": "Jy-tKVnMw2qT"
      },
      "execution_count": 26,
      "outputs": []
    },
    {
      "cell_type": "code",
      "source": [
        "test(model,dataloaders['test'])"
      ],
      "metadata": {
        "execution": {
          "iopub.status.busy": "2022-11-04T08:13:19.136411Z",
          "iopub.execute_input": "2022-11-04T08:13:19.137485Z",
          "iopub.status.idle": "2022-11-04T08:13:21.516092Z",
          "shell.execute_reply.started": "2022-11-04T08:13:19.137438Z",
          "shell.execute_reply": "2022-11-04T08:13:21.513837Z"
        },
        "trusted": true,
        "id": "u2iKcFE7w2qU",
        "colab": {
          "base_uri": "https://localhost:8080/"
        },
        "outputId": "bf29245c-aadc-43bf-9e15-4f1ec0a59086"
      },
      "execution_count": 27,
      "outputs": [
        {
          "output_type": "stream",
          "name": "stdout",
          "text": [
            "[0 1 2 3]\n",
            "                  precision    recall  f1-score   support\n",
            "\n",
            "    glioma_tumor       0.79      0.27      0.40       100\n",
            "meningioma_tumor       0.71      0.83      0.77       115\n",
            "        no_tumor       0.60      0.96      0.74       105\n",
            " pituitary_tumor       0.78      0.64      0.70        74\n",
            "\n",
            "        accuracy                           0.69       394\n",
            "       macro avg       0.72      0.67      0.65       394\n",
            "    weighted avg       0.72      0.69      0.66       394\n",
            "\n"
          ]
        }
      ]
    },
    {
      "cell_type": "code",
      "source": [
        "summary(model,input_size=(3,256,256))"
      ],
      "metadata": {
        "trusted": true,
        "id": "tZHKAf1Ew2qU",
        "colab": {
          "base_uri": "https://localhost:8080/"
        },
        "outputId": "e18325ff-6ff6-4047-85aa-f8126f87a401"
      },
      "execution_count": 28,
      "outputs": [
        {
          "output_type": "stream",
          "name": "stdout",
          "text": [
            "----------------------------------------------------------------\n",
            "        Layer (type)               Output Shape         Param #\n",
            "================================================================\n",
            "            Conv2d-1         [-1, 16, 128, 128]             432\n",
            "       BatchNorm2d-2         [-1, 16, 128, 128]              32\n",
            "         Hardswish-3         [-1, 16, 128, 128]               0\n",
            "            Conv2d-4         [-1, 16, 128, 128]             144\n",
            "       BatchNorm2d-5         [-1, 16, 128, 128]              32\n",
            "              ReLU-6         [-1, 16, 128, 128]               0\n",
            "            Conv2d-7         [-1, 16, 128, 128]             256\n",
            "       BatchNorm2d-8         [-1, 16, 128, 128]              32\n",
            "  InvertedResidual-9         [-1, 16, 128, 128]               0\n",
            "           Conv2d-10         [-1, 64, 128, 128]           1,024\n",
            "      BatchNorm2d-11         [-1, 64, 128, 128]             128\n",
            "             ReLU-12         [-1, 64, 128, 128]               0\n",
            "           Conv2d-13           [-1, 64, 64, 64]             576\n",
            "      BatchNorm2d-14           [-1, 64, 64, 64]             128\n",
            "             ReLU-15           [-1, 64, 64, 64]               0\n",
            "           Conv2d-16           [-1, 24, 64, 64]           1,536\n",
            "      BatchNorm2d-17           [-1, 24, 64, 64]              48\n",
            " InvertedResidual-18           [-1, 24, 64, 64]               0\n",
            "           Conv2d-19           [-1, 72, 64, 64]           1,728\n",
            "      BatchNorm2d-20           [-1, 72, 64, 64]             144\n",
            "             ReLU-21           [-1, 72, 64, 64]               0\n",
            "           Conv2d-22           [-1, 72, 64, 64]             648\n",
            "      BatchNorm2d-23           [-1, 72, 64, 64]             144\n",
            "             ReLU-24           [-1, 72, 64, 64]               0\n",
            "           Conv2d-25           [-1, 24, 64, 64]           1,728\n",
            "      BatchNorm2d-26           [-1, 24, 64, 64]              48\n",
            " InvertedResidual-27           [-1, 24, 64, 64]               0\n",
            "           Conv2d-28           [-1, 72, 64, 64]           1,728\n",
            "      BatchNorm2d-29           [-1, 72, 64, 64]             144\n",
            "             ReLU-30           [-1, 72, 64, 64]               0\n",
            "           Conv2d-31           [-1, 72, 32, 32]           1,800\n",
            "      BatchNorm2d-32           [-1, 72, 32, 32]             144\n",
            "             ReLU-33           [-1, 72, 32, 32]               0\n",
            "AdaptiveAvgPool2d-34             [-1, 72, 1, 1]               0\n",
            "           Conv2d-35             [-1, 24, 1, 1]           1,752\n",
            "             ReLU-36             [-1, 24, 1, 1]               0\n",
            "           Conv2d-37             [-1, 72, 1, 1]           1,800\n",
            "      Hardsigmoid-38             [-1, 72, 1, 1]               0\n",
            "SqueezeExcitation-39           [-1, 72, 32, 32]               0\n",
            "           Conv2d-40           [-1, 40, 32, 32]           2,880\n",
            "      BatchNorm2d-41           [-1, 40, 32, 32]              80\n",
            " InvertedResidual-42           [-1, 40, 32, 32]               0\n",
            "           Conv2d-43          [-1, 120, 32, 32]           4,800\n",
            "      BatchNorm2d-44          [-1, 120, 32, 32]             240\n",
            "             ReLU-45          [-1, 120, 32, 32]               0\n",
            "           Conv2d-46          [-1, 120, 32, 32]           3,000\n",
            "      BatchNorm2d-47          [-1, 120, 32, 32]             240\n",
            "             ReLU-48          [-1, 120, 32, 32]               0\n",
            "AdaptiveAvgPool2d-49            [-1, 120, 1, 1]               0\n",
            "           Conv2d-50             [-1, 32, 1, 1]           3,872\n",
            "             ReLU-51             [-1, 32, 1, 1]               0\n",
            "           Conv2d-52            [-1, 120, 1, 1]           3,960\n",
            "      Hardsigmoid-53            [-1, 120, 1, 1]               0\n",
            "SqueezeExcitation-54          [-1, 120, 32, 32]               0\n",
            "           Conv2d-55           [-1, 40, 32, 32]           4,800\n",
            "      BatchNorm2d-56           [-1, 40, 32, 32]              80\n",
            " InvertedResidual-57           [-1, 40, 32, 32]               0\n",
            "           Conv2d-58          [-1, 120, 32, 32]           4,800\n",
            "      BatchNorm2d-59          [-1, 120, 32, 32]             240\n",
            "             ReLU-60          [-1, 120, 32, 32]               0\n",
            "           Conv2d-61          [-1, 120, 32, 32]           3,000\n",
            "      BatchNorm2d-62          [-1, 120, 32, 32]             240\n",
            "             ReLU-63          [-1, 120, 32, 32]               0\n",
            "AdaptiveAvgPool2d-64            [-1, 120, 1, 1]               0\n",
            "           Conv2d-65             [-1, 32, 1, 1]           3,872\n",
            "             ReLU-66             [-1, 32, 1, 1]               0\n",
            "           Conv2d-67            [-1, 120, 1, 1]           3,960\n",
            "      Hardsigmoid-68            [-1, 120, 1, 1]               0\n",
            "SqueezeExcitation-69          [-1, 120, 32, 32]               0\n",
            "           Conv2d-70           [-1, 40, 32, 32]           4,800\n",
            "      BatchNorm2d-71           [-1, 40, 32, 32]              80\n",
            " InvertedResidual-72           [-1, 40, 32, 32]               0\n",
            "           Conv2d-73          [-1, 240, 32, 32]           9,600\n",
            "      BatchNorm2d-74          [-1, 240, 32, 32]             480\n",
            "        Hardswish-75          [-1, 240, 32, 32]               0\n",
            "           Conv2d-76          [-1, 240, 16, 16]           2,160\n",
            "      BatchNorm2d-77          [-1, 240, 16, 16]             480\n",
            "        Hardswish-78          [-1, 240, 16, 16]               0\n",
            "           Conv2d-79           [-1, 80, 16, 16]          19,200\n",
            "      BatchNorm2d-80           [-1, 80, 16, 16]             160\n",
            " InvertedResidual-81           [-1, 80, 16, 16]               0\n",
            "           Conv2d-82          [-1, 200, 16, 16]          16,000\n",
            "      BatchNorm2d-83          [-1, 200, 16, 16]             400\n",
            "        Hardswish-84          [-1, 200, 16, 16]               0\n",
            "           Conv2d-85          [-1, 200, 16, 16]           1,800\n",
            "      BatchNorm2d-86          [-1, 200, 16, 16]             400\n",
            "        Hardswish-87          [-1, 200, 16, 16]               0\n",
            "           Conv2d-88           [-1, 80, 16, 16]          16,000\n",
            "      BatchNorm2d-89           [-1, 80, 16, 16]             160\n",
            " InvertedResidual-90           [-1, 80, 16, 16]               0\n",
            "           Conv2d-91          [-1, 184, 16, 16]          14,720\n",
            "      BatchNorm2d-92          [-1, 184, 16, 16]             368\n",
            "        Hardswish-93          [-1, 184, 16, 16]               0\n",
            "           Conv2d-94          [-1, 184, 16, 16]           1,656\n",
            "      BatchNorm2d-95          [-1, 184, 16, 16]             368\n",
            "        Hardswish-96          [-1, 184, 16, 16]               0\n",
            "           Conv2d-97           [-1, 80, 16, 16]          14,720\n",
            "      BatchNorm2d-98           [-1, 80, 16, 16]             160\n",
            " InvertedResidual-99           [-1, 80, 16, 16]               0\n",
            "          Conv2d-100          [-1, 184, 16, 16]          14,720\n",
            "     BatchNorm2d-101          [-1, 184, 16, 16]             368\n",
            "       Hardswish-102          [-1, 184, 16, 16]               0\n",
            "          Conv2d-103          [-1, 184, 16, 16]           1,656\n",
            "     BatchNorm2d-104          [-1, 184, 16, 16]             368\n",
            "       Hardswish-105          [-1, 184, 16, 16]               0\n",
            "          Conv2d-106           [-1, 80, 16, 16]          14,720\n",
            "     BatchNorm2d-107           [-1, 80, 16, 16]             160\n",
            "InvertedResidual-108           [-1, 80, 16, 16]               0\n",
            "          Conv2d-109          [-1, 480, 16, 16]          38,400\n",
            "     BatchNorm2d-110          [-1, 480, 16, 16]             960\n",
            "       Hardswish-111          [-1, 480, 16, 16]               0\n",
            "          Conv2d-112          [-1, 480, 16, 16]           4,320\n",
            "     BatchNorm2d-113          [-1, 480, 16, 16]             960\n",
            "       Hardswish-114          [-1, 480, 16, 16]               0\n",
            "AdaptiveAvgPool2d-115            [-1, 480, 1, 1]               0\n",
            "          Conv2d-116            [-1, 120, 1, 1]          57,720\n",
            "            ReLU-117            [-1, 120, 1, 1]               0\n",
            "          Conv2d-118            [-1, 480, 1, 1]          58,080\n",
            "     Hardsigmoid-119            [-1, 480, 1, 1]               0\n",
            "SqueezeExcitation-120          [-1, 480, 16, 16]               0\n",
            "          Conv2d-121          [-1, 112, 16, 16]          53,760\n",
            "     BatchNorm2d-122          [-1, 112, 16, 16]             224\n",
            "InvertedResidual-123          [-1, 112, 16, 16]               0\n",
            "          Conv2d-124          [-1, 672, 16, 16]          75,264\n",
            "     BatchNorm2d-125          [-1, 672, 16, 16]           1,344\n",
            "       Hardswish-126          [-1, 672, 16, 16]               0\n",
            "          Conv2d-127          [-1, 672, 16, 16]           6,048\n",
            "     BatchNorm2d-128          [-1, 672, 16, 16]           1,344\n",
            "       Hardswish-129          [-1, 672, 16, 16]               0\n",
            "AdaptiveAvgPool2d-130            [-1, 672, 1, 1]               0\n",
            "          Conv2d-131            [-1, 168, 1, 1]         113,064\n",
            "            ReLU-132            [-1, 168, 1, 1]               0\n",
            "          Conv2d-133            [-1, 672, 1, 1]         113,568\n",
            "     Hardsigmoid-134            [-1, 672, 1, 1]               0\n",
            "SqueezeExcitation-135          [-1, 672, 16, 16]               0\n",
            "          Conv2d-136          [-1, 112, 16, 16]          75,264\n",
            "     BatchNorm2d-137          [-1, 112, 16, 16]             224\n",
            "InvertedResidual-138          [-1, 112, 16, 16]               0\n",
            "          Conv2d-139          [-1, 672, 16, 16]          75,264\n",
            "     BatchNorm2d-140          [-1, 672, 16, 16]           1,344\n",
            "       Hardswish-141          [-1, 672, 16, 16]               0\n",
            "          Conv2d-142            [-1, 672, 8, 8]          16,800\n",
            "     BatchNorm2d-143            [-1, 672, 8, 8]           1,344\n",
            "       Hardswish-144            [-1, 672, 8, 8]               0\n",
            "AdaptiveAvgPool2d-145            [-1, 672, 1, 1]               0\n",
            "          Conv2d-146            [-1, 168, 1, 1]         113,064\n",
            "            ReLU-147            [-1, 168, 1, 1]               0\n",
            "          Conv2d-148            [-1, 672, 1, 1]         113,568\n",
            "     Hardsigmoid-149            [-1, 672, 1, 1]               0\n",
            "SqueezeExcitation-150            [-1, 672, 8, 8]               0\n",
            "          Conv2d-151            [-1, 160, 8, 8]         107,520\n",
            "     BatchNorm2d-152            [-1, 160, 8, 8]             320\n",
            "InvertedResidual-153            [-1, 160, 8, 8]               0\n",
            "          Conv2d-154            [-1, 960, 8, 8]         153,600\n",
            "     BatchNorm2d-155            [-1, 960, 8, 8]           1,920\n",
            "       Hardswish-156            [-1, 960, 8, 8]               0\n",
            "          Conv2d-157            [-1, 960, 8, 8]          24,000\n",
            "     BatchNorm2d-158            [-1, 960, 8, 8]           1,920\n",
            "       Hardswish-159            [-1, 960, 8, 8]               0\n",
            "AdaptiveAvgPool2d-160            [-1, 960, 1, 1]               0\n",
            "          Conv2d-161            [-1, 240, 1, 1]         230,640\n",
            "            ReLU-162            [-1, 240, 1, 1]               0\n",
            "          Conv2d-163            [-1, 960, 1, 1]         231,360\n",
            "     Hardsigmoid-164            [-1, 960, 1, 1]               0\n",
            "SqueezeExcitation-165            [-1, 960, 8, 8]               0\n",
            "          Conv2d-166            [-1, 160, 8, 8]         153,600\n",
            "     BatchNorm2d-167            [-1, 160, 8, 8]             320\n",
            "InvertedResidual-168            [-1, 160, 8, 8]               0\n",
            "          Conv2d-169            [-1, 960, 8, 8]         153,600\n",
            "     BatchNorm2d-170            [-1, 960, 8, 8]           1,920\n",
            "       Hardswish-171            [-1, 960, 8, 8]               0\n",
            "          Conv2d-172            [-1, 960, 8, 8]          24,000\n",
            "     BatchNorm2d-173            [-1, 960, 8, 8]           1,920\n",
            "       Hardswish-174            [-1, 960, 8, 8]               0\n",
            "AdaptiveAvgPool2d-175            [-1, 960, 1, 1]               0\n",
            "          Conv2d-176            [-1, 240, 1, 1]         230,640\n",
            "            ReLU-177            [-1, 240, 1, 1]               0\n",
            "          Conv2d-178            [-1, 960, 1, 1]         231,360\n",
            "     Hardsigmoid-179            [-1, 960, 1, 1]               0\n",
            "SqueezeExcitation-180            [-1, 960, 8, 8]               0\n",
            "          Conv2d-181            [-1, 160, 8, 8]         153,600\n",
            "     BatchNorm2d-182            [-1, 160, 8, 8]             320\n",
            "InvertedResidual-183            [-1, 160, 8, 8]               0\n",
            "          Conv2d-184            [-1, 960, 8, 8]         153,600\n",
            "     BatchNorm2d-185            [-1, 960, 8, 8]           1,920\n",
            "       Hardswish-186            [-1, 960, 8, 8]               0\n",
            "AdaptiveAvgPool2d-187            [-1, 960, 1, 1]               0\n",
            "          Linear-188                 [-1, 4096]       3,936,256\n",
            "            ReLU-189                 [-1, 4096]               0\n",
            "         Dropout-190                 [-1, 4096]               0\n",
            "          Linear-191                 [-1, 4096]      16,781,312\n",
            "            ReLU-192                 [-1, 4096]               0\n",
            "         Dropout-193                 [-1, 4096]               0\n",
            "          Linear-194                    [-1, 4]          16,388\n",
            "================================================================\n",
            "Total params: 23,705,908\n",
            "Trainable params: 23,705,908\n",
            "Non-trainable params: 0\n",
            "----------------------------------------------------------------\n",
            "Input size (MB): 0.75\n",
            "Forward/backward pass size (MB): 137.79\n",
            "Params size (MB): 90.43\n",
            "Estimated Total Size (MB): 228.97\n",
            "----------------------------------------------------------------\n"
          ]
        }
      ]
    }
  ]
}