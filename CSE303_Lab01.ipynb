{
  "nbformat": 4,
  "nbformat_minor": 0,
  "metadata": {
    "colab": {
      "provenance": [],
      "authorship_tag": "ABX9TyN4Z6470ifWfJghg4q7ZZwT",
      "include_colab_link": true
    },
    "kernelspec": {
      "name": "python3",
      "display_name": "Python 3"
    },
    "language_info": {
      "name": "python"
    }
  },
  "cells": [
    {
      "cell_type": "markdown",
      "metadata": {
        "id": "view-in-github",
        "colab_type": "text"
      },
      "source": [
        "<a href=\"https://colab.research.google.com/github/saifulislamsarfaraz/Statistics-for-Data-Science/blob/main/CSE303_Lab01.ipynb\" target=\"_parent\"><img src=\"https://colab.research.google.com/assets/colab-badge.svg\" alt=\"Open In Colab\"/></a>"
      ]
    },
    {
      "cell_type": "markdown",
      "source": [
        "# Basic Python \n"
      ],
      "metadata": {
        "id": "fiDNfBrWoFnQ"
      }
    },
    {
      "cell_type": "markdown",
      "source": [
        "**Basic in pyhton**\n",
        "\n",
        "List: can contain a number of different types of elements.\n",
        "\n",
        "---\n",
        "\n",
        "\n",
        "Loop: \n",
        "\n",
        "---\n",
        "\n",
        "\n",
        "list Comprehension:  "
      ],
      "metadata": {
        "id": "kKIpFJe9q9JR"
      }
    },
    {
      "cell_type": "code",
      "source": [
        "list2 =[]\n",
        "for i in range ( 1,100,1):\n",
        "    if i%2!=0:\n",
        "      print(i)\n",
        "      list2.append(i)\n",
        "\n",
        "\n"
      ],
      "metadata": {
        "colab": {
          "base_uri": "https://localhost:8080/"
        },
        "id": "GNeT-gSsr2GP",
        "outputId": "4357e868-ed3e-488d-d2ab-4bf7e4e1b4c1"
      },
      "execution_count": null,
      "outputs": [
        {
          "output_type": "stream",
          "name": "stdout",
          "text": [
            "1\n",
            "3\n",
            "5\n",
            "7\n",
            "9\n",
            "11\n",
            "13\n",
            "15\n",
            "17\n",
            "19\n",
            "21\n",
            "23\n",
            "25\n",
            "27\n",
            "29\n",
            "31\n",
            "33\n",
            "35\n",
            "37\n",
            "39\n",
            "41\n",
            "43\n",
            "45\n",
            "47\n",
            "49\n",
            "51\n",
            "53\n",
            "55\n",
            "57\n",
            "59\n",
            "61\n",
            "63\n",
            "65\n",
            "67\n",
            "69\n",
            "71\n",
            "73\n",
            "75\n",
            "77\n",
            "79\n",
            "81\n",
            "83\n",
            "85\n",
            "87\n",
            "89\n",
            "91\n",
            "93\n",
            "95\n",
            "97\n",
            "99\n"
          ]
        }
      ]
    },
    {
      "cell_type": "code",
      "source": [
        "oddNumbers = [i for i in range(1,100,1) if i %2!=0]\n",
        "oddNumbers"
      ],
      "metadata": {
        "colab": {
          "base_uri": "https://localhost:8080/"
        },
        "id": "cQoqPuQdsJ3X",
        "outputId": "0c650c98-4b16-4195-a270-f65fbd0c029a"
      },
      "execution_count": null,
      "outputs": [
        {
          "output_type": "execute_result",
          "data": {
            "text/plain": [
              "[1,\n",
              " 3,\n",
              " 5,\n",
              " 7,\n",
              " 9,\n",
              " 11,\n",
              " 13,\n",
              " 15,\n",
              " 17,\n",
              " 19,\n",
              " 21,\n",
              " 23,\n",
              " 25,\n",
              " 27,\n",
              " 29,\n",
              " 31,\n",
              " 33,\n",
              " 35,\n",
              " 37,\n",
              " 39,\n",
              " 41,\n",
              " 43,\n",
              " 45,\n",
              " 47,\n",
              " 49,\n",
              " 51,\n",
              " 53,\n",
              " 55,\n",
              " 57,\n",
              " 59,\n",
              " 61,\n",
              " 63,\n",
              " 65,\n",
              " 67,\n",
              " 69,\n",
              " 71,\n",
              " 73,\n",
              " 75,\n",
              " 77,\n",
              " 79,\n",
              " 81,\n",
              " 83,\n",
              " 85,\n",
              " 87,\n",
              " 89,\n",
              " 91,\n",
              " 93,\n",
              " 95,\n",
              " 97,\n",
              " 99]"
            ]
          },
          "metadata": {},
          "execution_count": 40
        }
      ]
    },
    {
      "cell_type": "code",
      "source": [
        "list1=['Alice',14,'01/01/210199', 1234.678]\n",
        "print(list1)"
      ],
      "metadata": {
        "colab": {
          "base_uri": "https://localhost:8080/"
        },
        "id": "xF9bxsnBougu",
        "outputId": "49d770ca-1fff-43a8-e88d-e23a0d36d5c0"
      },
      "execution_count": null,
      "outputs": [
        {
          "output_type": "stream",
          "name": "stdout",
          "text": [
            "['Alice', 14, '01/01/210199', 1234.678]\n"
          ]
        }
      ]
    },
    {
      "cell_type": "code",
      "source": [
        "print(list1[1])"
      ],
      "metadata": {
        "colab": {
          "base_uri": "https://localhost:8080/"
        },
        "id": "o1C3jzINo_ae",
        "outputId": "f96b4f8a-d866-4d98-9faf-f87c74de112c"
      },
      "execution_count": null,
      "outputs": [
        {
          "output_type": "stream",
          "name": "stdout",
          "text": [
            "14\n"
          ]
        }
      ]
    },
    {
      "cell_type": "code",
      "source": [
        "for i in range(0,len(list1)):\n",
        "  print(list1[i])"
      ],
      "metadata": {
        "colab": {
          "base_uri": "https://localhost:8080/"
        },
        "id": "ZrgdxtrppGd2",
        "outputId": "3aacbe42-f3c9-4b2c-fd5e-98164665a9c4"
      },
      "execution_count": null,
      "outputs": [
        {
          "output_type": "stream",
          "name": "stdout",
          "text": [
            "Alice\n",
            "14\n",
            "01/01/210199\n",
            "1234.678\n"
          ]
        }
      ]
    },
    {
      "cell_type": "code",
      "source": [
        "list1.append(\"bob\")"
      ],
      "metadata": {
        "id": "bfDPMG3Opln_"
      },
      "execution_count": null,
      "outputs": []
    },
    {
      "cell_type": "code",
      "source": [
        "print(list1)"
      ],
      "metadata": {
        "colab": {
          "base_uri": "https://localhost:8080/"
        },
        "id": "gQarVHwrp3wH",
        "outputId": "fcf9604b-d388-4769-8730-c94d8f3d3731"
      },
      "execution_count": null,
      "outputs": [
        {
          "output_type": "stream",
          "name": "stdout",
          "text": [
            "['Alice', 14, '01/01/210199', 1234.678, 'bob']\n"
          ]
        }
      ]
    },
    {
      "cell_type": "markdown",
      "source": [
        "# Lab 1 Problem and Solution "
      ],
      "metadata": {
        "id": "4oxDkH_dn6Lg"
      }
    },
    {
      "cell_type": "markdown",
      "source": [
        "**Question Number 1:** Given two integer numbers, write a Python program to return their product. If the product is greater\n",
        "than 1000, then return their sum. Read inputs from the user."
      ],
      "metadata": {
        "id": "pXnTsP0qmpLl"
      }
    },
    {
      "cell_type": "code",
      "source": [
        "def main(first_name,second_name):\n",
        "  product = int(first_number * second_number)\n",
        "  print(\"product is : \" ,type(product))\n",
        "  if product>1000:\n",
        "    return int(first_number + second_number)\n"
      ],
      "metadata": {
        "id": "e4Pg4sOSkxVu"
      },
      "execution_count": null,
      "outputs": []
    },
    {
      "cell_type": "code",
      "source": [
        "if __name__ == \"__main__\":\n",
        "  first_number = int(input(\"Enter first Number:\"))\n",
        "  second_number = int(input(\"Enter second Number:\"))\n",
        "  result = int(main(first_number,second_number))\n",
        "  print(\"result is :\", result)\n"
      ],
      "metadata": {
        "colab": {
          "base_uri": "https://localhost:8080/"
        },
        "id": "QSoiIle1lSZd",
        "outputId": "62e1b2ac-24b4-4fb7-bd2b-adc7b9915960"
      },
      "execution_count": null,
      "outputs": [
        {
          "output_type": "stream",
          "name": "stdout",
          "text": [
            "Enter first Number:40\n",
            "Enter second Number:50\n",
            "product is :  <class 'int'>\n",
            "result is : 90\n"
          ]
        }
      ]
    },
    {
      "cell_type": "markdown",
      "source": [
        "**Question Number 2:** Write a Python program to find the area and perimeter of a circle. Read inputs from the user."
      ],
      "metadata": {
        "id": "QwhORMCNm8ft"
      }
    },
    {
      "cell_type": "code",
      "source": [
        "from math import pi"
      ],
      "metadata": {
        "id": "_583IijhnsD-"
      },
      "execution_count": null,
      "outputs": []
    },
    {
      "cell_type": "code",
      "source": [
        "def areaOfCircle(r):\n",
        "  area = (pi * r**2)\n",
        "  return area\n",
        "  "
      ],
      "metadata": {
        "id": "yuHUB-3znNkm"
      },
      "execution_count": null,
      "outputs": []
    },
    {
      "cell_type": "code",
      "source": [
        "def perimeterOfCircle(r):\n",
        "  perimeter=2*pi*r\n",
        "  return perimeter"
      ],
      "metadata": {
        "id": "CWTIdEalnUaW"
      },
      "execution_count": null,
      "outputs": []
    },
    {
      "cell_type": "code",
      "source": [
        "if __name__ == \"__main__\":\n",
        "  redius = int(input(\"Enter Area Of a Circle:\"))\n",
        "  resultOfRedius = int(areaOfCircle(redius))\n",
        "  print(\"result of Area :\", resultOfRedius)\n",
        "  resultOfPerimiter = int(perimeterOfCircle(redius))\n",
        "  print(\"result of Perimiter : \", resultOfPerimiter)"
      ],
      "metadata": {
        "id": "-m7-re4vnj3G",
        "colab": {
          "base_uri": "https://localhost:8080/"
        },
        "outputId": "5c1b68a1-0ece-4c56-d0db-dffeea20d13e"
      },
      "execution_count": null,
      "outputs": [
        {
          "output_type": "stream",
          "name": "stdout",
          "text": [
            "Enter Area Of a Circle:5\n",
            "result of Area : 78\n",
            "result of Perimiter :  31\n"
          ]
        }
      ]
    },
    {
      "cell_type": "markdown",
      "source": [
        "**Question number 3:** Write a Python program to calculate the compound interest based on the given formula. Read inputs\n",
        "from the user.\n",
        "\n",
        "![image.png](data:image/png;base64,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)\n",
        "\n",
        "where P is the principle amount, R is the interest rate and T is time (in years)."
      ],
      "metadata": {
        "id": "9So2N6_zs8i4"
      }
    },
    {
      "cell_type": "code",
      "source": [
        "import math\n",
        "p,r,t = [int(x) for x in input(\"Enter Principle of amount, Rate of Interest and Time: \").split()]\n",
        "a = p*(1 + r/100)**t\n",
        "print(\"Compound Interest Is : \" , a)\n",
        "\n",
        "\n",
        "\n"
      ],
      "metadata": {
        "colab": {
          "base_uri": "https://localhost:8080/"
        },
        "id": "NIplcgZStSlp",
        "outputId": "b270bb46-8ff2-4e57-ab75-e61a4d3291a4"
      },
      "execution_count": 20,
      "outputs": [
        {
          "output_type": "stream",
          "name": "stdout",
          "text": [
            "Enter Principle of amount, Rate of Interest and Time: 600000 2 2\n",
            "Compound Interest Is :  624240.0\n"
          ]
        }
      ]
    },
    {
      "cell_type": "markdown",
      "source": [
        "**Question number 6:**\n",
        "Given a positive integer n (read from the user), write a Python program to find the n-th Fibonacci\n",
        "number based on the following assumptions.\n",
        "Fn = Fn-1 + Fn-2 where F0 = 0 and F1 = 1"
      ],
      "metadata": {
        "id": "Vlsn2HARtt7H"
      }
    },
    {
      "cell_type": "code",
      "source": [
        "f0=0\n",
        "f1=1\n",
        "result=0\n",
        "number = int(input(\"Enter a number:\"))\n",
        "for i in range(0,int(number-1),1):\n",
        "        result = f0 + f1\n",
        "        f0 = f1\n",
        "        f1 = result\n",
        "result\n",
        "\n",
        "  "
      ],
      "metadata": {
        "colab": {
          "base_uri": "https://localhost:8080/"
        },
        "id": "hbX155kbuHS_",
        "outputId": "3d59aa6f-6fbf-4b55-c385-f27d1c0ec278"
      },
      "execution_count": null,
      "outputs": [
        {
          "name": "stdout",
          "output_type": "stream",
          "text": [
            "Enter a number:8\n"
          ]
        },
        {
          "output_type": "execute_result",
          "data": {
            "text/plain": [
              "21"
            ]
          },
          "metadata": {},
          "execution_count": 72
        }
      ]
    },
    {
      "cell_type": "code",
      "source": [
        "f0=0\n",
        "f1=1\n",
        "result=0\n",
        "list = []\n",
        "number = int(input(\"Enter a number:\"))\n",
        "for i in range(0,int(number-1),1):\n",
        "        list.append(result)\n",
        "        result = f0 + f1\n",
        "        f0 = f1\n",
        "        f1 = result\n",
        "result\n",
        "print(result)\n",
        "list.append(result)\n",
        "  "
      ],
      "metadata": {
        "colab": {
          "base_uri": "https://localhost:8080/"
        },
        "id": "uM4ppBKy0x7x",
        "outputId": "7b7e248f-1f02-4d0e-9ad5-1a2df7cfbdfa"
      },
      "execution_count": null,
      "outputs": [
        {
          "output_type": "stream",
          "name": "stdout",
          "text": [
            "Enter a number:5\n",
            "5\n"
          ]
        }
      ]
    },
    {
      "cell_type": "code",
      "source": [
        "print(list)"
      ],
      "metadata": {
        "colab": {
          "base_uri": "https://localhost:8080/"
        },
        "id": "7w6_QNr421Rh",
        "outputId": "01c69bdf-b25b-4ade-98e6-270b231bd572"
      },
      "execution_count": null,
      "outputs": [
        {
          "output_type": "stream",
          "name": "stdout",
          "text": [
            "[0, 1, 2, 3, 5]\n"
          ]
        }
      ]
    },
    {
      "cell_type": "markdown",
      "source": [
        "The exact value of the golden ratio can be calculated by:\n",
        "`ϕ = (1+√5) / 2`\n",
        "    [Golden Ratio Rule](https://www.investopedia.com/articles/technical/04/033104.asp#:~:text=The%20essential%20part%20is%20that,the%20divine%20proportion%2C%20among%20others.)"
      ],
      "metadata": {
        "id": "gNG76YASrmhl"
      }
    },
    {
      "cell_type": "code",
      "source": [
        "import math \n",
        "sqrt5 = math.sqrt(5)\n",
        "print(sqrt5)\n",
        "golden_ratio1 = (1+sqrt5)/2\n",
        "golden_ratio2 = (1-sqrt5)/2\n",
        "number = int(input(\"Enter a Number: \"))\n",
        "series = [int(( math.pow(golden_ratio1, n) - math.pow(golden_ratio2,n)) / sqrt5) for n in range(0, number+1 ,1)]\n",
        "print(\"nth fibonacci number is : \" , series[len(series)-1])\n",
        "series\n"
      ],
      "metadata": {
        "colab": {
          "base_uri": "https://localhost:8080/"
        },
        "id": "6LqgXhidhTYe",
        "outputId": "9d5dadea-4fb0-491b-be50-340a7f9929b8"
      },
      "execution_count": null,
      "outputs": [
        {
          "output_type": "stream",
          "name": "stdout",
          "text": [
            "2.23606797749979\n",
            "Enter a Number: 5\n",
            "nth fibonacci number is :  5\n"
          ]
        },
        {
          "output_type": "execute_result",
          "data": {
            "text/plain": [
              "[0, 1, 1, 2, 3, 5]"
            ]
          },
          "metadata": {},
          "execution_count": 39
        }
      ]
    }
  ]
}