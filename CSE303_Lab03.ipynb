{
  "nbformat": 4,
  "nbformat_minor": 0,
  "metadata": {
    "colab": {
      "provenance": [],
      "collapsed_sections": [],
      "authorship_tag": "ABX9TyM0M5ZOMZg8kZLLIgz65GsF",
      "include_colab_link": true
    },
    "kernelspec": {
      "name": "python3",
      "display_name": "Python 3"
    },
    "language_info": {
      "name": "python"
    }
  },
  "cells": [
    {
      "cell_type": "markdown",
      "metadata": {
        "id": "view-in-github",
        "colab_type": "text"
      },
      "source": [
        "<a href=\"https://colab.research.google.com/github/saifulislamsarfaraz/Statistics-for-Data-Science/blob/main/CSE303_Lab03.ipynb\" target=\"_parent\"><img src=\"https://colab.research.google.com/assets/colab-badge.svg\" alt=\"Open In Colab\"/></a>"
      ]
    },
    {
      "cell_type": "markdown",
      "source": [
        "1. Pandas\n",
        "\n",
        "Pandas is a fast, powerful, flexible and easy to use open source data analysis and manipulation tool,\n",
        "built on top of the Python programming language. Pandas is designed for working with tabular or\n",
        "heterogeneous data. Pandas must be imported before use."
      ],
      "metadata": {
        "id": "oHLGkdzOR0bD"
      }
    },
    {
      "cell_type": "code",
      "execution_count": null,
      "metadata": {
        "id": "knVmBckq8eBR"
      },
      "outputs": [],
      "source": [
        "import pandas as pd \n"
      ]
    },
    {
      "cell_type": "markdown",
      "source": [
        "2. Pandas Series\n",
        "\n",
        "A Series is a one-dimensional array-like object containing a sequence of values."
      ],
      "metadata": {
        "id": "fWMqcyUTSAzm"
      }
    },
    {
      "cell_type": "code",
      "source": [
        "obj = pd.Series([4,7,-5,3])\n",
        "obj+5\n"
      ],
      "metadata": {
        "colab": {
          "base_uri": "https://localhost:8080/"
        },
        "id": "pCRysOpRSG-X",
        "outputId": "6d43d238-10ce-4837-c28a-23299ada567b"
      },
      "execution_count": null,
      "outputs": [
        {
          "output_type": "execute_result",
          "data": {
            "text/plain": [
              "0     9\n",
              "1    12\n",
              "2     0\n",
              "3     8\n",
              "dtype: int64"
            ]
          },
          "metadata": {},
          "execution_count": 6
        }
      ]
    },
    {
      "cell_type": "code",
      "source": [
        "obj*3"
      ],
      "metadata": {
        "colab": {
          "base_uri": "https://localhost:8080/"
        },
        "id": "x8hug2MeVpfm",
        "outputId": "631b416b-eb8e-44ec-a0e3-a62df09093a2"
      },
      "execution_count": null,
      "outputs": [
        {
          "output_type": "execute_result",
          "data": {
            "text/plain": [
              "0    12\n",
              "1    21\n",
              "2   -15\n",
              "3     9\n",
              "dtype: int64"
            ]
          },
          "metadata": {},
          "execution_count": 8
        }
      ]
    },
    {
      "cell_type": "code",
      "source": [
        "#Scalar Operations\n",
        "obj[obj%2==0]"
      ],
      "metadata": {
        "colab": {
          "base_uri": "https://localhost:8080/"
        },
        "id": "S11QcX8_Vpg5",
        "outputId": "a3daf209-3496-406b-b980-004d5db9cfe9"
      },
      "execution_count": null,
      "outputs": [
        {
          "output_type": "execute_result",
          "data": {
            "text/plain": [
              "0    4\n",
              "dtype: int64"
            ]
          },
          "metadata": {},
          "execution_count": 9
        }
      ]
    },
    {
      "cell_type": "code",
      "source": [
        "#Creating a Series from Dictionary \n",
        "sdata = {'Ohio':35000,'Texas':71000,'Origon':16000,'Utah':5000}\n",
        "obj3 = pd.Series(sdata)\n",
        "print(obj3)\n",
        "obj3*3"
      ],
      "metadata": {
        "colab": {
          "base_uri": "https://localhost:8080/"
        },
        "id": "FXNigZo-WFGY",
        "outputId": "0ff1aca9-2091-4603-976d-3d51d988e21d"
      },
      "execution_count": null,
      "outputs": [
        {
          "output_type": "stream",
          "name": "stdout",
          "text": [
            "Ohio      35000\n",
            "Texas     71000\n",
            "Origon    16000\n",
            "Utah       5000\n",
            "dtype: int64\n"
          ]
        },
        {
          "output_type": "execute_result",
          "data": {
            "text/plain": [
              "Ohio      105000\n",
              "Texas     213000\n",
              "Origon     48000\n",
              "Utah       15000\n",
              "dtype: int64"
            ]
          },
          "metadata": {},
          "execution_count": 7
        }
      ]
    },
    {
      "cell_type": "markdown",
      "source": [
        "3. Pandas DataFrame\n",
        "\n",
        "A DataFrame represents a rectangular table of data and contains an ordered collection of columns,\n",
        "each of which can be a different value type. The DataFrame has both a row and column index; it can\n",
        "be thought of as a dictionary of Series all sharing the same index."
      ],
      "metadata": {
        "id": "TPEhlukjZoAP"
      }
    },
    {
      "cell_type": "code",
      "source": [
        "#Constructing Pandas DataFrame:\n",
        "#1.From List\n",
        "list1 = [['Alice','2019-2-60-040',23,3.5,10],['Bob','2019-2-60-049',24,3.4,6],['Charlie','2019-2-60-005',22,3.9,8]]\n",
        "df = pd.DataFrame(list1)\n",
        "df.columns = ['name','id','age','CGPA','hoursStudied']\n",
        "print(df.head())"
      ],
      "metadata": {
        "colab": {
          "base_uri": "https://localhost:8080/"
        },
        "id": "_Jo5EC7yZuC2",
        "outputId": "cbcf3c38-ea61-40a8-c02f-0b257b814b4e"
      },
      "execution_count": null,
      "outputs": [
        {
          "output_type": "stream",
          "name": "stdout",
          "text": [
            "      name             id  age  CGPA  hoursStudied\n",
            "0    Alice  2019-2-60-040   23   3.5            10\n",
            "1      Bob  2019-2-60-049   24   3.4             6\n",
            "2  Charlie  2019-2-60-005   22   3.9             8\n"
          ]
        }
      ]
    },
    {
      "cell_type": "code",
      "source": [
        "#From Dictionary\n",
        "dict1 = {'id':[1,2,3],'name':['alice','bob','charlie'],'age':[20,25,32]}\n",
        "df1 = pd.DataFrame(dict1)\n",
        "print(df1)"
      ],
      "metadata": {
        "colab": {
          "base_uri": "https://localhost:8080/"
        },
        "id": "1NFwtvsubpl1",
        "outputId": "357630f7-c02e-4767-e5d8-c2bba39fc157"
      },
      "execution_count": null,
      "outputs": [
        {
          "output_type": "stream",
          "name": "stdout",
          "text": [
            "   id     name  age\n",
            "0   1    alice   20\n",
            "1   2      bob   25\n",
            "2   3  charlie   32\n"
          ]
        }
      ]
    },
    {
      "cell_type": "code",
      "source": [
        "#3.From CSV File\n",
        "from google.colab import drive\n",
        "drive.mount('/content/drive')\n",
        "df2 = pd.read_csv('/content/drive/My Drive/sample_data_1.csv', header=None)\n",
        "df2.columns = ['id','state','population','murder_rate']\n",
        "print(df2)\n",
        "df2.head()\n",
        "df2.tail()\n",
        "df2.count()"
      ],
      "metadata": {
        "colab": {
          "base_uri": "https://localhost:8080/"
        },
        "id": "mw4DSZMBd28P",
        "outputId": "5fd5e0c6-1af5-4d70-b40d-981f1af34297"
      },
      "execution_count": null,
      "outputs": [
        {
          "output_type": "stream",
          "name": "stdout",
          "text": [
            "Drive already mounted at /content/drive; to attempt to forcibly remount, call drive.mount(\"/content/drive\", force_remount=True).\n",
            "   id        state  population  murder_rate\n",
            "0   1      Alabama     4779736          5.7\n",
            "1   2       Alaska      710231          5.6\n",
            "2   3      Arizona     6392017          4.7\n",
            "3   4     Arkansas     2915918          5.6\n",
            "4   5   California    37253956          4.4\n",
            "5   6     Colorado     5029196          2.8\n",
            "6   7  Connecticut     3574097          2.4\n",
            "7   8     Delaware      897934          5.8\n"
          ]
        },
        {
          "output_type": "execute_result",
          "data": {
            "text/plain": [
              "id             8\n",
              "state          8\n",
              "population     8\n",
              "murder_rate    8\n",
              "dtype: int64"
            ]
          },
          "metadata": {},
          "execution_count": 14
        }
      ]
    },
    {
      "cell_type": "markdown",
      "source": [
        "4. Select, Add, Delete, Rename Indices, Rows or Columns of/from a DataFrame"
      ],
      "metadata": {
        "id": "vh1yfL2RmbsQ"
      }
    },
    {
      "cell_type": "code",
      "source": [
        "#Selecting the first cell\n",
        "print(df1.iloc[0][0])\n",
        "print(df1.iloc[0]['name'])"
      ],
      "metadata": {
        "colab": {
          "base_uri": "https://localhost:8080/"
        },
        "id": "VqDdFKl8mg0b",
        "outputId": "94ce2e31-a915-42a8-bf17-7dae8c72e556"
      },
      "execution_count": null,
      "outputs": [
        {
          "output_type": "stream",
          "name": "stdout",
          "text": [
            "1\n",
            "alice\n"
          ]
        }
      ]
    },
    {
      "cell_type": "code",
      "source": [
        "#Selecting a few columns\n",
        "df3 = df[['name','CGPA']]\n",
        "print(df3)"
      ],
      "metadata": {
        "colab": {
          "base_uri": "https://localhost:8080/"
        },
        "id": "u_l603cBqAwb",
        "outputId": "1a9889d6-cf7b-4960-9cb0-b792f7506ee4"
      },
      "execution_count": null,
      "outputs": [
        {
          "output_type": "stream",
          "name": "stdout",
          "text": [
            "      name  CGPA\n",
            "0    Alice   3.5\n",
            "1      Bob   3.4\n",
            "2  Charlie   3.9\n"
          ]
        }
      ]
    },
    {
      "cell_type": "code",
      "source": [
        "#selecting a few rows\n",
        "df4 = df1.loc[1:2]\n",
        "print(df4)\n",
        "df5 = df1.iloc[1:3]\n",
        "print(df5)"
      ],
      "metadata": {
        "colab": {
          "base_uri": "https://localhost:8080/"
        },
        "id": "PhUEl-zOsCVE",
        "outputId": "7f60eb7b-942c-49f1-ae58-2eb74aeb27bc"
      },
      "execution_count": null,
      "outputs": [
        {
          "output_type": "stream",
          "name": "stdout",
          "text": [
            "   id     name  age\n",
            "1   2      bob   25\n",
            "2   3  charlie   32\n",
            "   id     name  age\n",
            "1   2      bob   25\n",
            "2   3  charlie   32\n"
          ]
        }
      ]
    },
    {
      "cell_type": "code",
      "source": [
        "#Selecting a few rows and columns \n",
        "df4 = df1.loc[1:2,['name','age']]\n",
        "print(df4)\n",
        "df5 = df1.iloc[1:3,[0,1]]\n",
        "print(df5)"
      ],
      "metadata": {
        "colab": {
          "base_uri": "https://localhost:8080/"
        },
        "id": "BZ_7SfLY2lfA",
        "outputId": "2e7954b7-4e5c-42fc-eea7-bf4fbcd715e0"
      },
      "execution_count": null,
      "outputs": [
        {
          "output_type": "stream",
          "name": "stdout",
          "text": [
            "      name  age\n",
            "1      bob   25\n",
            "2  charlie   32\n",
            "   id     name\n",
            "1   2      bob\n",
            "2   3  charlie\n"
          ]
        }
      ]
    },
    {
      "cell_type": "code",
      "source": [
        "#appending two dataframes\n",
        "list1 = [['Alice',23,3.5,10],['Bob',24,3.4,6],['Charlie',22,3.9,8]]\n",
        "df = pd.DataFrame(list1)\n",
        "df.columns = ['name','age','cgpa','hoursStudied']\n",
        "\n",
        "list2 = [['Don',21,2.5,2],['Elton',25,2.75,4]]\n",
        "df11 = pd.DataFrame(list2)\n",
        "df11.columns = ['name','age','cgpa','hoursStudied']\n",
        "\n",
        "df12 = df.append(df11, ignore_index=True)\n",
        "print(df12)"
      ],
      "metadata": {
        "colab": {
          "base_uri": "https://localhost:8080/"
        },
        "id": "AkLrmRcKX1rd",
        "outputId": "8e7f8114-7a3d-4484-fbec-70f195628639"
      },
      "execution_count": null,
      "outputs": [
        {
          "output_type": "stream",
          "name": "stdout",
          "text": [
            "      name  age  cgpa  hoursStudied\n",
            "0    Alice   23  3.50            10\n",
            "1      Bob   24  3.40             6\n",
            "2  Charlie   22  3.90             8\n",
            "3      Don   21  2.50             2\n",
            "4    Elton   25  2.75             4\n"
          ]
        }
      ]
    },
    {
      "cell_type": "code",
      "source": [
        "#deleting rows/columns from a dataframe\n",
        "df12.drop([0,1],inplace=True)\n",
        "df12.drop(['cgpa'],axis=1,inplace=True)\n",
        "df12"
      ],
      "metadata": {
        "colab": {
          "base_uri": "https://localhost:8080/",
          "height": 143
        },
        "id": "caeeIK5GbXrY",
        "outputId": "f34b3f39-1868-4632-f35a-496216595a8a"
      },
      "execution_count": null,
      "outputs": [
        {
          "output_type": "execute_result",
          "data": {
            "text/plain": [
              "      name  age  hoursStudied\n",
              "2  Charlie   22             8\n",
              "3      Don   21             2\n",
              "4    Elton   25             4"
            ],
            "text/html": [
              "\n",
              "  <div id=\"df-bb822f87-a8c8-4acd-8314-3bdbededb93e\">\n",
              "    <div class=\"colab-df-container\">\n",
              "      <div>\n",
              "<style scoped>\n",
              "    .dataframe tbody tr th:only-of-type {\n",
              "        vertical-align: middle;\n",
              "    }\n",
              "\n",
              "    .dataframe tbody tr th {\n",
              "        vertical-align: top;\n",
              "    }\n",
              "\n",
              "    .dataframe thead th {\n",
              "        text-align: right;\n",
              "    }\n",
              "</style>\n",
              "<table border=\"1\" class=\"dataframe\">\n",
              "  <thead>\n",
              "    <tr style=\"text-align: right;\">\n",
              "      <th></th>\n",
              "      <th>name</th>\n",
              "      <th>age</th>\n",
              "      <th>hoursStudied</th>\n",
              "    </tr>\n",
              "  </thead>\n",
              "  <tbody>\n",
              "    <tr>\n",
              "      <th>2</th>\n",
              "      <td>Charlie</td>\n",
              "      <td>22</td>\n",
              "      <td>8</td>\n",
              "    </tr>\n",
              "    <tr>\n",
              "      <th>3</th>\n",
              "      <td>Don</td>\n",
              "      <td>21</td>\n",
              "      <td>2</td>\n",
              "    </tr>\n",
              "    <tr>\n",
              "      <th>4</th>\n",
              "      <td>Elton</td>\n",
              "      <td>25</td>\n",
              "      <td>4</td>\n",
              "    </tr>\n",
              "  </tbody>\n",
              "</table>\n",
              "</div>\n",
              "      <button class=\"colab-df-convert\" onclick=\"convertToInteractive('df-bb822f87-a8c8-4acd-8314-3bdbededb93e')\"\n",
              "              title=\"Convert this dataframe to an interactive table.\"\n",
              "              style=\"display:none;\">\n",
              "        \n",
              "  <svg xmlns=\"http://www.w3.org/2000/svg\" height=\"24px\"viewBox=\"0 0 24 24\"\n",
              "       width=\"24px\">\n",
              "    <path d=\"M0 0h24v24H0V0z\" fill=\"none\"/>\n",
              "    <path d=\"M18.56 5.44l.94 2.06.94-2.06 2.06-.94-2.06-.94-.94-2.06-.94 2.06-2.06.94zm-11 1L8.5 8.5l.94-2.06 2.06-.94-2.06-.94L8.5 2.5l-.94 2.06-2.06.94zm10 10l.94 2.06.94-2.06 2.06-.94-2.06-.94-.94-2.06-.94 2.06-2.06.94z\"/><path d=\"M17.41 7.96l-1.37-1.37c-.4-.4-.92-.59-1.43-.59-.52 0-1.04.2-1.43.59L10.3 9.45l-7.72 7.72c-.78.78-.78 2.05 0 2.83L4 21.41c.39.39.9.59 1.41.59.51 0 1.02-.2 1.41-.59l7.78-7.78 2.81-2.81c.8-.78.8-2.07 0-2.86zM5.41 20L4 18.59l7.72-7.72 1.47 1.35L5.41 20z\"/>\n",
              "  </svg>\n",
              "      </button>\n",
              "      \n",
              "  <style>\n",
              "    .colab-df-container {\n",
              "      display:flex;\n",
              "      flex-wrap:wrap;\n",
              "      gap: 12px;\n",
              "    }\n",
              "\n",
              "    .colab-df-convert {\n",
              "      background-color: #E8F0FE;\n",
              "      border: none;\n",
              "      border-radius: 50%;\n",
              "      cursor: pointer;\n",
              "      display: none;\n",
              "      fill: #1967D2;\n",
              "      height: 32px;\n",
              "      padding: 0 0 0 0;\n",
              "      width: 32px;\n",
              "    }\n",
              "\n",
              "    .colab-df-convert:hover {\n",
              "      background-color: #E2EBFA;\n",
              "      box-shadow: 0px 1px 2px rgba(60, 64, 67, 0.3), 0px 1px 3px 1px rgba(60, 64, 67, 0.15);\n",
              "      fill: #174EA6;\n",
              "    }\n",
              "\n",
              "    [theme=dark] .colab-df-convert {\n",
              "      background-color: #3B4455;\n",
              "      fill: #D2E3FC;\n",
              "    }\n",
              "\n",
              "    [theme=dark] .colab-df-convert:hover {\n",
              "      background-color: #434B5C;\n",
              "      box-shadow: 0px 1px 3px 1px rgba(0, 0, 0, 0.15);\n",
              "      filter: drop-shadow(0px 1px 2px rgba(0, 0, 0, 0.3));\n",
              "      fill: #FFFFFF;\n",
              "    }\n",
              "  </style>\n",
              "\n",
              "      <script>\n",
              "        const buttonEl =\n",
              "          document.querySelector('#df-bb822f87-a8c8-4acd-8314-3bdbededb93e button.colab-df-convert');\n",
              "        buttonEl.style.display =\n",
              "          google.colab.kernel.accessAllowed ? 'block' : 'none';\n",
              "\n",
              "        async function convertToInteractive(key) {\n",
              "          const element = document.querySelector('#df-bb822f87-a8c8-4acd-8314-3bdbededb93e');\n",
              "          const dataTable =\n",
              "            await google.colab.kernel.invokeFunction('convertToInteractive',\n",
              "                                                     [key], {});\n",
              "          if (!dataTable) return;\n",
              "\n",
              "          const docLinkHtml = 'Like what you see? Visit the ' +\n",
              "            '<a target=\"_blank\" href=https://colab.research.google.com/notebooks/data_table.ipynb>data table notebook</a>'\n",
              "            + ' to learn more about interactive tables.';\n",
              "          element.innerHTML = '';\n",
              "          dataTable['output_type'] = 'display_data';\n",
              "          await google.colab.output.renderOutput(dataTable, element);\n",
              "          const docLink = document.createElement('div');\n",
              "          docLink.innerHTML = docLinkHtml;\n",
              "          element.appendChild(docLink);\n",
              "        }\n",
              "      </script>\n",
              "    </div>\n",
              "  </div>\n",
              "  "
            ]
          },
          "metadata": {},
          "execution_count": 27
        }
      ]
    },
    {
      "cell_type": "code",
      "source": [
        "#Renaming columns \n",
        "new_cols = ['n','a','hs']\n",
        "df12.columns=new_cols\n",
        "print(df12)\n"
      ],
      "metadata": {
        "colab": {
          "base_uri": "https://localhost:8080/"
        },
        "id": "5JNE8XbVdN_I",
        "outputId": "a7c99463-a64e-47c3-9878-6892dd8e8e81"
      },
      "execution_count": null,
      "outputs": [
        {
          "output_type": "stream",
          "name": "stdout",
          "text": [
            "         n   a  hs\n",
            "2  Charlie  22   8\n",
            "3      Don  21   2\n",
            "4    Elton  25   4\n"
          ]
        }
      ]
    },
    {
      "cell_type": "markdown",
      "source": [
        "5. Data Filtering, Sorting "
      ],
      "metadata": {
        "id": "8F-Bd-NreVZO"
      }
    },
    {
      "cell_type": "code",
      "source": [
        "cgpa_greater_that_three_point_five1 = df[df['cgpa']>3.5]\n",
        "print(cgpa_greater_that_three_point_five1)"
      ],
      "metadata": {
        "colab": {
          "base_uri": "https://localhost:8080/"
        },
        "id": "rPIC4dK8ebpx",
        "outputId": "75c94e5f-3576-46e5-81b2-5060e4fc8a73"
      },
      "execution_count": null,
      "outputs": [
        {
          "output_type": "stream",
          "name": "stdout",
          "text": [
            "      name  age  cgpa  hoursStudied\n",
            "2  Charlie   22   3.9             8\n"
          ]
        }
      ]
    },
    {
      "cell_type": "code",
      "source": [
        "cgpa_greater_that_three_point_five2 = df.loc[df['cgpa']>3.5]\n",
        "print(cgpa_greater_that_three_point_five2)"
      ],
      "metadata": {
        "colab": {
          "base_uri": "https://localhost:8080/"
        },
        "id": "A0BXdVZmhLFQ",
        "outputId": "1a9dc3ce-a250-429c-aac7-0bfed5dc6958"
      },
      "execution_count": null,
      "outputs": [
        {
          "output_type": "stream",
          "name": "stdout",
          "text": [
            "      name  age  cgpa  hoursStudied\n",
            "2  Charlie   22   3.9             8\n"
          ]
        }
      ]
    },
    {
      "cell_type": "code",
      "source": [
        "cgpa_greater_that_three_point_five3 = df.query('cgpa > 3.5')\n",
        "print(cgpa_greater_that_three_point_five3)"
      ],
      "metadata": {
        "colab": {
          "base_uri": "https://localhost:8080/"
        },
        "id": "xrU4iI5ghiam",
        "outputId": "704a9634-4c91-4a48-8f64-085d5e4142ed"
      },
      "execution_count": null,
      "outputs": [
        {
          "output_type": "stream",
          "name": "stdout",
          "text": [
            "      name  age  cgpa  hoursStudied\n",
            "2  Charlie   22   3.9             8\n"
          ]
        }
      ]
    },
    {
      "cell_type": "code",
      "source": [
        "df.sort_values(by=['age'])\n",
        "df"
      ],
      "metadata": {
        "colab": {
          "base_uri": "https://localhost:8080/",
          "height": 143
        },
        "id": "l0LFHsQFhzJr",
        "outputId": "af728a7e-0845-4b1d-f9c4-ef3fc5c3244e"
      },
      "execution_count": null,
      "outputs": [
        {
          "output_type": "execute_result",
          "data": {
            "text/plain": [
              "      name  age  cgpa  hoursStudied\n",
              "0    Alice   23   3.5            10\n",
              "1      Bob   24   3.4             6\n",
              "2  Charlie   22   3.9             8"
            ],
            "text/html": [
              "\n",
              "  <div id=\"df-59fbd3e6-f62d-40dd-a687-0819315e2304\">\n",
              "    <div class=\"colab-df-container\">\n",
              "      <div>\n",
              "<style scoped>\n",
              "    .dataframe tbody tr th:only-of-type {\n",
              "        vertical-align: middle;\n",
              "    }\n",
              "\n",
              "    .dataframe tbody tr th {\n",
              "        vertical-align: top;\n",
              "    }\n",
              "\n",
              "    .dataframe thead th {\n",
              "        text-align: right;\n",
              "    }\n",
              "</style>\n",
              "<table border=\"1\" class=\"dataframe\">\n",
              "  <thead>\n",
              "    <tr style=\"text-align: right;\">\n",
              "      <th></th>\n",
              "      <th>name</th>\n",
              "      <th>age</th>\n",
              "      <th>cgpa</th>\n",
              "      <th>hoursStudied</th>\n",
              "    </tr>\n",
              "  </thead>\n",
              "  <tbody>\n",
              "    <tr>\n",
              "      <th>0</th>\n",
              "      <td>Alice</td>\n",
              "      <td>23</td>\n",
              "      <td>3.5</td>\n",
              "      <td>10</td>\n",
              "    </tr>\n",
              "    <tr>\n",
              "      <th>1</th>\n",
              "      <td>Bob</td>\n",
              "      <td>24</td>\n",
              "      <td>3.4</td>\n",
              "      <td>6</td>\n",
              "    </tr>\n",
              "    <tr>\n",
              "      <th>2</th>\n",
              "      <td>Charlie</td>\n",
              "      <td>22</td>\n",
              "      <td>3.9</td>\n",
              "      <td>8</td>\n",
              "    </tr>\n",
              "  </tbody>\n",
              "</table>\n",
              "</div>\n",
              "      <button class=\"colab-df-convert\" onclick=\"convertToInteractive('df-59fbd3e6-f62d-40dd-a687-0819315e2304')\"\n",
              "              title=\"Convert this dataframe to an interactive table.\"\n",
              "              style=\"display:none;\">\n",
              "        \n",
              "  <svg xmlns=\"http://www.w3.org/2000/svg\" height=\"24px\"viewBox=\"0 0 24 24\"\n",
              "       width=\"24px\">\n",
              "    <path d=\"M0 0h24v24H0V0z\" fill=\"none\"/>\n",
              "    <path d=\"M18.56 5.44l.94 2.06.94-2.06 2.06-.94-2.06-.94-.94-2.06-.94 2.06-2.06.94zm-11 1L8.5 8.5l.94-2.06 2.06-.94-2.06-.94L8.5 2.5l-.94 2.06-2.06.94zm10 10l.94 2.06.94-2.06 2.06-.94-2.06-.94-.94-2.06-.94 2.06-2.06.94z\"/><path d=\"M17.41 7.96l-1.37-1.37c-.4-.4-.92-.59-1.43-.59-.52 0-1.04.2-1.43.59L10.3 9.45l-7.72 7.72c-.78.78-.78 2.05 0 2.83L4 21.41c.39.39.9.59 1.41.59.51 0 1.02-.2 1.41-.59l7.78-7.78 2.81-2.81c.8-.78.8-2.07 0-2.86zM5.41 20L4 18.59l7.72-7.72 1.47 1.35L5.41 20z\"/>\n",
              "  </svg>\n",
              "      </button>\n",
              "      \n",
              "  <style>\n",
              "    .colab-df-container {\n",
              "      display:flex;\n",
              "      flex-wrap:wrap;\n",
              "      gap: 12px;\n",
              "    }\n",
              "\n",
              "    .colab-df-convert {\n",
              "      background-color: #E8F0FE;\n",
              "      border: none;\n",
              "      border-radius: 50%;\n",
              "      cursor: pointer;\n",
              "      display: none;\n",
              "      fill: #1967D2;\n",
              "      height: 32px;\n",
              "      padding: 0 0 0 0;\n",
              "      width: 32px;\n",
              "    }\n",
              "\n",
              "    .colab-df-convert:hover {\n",
              "      background-color: #E2EBFA;\n",
              "      box-shadow: 0px 1px 2px rgba(60, 64, 67, 0.3), 0px 1px 3px 1px rgba(60, 64, 67, 0.15);\n",
              "      fill: #174EA6;\n",
              "    }\n",
              "\n",
              "    [theme=dark] .colab-df-convert {\n",
              "      background-color: #3B4455;\n",
              "      fill: #D2E3FC;\n",
              "    }\n",
              "\n",
              "    [theme=dark] .colab-df-convert:hover {\n",
              "      background-color: #434B5C;\n",
              "      box-shadow: 0px 1px 3px 1px rgba(0, 0, 0, 0.15);\n",
              "      filter: drop-shadow(0px 1px 2px rgba(0, 0, 0, 0.3));\n",
              "      fill: #FFFFFF;\n",
              "    }\n",
              "  </style>\n",
              "\n",
              "      <script>\n",
              "        const buttonEl =\n",
              "          document.querySelector('#df-59fbd3e6-f62d-40dd-a687-0819315e2304 button.colab-df-convert');\n",
              "        buttonEl.style.display =\n",
              "          google.colab.kernel.accessAllowed ? 'block' : 'none';\n",
              "\n",
              "        async function convertToInteractive(key) {\n",
              "          const element = document.querySelector('#df-59fbd3e6-f62d-40dd-a687-0819315e2304');\n",
              "          const dataTable =\n",
              "            await google.colab.kernel.invokeFunction('convertToInteractive',\n",
              "                                                     [key], {});\n",
              "          if (!dataTable) return;\n",
              "\n",
              "          const docLinkHtml = 'Like what you see? Visit the ' +\n",
              "            '<a target=\"_blank\" href=https://colab.research.google.com/notebooks/data_table.ipynb>data table notebook</a>'\n",
              "            + ' to learn more about interactive tables.';\n",
              "          element.innerHTML = '';\n",
              "          dataTable['output_type'] = 'display_data';\n",
              "          await google.colab.output.renderOutput(dataTable, element);\n",
              "          const docLink = document.createElement('div');\n",
              "          docLink.innerHTML = docLinkHtml;\n",
              "          element.appendChild(docLink);\n",
              "        }\n",
              "      </script>\n",
              "    </div>\n",
              "  </div>\n",
              "  "
            ]
          },
          "metadata": {},
          "execution_count": 46
        }
      ]
    }
  ]
}