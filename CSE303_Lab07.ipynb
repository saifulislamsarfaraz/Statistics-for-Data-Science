{
  "nbformat": 4,
  "nbformat_minor": 0,
  "metadata": {
    "colab": {
      "provenance": []
    },
    "kernelspec": {
      "name": "python3",
      "display_name": "Python 3"
    },
    "language_info": {
      "name": "python"
    }
  },
  "cells": [
    {
      "cell_type": "code",
      "execution_count": null,
      "metadata": {
        "id": "XibbD7S6Ip5e"
      },
      "outputs": [],
      "source": [
        "import pandas as pd\n",
        "import numpy as np"
      ]
    },
    {
      "cell_type": "code",
      "source": [
        "df = pd.read_excel('dataset_multiple_LR.xlsx')\n",
        "print(df)"
      ],
      "metadata": {
        "colab": {
          "base_uri": "https://localhost:8080/"
        },
        "id": "6Ejurr4EI_wa",
        "outputId": "07d357d6-b362-4c26-df8f-6ea08a901418"
      },
      "execution_count": null,
      "outputs": [
        {
          "output_type": "stream",
          "name": "stdout",
          "text": [
            "    Age  Weight  Blood Pressure\n",
            "0    52     173             132\n",
            "1    59     184             143\n",
            "2    67     194             153\n",
            "3    73     211             162\n",
            "4    64     196             154\n",
            "5    74     220             168\n",
            "6    54     188             137\n",
            "7    61     188             149\n",
            "8    65     207             159\n",
            "9    46     167             128\n",
            "10   72     217             166\n"
          ]
        }
      ]
    },
    {
      "cell_type": "code",
      "source": [
        "data = df.to_numpy()\n",
        "print(data)"
      ],
      "metadata": {
        "colab": {
          "base_uri": "https://localhost:8080/"
        },
        "id": "TpqZzN0gJG3y",
        "outputId": "c6539b4e-2b24-4746-9722-5f880df5fea6"
      },
      "execution_count": null,
      "outputs": [
        {
          "output_type": "stream",
          "name": "stdout",
          "text": [
            "[[ 52 173 132]\n",
            " [ 59 184 143]\n",
            " [ 67 194 153]\n",
            " [ 73 211 162]\n",
            " [ 64 196 154]\n",
            " [ 74 220 168]\n",
            " [ 54 188 137]\n",
            " [ 61 188 149]\n",
            " [ 65 207 159]\n",
            " [ 46 167 128]\n",
            " [ 72 217 166]]\n"
          ]
        }
      ]
    },
    {
      "cell_type": "code",
      "source": [
        "type(data)\n"
      ],
      "metadata": {
        "colab": {
          "base_uri": "https://localhost:8080/"
        },
        "id": "yvurFp9aJNlR",
        "outputId": "8952aad5-6c80-4302-930a-0b85e08945c5"
      },
      "execution_count": null,
      "outputs": [
        {
          "output_type": "execute_result",
          "data": {
            "text/plain": [
              "numpy.ndarray"
            ]
          },
          "metadata": {},
          "execution_count": 9
        }
      ]
    },
    {
      "cell_type": "code",
      "source": [
        "X = data[:,0:2]\n",
        "print(X)"
      ],
      "metadata": {
        "colab": {
          "base_uri": "https://localhost:8080/"
        },
        "id": "9RnZ-sZLJpdx",
        "outputId": "0d3fd6c0-ceb7-4de8-fe51-e8f373b1446d"
      },
      "execution_count": null,
      "outputs": [
        {
          "output_type": "stream",
          "name": "stdout",
          "text": [
            "[[ 52 173]\n",
            " [ 59 184]\n",
            " [ 67 194]\n",
            " [ 73 211]\n",
            " [ 64 196]\n",
            " [ 74 220]\n",
            " [ 54 188]\n",
            " [ 61 188]\n",
            " [ 65 207]\n",
            " [ 46 167]\n",
            " [ 72 217]]\n"
          ]
        }
      ]
    },
    {
      "cell_type": "code",
      "source": [
        "Y = data[:,2].reshape(-1,1)\n",
        "print(Y)"
      ],
      "metadata": {
        "colab": {
          "base_uri": "https://localhost:8080/"
        },
        "id": "Fs4IgQ8aKQE5",
        "outputId": "bc6f91e2-055f-4dae-9dfd-b16f0c7dc5fe"
      },
      "execution_count": null,
      "outputs": [
        {
          "output_type": "stream",
          "name": "stdout",
          "text": [
            "[[132]\n",
            " [143]\n",
            " [153]\n",
            " [162]\n",
            " [154]\n",
            " [168]\n",
            " [137]\n",
            " [149]\n",
            " [159]\n",
            " [128]\n",
            " [166]]\n"
          ]
        }
      ]
    },
    {
      "cell_type": "code",
      "source": [
        "X0 = np.ones(11).reshape(-1,1)\n",
        "print(X0)"
      ],
      "metadata": {
        "colab": {
          "base_uri": "https://localhost:8080/"
        },
        "id": "N1MxuvWaKaQo",
        "outputId": "1c48803f-2b29-49df-db25-5a2d6547cee6"
      },
      "execution_count": null,
      "outputs": [
        {
          "output_type": "stream",
          "name": "stdout",
          "text": [
            "[[1.]\n",
            " [1.]\n",
            " [1.]\n",
            " [1.]\n",
            " [1.]\n",
            " [1.]\n",
            " [1.]\n",
            " [1.]\n",
            " [1.]\n",
            " [1.]\n",
            " [1.]]\n"
          ]
        }
      ]
    },
    {
      "cell_type": "code",
      "source": [
        "X = np.append(X0,X, axis = 1)\n",
        "print(X)"
      ],
      "metadata": {
        "colab": {
          "base_uri": "https://localhost:8080/"
        },
        "id": "GaD1ztTILBKw",
        "outputId": "eca633be-368e-49e0-834e-0a3e72d8da9b"
      },
      "execution_count": null,
      "outputs": [
        {
          "output_type": "stream",
          "name": "stdout",
          "text": [
            "[[  1.  52. 173.]\n",
            " [  1.  59. 184.]\n",
            " [  1.  67. 194.]\n",
            " [  1.  73. 211.]\n",
            " [  1.  64. 196.]\n",
            " [  1.  74. 220.]\n",
            " [  1.  54. 188.]\n",
            " [  1.  61. 188.]\n",
            " [  1.  65. 207.]\n",
            " [  1.  46. 167.]\n",
            " [  1.  72. 217.]]\n"
          ]
        }
      ]
    },
    {
      "cell_type": "code",
      "source": [
        "print(Y)"
      ],
      "metadata": {
        "colab": {
          "base_uri": "https://localhost:8080/"
        },
        "id": "5I5c41O9Mipv",
        "outputId": "71b39c3f-cb02-4165-8bc8-6b474b9a1658"
      },
      "execution_count": null,
      "outputs": [
        {
          "output_type": "stream",
          "name": "stdout",
          "text": [
            "[[132]\n",
            " [143]\n",
            " [153]\n",
            " [162]\n",
            " [154]\n",
            " [168]\n",
            " [137]\n",
            " [149]\n",
            " [159]\n",
            " [128]\n",
            " [166]]\n"
          ]
        }
      ]
    },
    {
      "cell_type": "code",
      "source": [
        "def transpose (X):\n",
        "  result = np.zeros(len(X)*len(X[0])).reshape(len(X[0]),len(X))\n",
        "  for j in range(len(X)):\n",
        "    for i in range(len(X[0])):\n",
        "      result[i,j] = X[j, i]\n",
        "  return result"
      ],
      "metadata": {
        "id": "cPkW-gvxTabc"
      },
      "execution_count": null,
      "outputs": []
    },
    {
      "cell_type": "code",
      "source": [
        "XT = transpose(X)\n",
        "print(XT)\n"
      ],
      "metadata": {
        "colab": {
          "base_uri": "https://localhost:8080/"
        },
        "id": "kYfevmJtTwfM",
        "outputId": "6b4a7961-ad4e-449d-e2b4-83df3c27e052"
      },
      "execution_count": null,
      "outputs": [
        {
          "output_type": "stream",
          "name": "stdout",
          "text": [
            "[[  1.   1.   1.   1.   1.   1.   1.   1.   1.   1.   1.]\n",
            " [ 52.  59.  67.  73.  64.  74.  54.  61.  65.  46.  72.]\n",
            " [173. 184. 194. 211. 196. 220. 188. 188. 207. 167. 217.]]\n"
          ]
        }
      ]
    },
    {
      "cell_type": "code",
      "source": [
        "def matrixMultiplication(A, B):\n",
        "  result = np.zeros(len(A)*len(A)).reshape(len(A),len(A))\n",
        "  for i in range(len(A)):\n",
        "    for j in range(len(A)):\n",
        "      for k in range(len(A[0])):\n",
        "        result[i,j] += A[i,k] * B[k,j]\n",
        "  return result\n",
        "  "
      ],
      "metadata": {
        "id": "dpm-9Cb4VhO7"
      },
      "execution_count": null,
      "outputs": []
    },
    {
      "cell_type": "code",
      "source": [
        "np.set_printoptions(suppress=True)\n",
        "A = matrixMultiplication(XT, X)\n",
        "A"
      ],
      "metadata": {
        "colab": {
          "base_uri": "https://localhost:8080/"
        },
        "id": "ORXVt0WiWhkr",
        "outputId": "b957542a-c85d-497b-d03b-78922341008c"
      },
      "execution_count": null,
      "outputs": [
        {
          "output_type": "execute_result",
          "data": {
            "text/plain": [
              "array([[    11.,    687.,   2145.],\n",
              "       [   687.,  43737., 135458.],\n",
              "       [  2145., 135458., 421273.]])"
            ]
          },
          "metadata": {},
          "execution_count": 56
        }
      ]
    }
  ]
}