{
  "cells": [
    {
      "cell_type": "markdown",
      "metadata": {
        "id": "view-in-github",
        "colab_type": "text"
      },
      "source": [
        "<a href=\"https://colab.research.google.com/github/saifulislamsarfaraz/Statistics-for-Data-Science/blob/main/ElasticNet.ipynb\" target=\"_parent\"><img src=\"https://colab.research.google.com/assets/colab-badge.svg\" alt=\"Open In Colab\"/></a>"
      ]
    },
    {
      "metadata": {
        "id": "ry9fXKzksxFx"
      },
      "cell_type": "markdown",
      "source": [
        "## Table of contents: \n",
        "**1. Intuition**  \n",
        "<br/>\n",
        "     1.1 What is Regularization  \n",
        "     1.2 Ridge Regression  \n",
        "     1.3 Lasso Regression  \n",
        "     1.4 Elastic Net Regression  \n",
        "     1.5 Key differences  \n",
        "     1.6 Criteria to choose regularization method\n",
        "     <br/>\n",
        "\n",
        "**2. Example with Diabetes Dataset**  \n",
        "2.1 Importing necessary modules along with dataset  \n",
        "2.2 Data processing  \n",
        "2.3 Linear Regression Model  \n",
        "2.4 Ridge Regression  \n",
        "2.5 Ridge Regression with GridSearchCV  \n",
        "2.6 Lasso Regression\n",
        "\n",
        "2.7 Elastic Net Regression\n",
        "\n",
        "2.8 Elastic Net Regression with GridSearchCV  \n",
        "\n",
        "2.9 Conclusion"
      ]
    },
    {
      "metadata": {
        "id": "4P5nm9PpsxF0"
      },
      "cell_type": "markdown",
      "source": [
        "<br/>\n",
        "<br/>\n",
        "\n",
        "## 1.1 What is Regularization\n",
        "\n",
        "Getting a good accuracy score isn't always pleasant to a data scientist specially when he gets a good training accuracy along with a poor test accuracy. Though this type of model can predict the training set very well, but it can't perform well for the test as well as new dataset. This type of situation or model is called **Overfitting**. So how can we solved this problem?\n",
        "<br/>\n",
        "\n",
        "Here comes up **Regularizaton** to solve this problem. So in short, we can say that Regularizaton is the process to prevent a model to be overfitted.\n",
        "<br/>\n",
        "\n",
        "But how? Regularization can be carried out by **Ridge Regression**, **Lasso Regression** and **Elastic Net Regression**. We will try to learn how these regression work and reduce the risk of overfitting throughout this kernel.\n",
        "\n",
        "<br/>\n"
      ]
    },
    {
      "metadata": {
        "id": "rl2mrTlSsxF1"
      },
      "cell_type": "markdown",
      "source": [
        "<br/>\n",
        "\n",
        "## 1.2 Ridge Regression\n",
        "\n",
        "It's also called L2 regularization. It shrinks the coefficients by adding a penalty to the least squares.\n",
        "<br/>\n",
        "\n",
        "**Ridge Regression penalty =  lambda1  x  square of the magnitude of the coefficients**\n",
        "<br/>\n",
        "\n",
        "By shrinking the coefficients Ridge Regession reduces the model complexity and multi-collinearity. But it keeps all the variables."
      ]
    },
    {
      "metadata": {
        "id": "U5Dym7DasxF2"
      },
      "cell_type": "markdown",
      "source": [
        "<br/>\n",
        "\n",
        "## 1.3 Lasso Regression\n",
        "\n",
        "It's also called L1 regularization. It shrinks the coefficients by adding a penalty to the least squares.\n",
        "<br/>\n",
        "\n",
        "**Lasso Regression penalty =  lambda2  x  |the magnitude of the coefficients|**\n",
        "<br/>\n",
        "\n",
        "By shrinking the coefficients Lasso Regession also reduces the model complexity and multi-collinearity like Ridge Regression. But in Lasso Regression, the coefficients of less important variables get multiplied by zero and removed."
      ]
    },
    {
      "metadata": {
        "id": "YA4XdW-lsxF2"
      },
      "cell_type": "markdown",
      "source": [
        "<br/>\n",
        "\n",
        "## 1.4 Elastic Net Regression\n",
        "\n",
        "Elastic Net is the combination of Ridge and Lasso Regression. It has both Ridge Regression penalty and Lasso Regression penalty in it's own penalty.\n",
        "<br/>\n",
        "\n",
        "**Elastic Net Regression penalty = lambda1 x square of the magnitude of the coefficients + lambda2 x |the magnitude of the coefficients|**\n",
        "<br/>\n",
        "\n",
        "When,  \n",
        "lambda1 = lambda2 = 0       -     Elastic Net becomes least square parameter estimates  \n",
        "lambda1 > 0 and lambda2 = 0 -     Ridge Regression  \n",
        "lambda1 = 0 and lambda2 > 0 -     Lasso Regression  \n",
        "lambda1  >0 and lambda2 > 0 -     Elastic Net Regression  "
      ]
    },
    {
      "metadata": {
        "id": "K3yA33jmsxF2"
      },
      "cell_type": "markdown",
      "source": [
        "<br/>\n",
        "\n",
        "## 1.5 Key differences\n",
        "\n",
        "Ridge and Lasso Regression are almost same. But the only key difference they have is Ridge Regression doesn't remove any features while the features with less importance is removed by Lasso Regression."
      ]
    },
    {
      "metadata": {
        "id": "l9guduk4sxF3"
      },
      "cell_type": "markdown",
      "source": [
        "<br/>\n",
        "\n",
        "## 1.6 Criteria to choose regularization method\n",
        "<br/>\n",
        "\n",
        "**Ridge Regression**\n",
        "1. When all the features you have are important to your model  \n",
        "2. When you don't want to do feature selection as well as feature removing  \n",
        "<br/>\n",
        "\n",
        "**Lasso Regression**\n",
        "1. When you have too many features  \n",
        "2. And you know some of them don't have any significance to your model  \n",
        "3. When you want to remove the features with less importance  \n",
        "<br/>\n",
        "\n",
        "**Elastic Net Regression**\n",
        "1. When you don't know whether all the features have significance or not  \n",
        "2. when there are strong correlations between features"
      ]
    },
    {
      "cell_type": "markdown",
      "metadata": {
        "id": "NFNJwMiDl7TN"
      },
      "source": [
        "Importing Necessary Libraries:"
      ]
    },
    {
      "cell_type": "code",
      "execution_count": 40,
      "metadata": {
        "id": "wFzpm0O2l7TP"
      },
      "outputs": [],
      "source": [
        "import pandas as pd\n",
        "import numpy as np\n",
        "import sklearn\n",
        "import matplotlib.pyplot as plt\n",
        "from sklearn import datasets\n",
        "import seaborn as sns\n",
        "%matplotlib inline\n",
        "from sklearn.model_selection import train_test_split\n",
        "from sklearn.preprocessing import StandardScaler\n",
        "from sklearn.linear_model import LinearRegression, Ridge, Lasso, ElasticNet\n",
        "from sklearn.metrics import r2_score\n",
        "from sklearn.model_selection import cross_val_score, GridSearchCV\n",
        "import warnings\n",
        "warnings.filterwarnings('ignore', category = DeprecationWarning)\n",
        "from warnings import filterwarnings\n",
        "filterwarnings('ignore')"
      ]
    },
    {
      "cell_type": "markdown",
      "metadata": {
        "id": "JGsWuPOQl7TR"
      },
      "source": [
        "## Loading the Dataset: "
      ]
    },
    {
      "cell_type": "code",
      "execution_count": 36,
      "metadata": {
        "id": "JKiAarn2l7TR"
      },
      "outputs": [],
      "source": [
        "boston_data = datasets.load_boston()"
      ]
    },
    {
      "cell_type": "markdown",
      "metadata": {
        "id": "k1E_MbX8l7TT"
      },
      "source": [
        "## Pre-processing the Data:"
      ]
    },
    {
      "cell_type": "code",
      "execution_count": 37,
      "metadata": {
        "colab": {
          "base_uri": "https://localhost:8080/",
          "height": 267
        },
        "id": "079g_Qu-l7TT",
        "outputId": "2ef08615-7231-4dae-bd3f-6d5b2982b0cf"
      },
      "outputs": [
        {
          "output_type": "execute_result",
          "data": {
            "text/plain": [
              "      CRIM    ZN  INDUS  CHAS    NOX     RM   AGE     DIS  RAD    TAX  \\\n",
              "0  0.00632  18.0   2.31   0.0  0.538  6.575  65.2  4.0900  1.0  296.0   \n",
              "1  0.02731   0.0   7.07   0.0  0.469  6.421  78.9  4.9671  2.0  242.0   \n",
              "2  0.02729   0.0   7.07   0.0  0.469  7.185  61.1  4.9671  2.0  242.0   \n",
              "3  0.03237   0.0   2.18   0.0  0.458  6.998  45.8  6.0622  3.0  222.0   \n",
              "4  0.06905   0.0   2.18   0.0  0.458  7.147  54.2  6.0622  3.0  222.0   \n",
              "\n",
              "   PTRATIO       B  LSTAT  Hourse Price  \n",
              "0     15.3  396.90   4.98          24.0  \n",
              "1     17.8  396.90   9.14          21.6  \n",
              "2     17.8  392.83   4.03          34.7  \n",
              "3     18.7  394.63   2.94          33.4  \n",
              "4     18.7  396.90   5.33          36.2  "
            ],
            "text/html": [
              "\n",
              "  <div id=\"df-f1547e50-cc47-42e5-8cc0-a49a23428251\">\n",
              "    <div class=\"colab-df-container\">\n",
              "      <div>\n",
              "<style scoped>\n",
              "    .dataframe tbody tr th:only-of-type {\n",
              "        vertical-align: middle;\n",
              "    }\n",
              "\n",
              "    .dataframe tbody tr th {\n",
              "        vertical-align: top;\n",
              "    }\n",
              "\n",
              "    .dataframe thead th {\n",
              "        text-align: right;\n",
              "    }\n",
              "</style>\n",
              "<table border=\"1\" class=\"dataframe\">\n",
              "  <thead>\n",
              "    <tr style=\"text-align: right;\">\n",
              "      <th></th>\n",
              "      <th>CRIM</th>\n",
              "      <th>ZN</th>\n",
              "      <th>INDUS</th>\n",
              "      <th>CHAS</th>\n",
              "      <th>NOX</th>\n",
              "      <th>RM</th>\n",
              "      <th>AGE</th>\n",
              "      <th>DIS</th>\n",
              "      <th>RAD</th>\n",
              "      <th>TAX</th>\n",
              "      <th>PTRATIO</th>\n",
              "      <th>B</th>\n",
              "      <th>LSTAT</th>\n",
              "      <th>Hourse Price</th>\n",
              "    </tr>\n",
              "  </thead>\n",
              "  <tbody>\n",
              "    <tr>\n",
              "      <th>0</th>\n",
              "      <td>0.00632</td>\n",
              "      <td>18.0</td>\n",
              "      <td>2.31</td>\n",
              "      <td>0.0</td>\n",
              "      <td>0.538</td>\n",
              "      <td>6.575</td>\n",
              "      <td>65.2</td>\n",
              "      <td>4.0900</td>\n",
              "      <td>1.0</td>\n",
              "      <td>296.0</td>\n",
              "      <td>15.3</td>\n",
              "      <td>396.90</td>\n",
              "      <td>4.98</td>\n",
              "      <td>24.0</td>\n",
              "    </tr>\n",
              "    <tr>\n",
              "      <th>1</th>\n",
              "      <td>0.02731</td>\n",
              "      <td>0.0</td>\n",
              "      <td>7.07</td>\n",
              "      <td>0.0</td>\n",
              "      <td>0.469</td>\n",
              "      <td>6.421</td>\n",
              "      <td>78.9</td>\n",
              "      <td>4.9671</td>\n",
              "      <td>2.0</td>\n",
              "      <td>242.0</td>\n",
              "      <td>17.8</td>\n",
              "      <td>396.90</td>\n",
              "      <td>9.14</td>\n",
              "      <td>21.6</td>\n",
              "    </tr>\n",
              "    <tr>\n",
              "      <th>2</th>\n",
              "      <td>0.02729</td>\n",
              "      <td>0.0</td>\n",
              "      <td>7.07</td>\n",
              "      <td>0.0</td>\n",
              "      <td>0.469</td>\n",
              "      <td>7.185</td>\n",
              "      <td>61.1</td>\n",
              "      <td>4.9671</td>\n",
              "      <td>2.0</td>\n",
              "      <td>242.0</td>\n",
              "      <td>17.8</td>\n",
              "      <td>392.83</td>\n",
              "      <td>4.03</td>\n",
              "      <td>34.7</td>\n",
              "    </tr>\n",
              "    <tr>\n",
              "      <th>3</th>\n",
              "      <td>0.03237</td>\n",
              "      <td>0.0</td>\n",
              "      <td>2.18</td>\n",
              "      <td>0.0</td>\n",
              "      <td>0.458</td>\n",
              "      <td>6.998</td>\n",
              "      <td>45.8</td>\n",
              "      <td>6.0622</td>\n",
              "      <td>3.0</td>\n",
              "      <td>222.0</td>\n",
              "      <td>18.7</td>\n",
              "      <td>394.63</td>\n",
              "      <td>2.94</td>\n",
              "      <td>33.4</td>\n",
              "    </tr>\n",
              "    <tr>\n",
              "      <th>4</th>\n",
              "      <td>0.06905</td>\n",
              "      <td>0.0</td>\n",
              "      <td>2.18</td>\n",
              "      <td>0.0</td>\n",
              "      <td>0.458</td>\n",
              "      <td>7.147</td>\n",
              "      <td>54.2</td>\n",
              "      <td>6.0622</td>\n",
              "      <td>3.0</td>\n",
              "      <td>222.0</td>\n",
              "      <td>18.7</td>\n",
              "      <td>396.90</td>\n",
              "      <td>5.33</td>\n",
              "      <td>36.2</td>\n",
              "    </tr>\n",
              "  </tbody>\n",
              "</table>\n",
              "</div>\n",
              "      <button class=\"colab-df-convert\" onclick=\"convertToInteractive('df-f1547e50-cc47-42e5-8cc0-a49a23428251')\"\n",
              "              title=\"Convert this dataframe to an interactive table.\"\n",
              "              style=\"display:none;\">\n",
              "        \n",
              "  <svg xmlns=\"http://www.w3.org/2000/svg\" height=\"24px\"viewBox=\"0 0 24 24\"\n",
              "       width=\"24px\">\n",
              "    <path d=\"M0 0h24v24H0V0z\" fill=\"none\"/>\n",
              "    <path d=\"M18.56 5.44l.94 2.06.94-2.06 2.06-.94-2.06-.94-.94-2.06-.94 2.06-2.06.94zm-11 1L8.5 8.5l.94-2.06 2.06-.94-2.06-.94L8.5 2.5l-.94 2.06-2.06.94zm10 10l.94 2.06.94-2.06 2.06-.94-2.06-.94-.94-2.06-.94 2.06-2.06.94z\"/><path d=\"M17.41 7.96l-1.37-1.37c-.4-.4-.92-.59-1.43-.59-.52 0-1.04.2-1.43.59L10.3 9.45l-7.72 7.72c-.78.78-.78 2.05 0 2.83L4 21.41c.39.39.9.59 1.41.59.51 0 1.02-.2 1.41-.59l7.78-7.78 2.81-2.81c.8-.78.8-2.07 0-2.86zM5.41 20L4 18.59l7.72-7.72 1.47 1.35L5.41 20z\"/>\n",
              "  </svg>\n",
              "      </button>\n",
              "      \n",
              "  <style>\n",
              "    .colab-df-container {\n",
              "      display:flex;\n",
              "      flex-wrap:wrap;\n",
              "      gap: 12px;\n",
              "    }\n",
              "\n",
              "    .colab-df-convert {\n",
              "      background-color: #E8F0FE;\n",
              "      border: none;\n",
              "      border-radius: 50%;\n",
              "      cursor: pointer;\n",
              "      display: none;\n",
              "      fill: #1967D2;\n",
              "      height: 32px;\n",
              "      padding: 0 0 0 0;\n",
              "      width: 32px;\n",
              "    }\n",
              "\n",
              "    .colab-df-convert:hover {\n",
              "      background-color: #E2EBFA;\n",
              "      box-shadow: 0px 1px 2px rgba(60, 64, 67, 0.3), 0px 1px 3px 1px rgba(60, 64, 67, 0.15);\n",
              "      fill: #174EA6;\n",
              "    }\n",
              "\n",
              "    [theme=dark] .colab-df-convert {\n",
              "      background-color: #3B4455;\n",
              "      fill: #D2E3FC;\n",
              "    }\n",
              "\n",
              "    [theme=dark] .colab-df-convert:hover {\n",
              "      background-color: #434B5C;\n",
              "      box-shadow: 0px 1px 3px 1px rgba(0, 0, 0, 0.15);\n",
              "      filter: drop-shadow(0px 1px 2px rgba(0, 0, 0, 0.3));\n",
              "      fill: #FFFFFF;\n",
              "    }\n",
              "  </style>\n",
              "\n",
              "      <script>\n",
              "        const buttonEl =\n",
              "          document.querySelector('#df-f1547e50-cc47-42e5-8cc0-a49a23428251 button.colab-df-convert');\n",
              "        buttonEl.style.display =\n",
              "          google.colab.kernel.accessAllowed ? 'block' : 'none';\n",
              "\n",
              "        async function convertToInteractive(key) {\n",
              "          const element = document.querySelector('#df-f1547e50-cc47-42e5-8cc0-a49a23428251');\n",
              "          const dataTable =\n",
              "            await google.colab.kernel.invokeFunction('convertToInteractive',\n",
              "                                                     [key], {});\n",
              "          if (!dataTable) return;\n",
              "\n",
              "          const docLinkHtml = 'Like what you see? Visit the ' +\n",
              "            '<a target=\"_blank\" href=https://colab.research.google.com/notebooks/data_table.ipynb>data table notebook</a>'\n",
              "            + ' to learn more about interactive tables.';\n",
              "          element.innerHTML = '';\n",
              "          dataTable['output_type'] = 'display_data';\n",
              "          await google.colab.output.renderOutput(dataTable, element);\n",
              "          const docLink = document.createElement('div');\n",
              "          docLink.innerHTML = docLinkHtml;\n",
              "          element.appendChild(docLink);\n",
              "        }\n",
              "      </script>\n",
              "    </div>\n",
              "  </div>\n",
              "  "
            ]
          },
          "metadata": {},
          "execution_count": 37
        }
      ],
      "source": [
        "boston_df = pd.DataFrame(boston_data.data)\n",
        "boston_df.columns = boston_data.feature_names\n",
        "boston_df_target = np.asarray(boston_data.target)\n",
        "boston_df['Hourse Price'] = pd.Series(boston_df_target)\n",
        "X = boston_df.iloc[:, :-1]\n",
        "Y = boston_df.iloc[:, -1]\n",
        "boston_df.head()"
      ]
    },
    {
      "cell_type": "code",
      "source": [
        "plt.figure(figsize=(10,10))\n",
        "sns.heatmap(boston_df.corr(), annot=True, annot_kws={\"fontsize\":10}, fmt=\".2f\", vmin=-1)\n",
        "plt.show()"
      ],
      "metadata": {
        "colab": {
          "base_uri": "https://localhost:8080/",
          "height": 649
        },
        "id": "wxv40a8MvLr8",
        "outputId": "b7a8b4b9-de99-4f91-b351-6e85e394c5c8"
      },
      "execution_count": 44,
      "outputs": [
        {
          "output_type": "display_data",
          "data": {
            "text/plain": [
              "<Figure size 720x720 with 2 Axes>"
            ],
            "image/png": "[encoded data removed]"
          },
          "metadata": {
            "needs_background": "light"
          }
        }
      ]
    },
    {
      "cell_type": "code",
      "execution_count": 38,
      "metadata": {
        "colab": {
          "base_uri": "https://localhost:8080/"
        },
        "id": "rmI7kBNFl7TT",
        "outputId": "8db5b5b2-2c0f-4b9e-87d2-1f14347f1c46"
      },
      "outputs": [
        {
          "output_type": "stream",
          "name": "stdout",
          "text": [
            "Shape of train data   (379, 13) (379,)\n",
            "Shape of test data  (127, 13) (127,)\n"
          ]
        }
      ],
      "source": [
        "#splittling the data\n",
        "from sklearn.model_selection import train_test_split\n",
        "x_train, x_test, y_train, y_test = train_test_split(X, Y, test_size = 0.25)\n",
        "\n",
        "print(\"Shape of train data  \",x_train.shape, y_train.shape) \n",
        "print(\"Shape of test data \", x_test.shape, y_test.shape) "
      ]
    },
    {
      "cell_type": "markdown",
      "metadata": {
        "id": "ROzglXhzl7TU"
      },
      "source": [
        "## Linear Regression "
      ]
    },
    {
      "cell_type": "code",
      "execution_count": 39,
      "metadata": {
        "id": "i5agx678l7TU"
      },
      "outputs": [],
      "source": [
        "from sklearn.linear_model import LinearRegression\n",
        "lreg = LinearRegression()\n",
        "lreg.fit(x_train, y_train)\n",
        "y_pred = lreg.predict(x_test)"
      ]
    },
    {
      "cell_type": "code",
      "execution_count": 30,
      "metadata": {
        "colab": {
          "base_uri": "https://localhost:8080/"
        },
        "id": "_k7GInqql7TU",
        "outputId": "61013e86-466e-4dbd-948d-004f7a363f85"
      },
      "outputs": [
        {
          "output_type": "stream",
          "name": "stdout",
          "text": [
            "Mean Squared Error: 43.305183369314655\n",
            "Accuracy train:  0.8015226950541705\n",
            "Accuracy test:  0.5387847668303805\n"
          ]
        }
      ],
      "source": [
        "#Calculating the Mean-Squared Error(MSE):\n",
        "mse = np.mean((y_pred - y_test)**2)\n",
        "print(\"Mean Squared Error:\", mse)\n",
        "accuracy_train = lreg.score(x_train,y_train)\n",
        "accuracy_test = lreg.score(x_test, y_test)\n",
        "print('Accuracy train: ',accuracy_train)\n",
        "print('Accuracy test: ',accuracy_test)\n"
      ]
    },
    {
      "cell_type": "code",
      "execution_count": 19,
      "metadata": {
        "colab": {
          "base_uri": "https://localhost:8080/"
        },
        "id": "7G4UjS8cl7TV",
        "outputId": "f283c6fb-1aef-4a11-b616-04668ebdb91e"
      },
      "outputs": [
        {
          "output_type": "stream",
          "name": "stdout",
          "text": [
            "    Columns  Coefficient Estimate\n",
            "0      CRIM             -0.110732\n",
            "1        ZN              0.045673\n",
            "2     INDUS              0.007736\n",
            "3      CHAS              1.742042\n",
            "4       NOX            -12.734131\n",
            "5        RM              4.763049\n",
            "6       AGE             -0.024434\n",
            "7       DIS             -1.389978\n",
            "8       RAD              0.216888\n",
            "9       TAX             -0.012962\n",
            "10  PTRATIO             -0.958056\n",
            "11        B              0.007313\n",
            "12    LSTAT             -0.377469\n"
          ]
        }
      ],
      "source": [
        "\"\"\"putting together the coefficient and their corresponding variable names\"\"\"\n",
        "lreg_coef = pd.DataFrame()\n",
        "lreg_coef['Columns']= x_train.columns\n",
        "lreg_coef['Coefficient Estimate']= pd.Series(lreg.coef_)\n",
        "print(lreg_coef)"
      ]
    },
    {
      "cell_type": "markdown",
      "metadata": {
        "id": "ZQrvbHupl7TW"
      },
      "source": [
        "## Lasso Regression"
      ]
    },
    {
      "cell_type": "markdown",
      "metadata": {
        "id": "CB46vjOBl7TW"
      },
      "source": [
        "- In Lasso Regression, we add Mean Absolute Value of coefficients.\n",
        "- Lasso regression can completely eliminate the variable by reducing its coefficient value to 0."
      ]
    },
    {
      "cell_type": "code",
      "execution_count": 20,
      "metadata": {
        "id": "q0sKwLBpl7TW"
      },
      "outputs": [],
      "source": [
        "from sklearn.linear_model import Lasso\n",
        "lasso = Lasso()\n",
        "lasso.fit(x_train, y_train)\n",
        "y_pred1 = lasso.predict(x_test)"
      ]
    },
    {
      "cell_type": "code",
      "execution_count": 31,
      "metadata": {
        "colab": {
          "base_uri": "https://localhost:8080/"
        },
        "id": "lhD7Qm-Gl7TX",
        "outputId": "e4797b4f-cec8-4c12-b595-03c224f390d5"
      },
      "outputs": [
        {
          "output_type": "stream",
          "name": "stdout",
          "text": [
            "Mean Squared Error:  45.018710858121416\n",
            "Accuracy train:  0.7506315853487182\n",
            "Accuracy test:  0.5205351043464996\n"
          ]
        }
      ],
      "source": [
        "##Calculating the Mean-Squared Error(MSE):\n",
        "mse1 = np.mean((y_pred1 - y_test)**2)\n",
        "print(\"Mean Squared Error: \", mse1)\n",
        "accuracy_train = lasso.score(x_train,y_train)\n",
        "accuracy_test = lasso.score(x_test, y_test)\n",
        "print('Accuracy train: ',accuracy_train)\n",
        "print('Accuracy test: ',accuracy_test)"
      ]
    },
    {
      "cell_type": "code",
      "execution_count": 22,
      "metadata": {
        "colab": {
          "base_uri": "https://localhost:8080/"
        },
        "id": "KV-5rVD2l7TX",
        "outputId": "262ea145-fbc5-457c-a682-f7c54403f352"
      },
      "outputs": [
        {
          "output_type": "stream",
          "name": "stdout",
          "text": [
            "    Columns  Coefficient Estimate\n",
            "0      CRIM             -0.059795\n",
            "1        ZN              0.050107\n",
            "2     INDUS             -0.000000\n",
            "3      CHAS              0.000000\n",
            "4       NOX             -0.000000\n",
            "5        RM              1.713987\n",
            "6       AGE              0.000000\n",
            "7       DIS             -0.687784\n",
            "8       RAD              0.185854\n",
            "9       TAX             -0.015367\n",
            "10  PTRATIO             -0.828477\n",
            "11        B              0.006899\n",
            "12    LSTAT             -0.604967\n"
          ]
        }
      ],
      "source": [
        "\"\"\"putting together the coefficient and their corresponding variable names\"\"\"\n",
        "lasso_coef = pd.DataFrame()\n",
        "lasso_coef['Columns'] = x_train.columns\n",
        "lasso_coef['Coefficient Estimate'] = pd.Series(lasso.coef_)\n",
        "print(lasso_coef)"
      ]
    },
    {
      "cell_type": "markdown",
      "metadata": {
        "id": "x0O6v79_l7TY"
      },
      "source": [
        "Lasso Regression will try to add one feature at a time, and if the new feature dosen't improves the fit enough to overweigh penalty term including that feature, then it won't be added. "
      ]
    },
    {
      "cell_type": "markdown",
      "metadata": {
        "id": "fnUh7rrVl7TY"
      },
      "source": [
        "## Ridge Regression"
      ]
    },
    {
      "cell_type": "markdown",
      "metadata": {
        "id": "__9W4ntfl7TZ"
      },
      "source": [
        "- In Ridge Regression, we add Mean Square Values of coefficients. \n",
        "-  This term is the sum of squares of coefficient multiplied by the parameter.\n",
        "- The motive of adding this term is to penalize the variable corresponding to that coefficient not very much correlated to the target variable."
      ]
    },
    {
      "cell_type": "code",
      "execution_count": 24,
      "metadata": {
        "id": "YbB4UqJKl7TZ"
      },
      "outputs": [],
      "source": [
        "from sklearn.linear_model import Ridge\n",
        "ridge = Ridge()\n",
        "ridge.fit(x_train, y_train)\n",
        "y_pred2 = ridge.predict(x_test)"
      ]
    },
    {
      "cell_type": "code",
      "execution_count": 32,
      "metadata": {
        "colab": {
          "base_uri": "https://localhost:8080/"
        },
        "id": "uQepBi2Kl7TZ",
        "outputId": "2f96d77b-a441-4e97-b4d3-36f9e4d20f82"
      },
      "outputs": [
        {
          "output_type": "stream",
          "name": "stdout",
          "text": [
            "Mean Square Error: 44.077984283887396\n",
            "Accuracy train:  0.800195140896674\n",
            "Accuracy test:  0.5305541688678068\n"
          ]
        }
      ],
      "source": [
        "# Calculating the Mean Squared Error\n",
        "mse2 = np.mean((y_pred2 - y_test)**2)\n",
        "print(\"Mean Square Error:\", mse2)\n",
        "accuracy_train = ridge.score(x_train,y_train)\n",
        "accuracy_test = ridge.score(x_test, y_test)\n",
        "print('Accuracy train: ',accuracy_train)\n",
        "print('Accuracy test: ',accuracy_test)"
      ]
    },
    {
      "cell_type": "code",
      "execution_count": null,
      "metadata": {
        "id": "rQ1L4XeYl7Ta",
        "outputId": "0a454b18-9f5a-45c3-c98c-578d1b563513"
      },
      "outputs": [
        {
          "name": "stdout",
          "output_type": "stream",
          "text": [
            "    Columns  Coefficient Estimate\n",
            "0      CRIM             -0.097129\n",
            "1        ZN              0.045796\n",
            "2     INDUS              0.032435\n",
            "3      CHAS              3.580084\n",
            "4       NOX             -9.093340\n",
            "5        RM              3.767093\n",
            "6       AGE             -0.007918\n",
            "7       DIS             -1.394501\n",
            "8       RAD              0.314809\n",
            "9       TAX             -0.012030\n",
            "10  PTRATIO             -0.842492\n",
            "11        B              0.011356\n",
            "12    LSTAT             -0.619512\n"
          ]
        }
      ],
      "source": [
        "\"\"\"putting together the coefficient and their corresponding variable names\"\"\"\n",
        "ridge_coef = pd.DataFrame()\n",
        "ridge_coef['Columns'] = x_train.columns\n",
        "ridge_coef['Coefficient Estimate'] = pd.Series(ridge.coef_)\n",
        "print(ridge_coef)"
      ]
    },
    {
      "cell_type": "markdown",
      "metadata": {
        "id": "J5w-gwyil7Ta"
      },
      "source": [
        "Notice that the above graphs can be misleading in a way that it shows some of the coefficients become **zero**. In Ridge Regularization, the coefficients **can never be 0**, they are just too small to observe in above plots."
      ]
    },
    {
      "cell_type": "markdown",
      "metadata": {
        "id": "7RdlntkMl7Ta"
      },
      "source": [
        "## Elastic Net Regularization:"
      ]
    },
    {
      "cell_type": "markdown",
      "metadata": {
        "id": "6R-UZyDql7Tb"
      },
      "source": [
        "In elastic Net Regularization we added the both terms of L1 and L2 to get the final loss function."
      ]
    },
    {
      "cell_type": "code",
      "execution_count": 28,
      "metadata": {
        "id": "spHy-WjWl7Tb"
      },
      "outputs": [],
      "source": [
        "from sklearn.linear_model import ElasticNet\n",
        "enet = ElasticNet()\n",
        "enet.fit(x_test, y_test)\n",
        "y_pred3 = enet.predict(x_test)"
      ]
    },
    {
      "cell_type": "code",
      "execution_count": 33,
      "metadata": {
        "colab": {
          "base_uri": "https://localhost:8080/"
        },
        "id": "LrvjhLoRl7Tb",
        "outputId": "d8f4efdb-1fed-4aeb-9671-b4db6dcef502"
      },
      "outputs": [
        {
          "output_type": "stream",
          "name": "stdout",
          "text": [
            "Mean Squared Error: 36.55832015081508\n",
            "Accuracy train:  0.6237155116249246\n",
            "Accuracy test:  0.6106412017967489\n"
          ]
        }
      ],
      "source": [
        "#Calculating0 the Mean Squared Error\n",
        "mse3 = np.mean((y_pred3 - y_test)**2)\n",
        "print(\"Mean Squared Error:\", mse3)\n",
        "accuracy_train = enet.score(x_train,y_train)\n",
        "accuracy_test = enet.score(x_test, y_test)\n",
        "print('Accuracy train: ',accuracy_train)\n",
        "print('Accuracy test: ',accuracy_test)"
      ]
    },
    {
      "cell_type": "code",
      "execution_count": 15,
      "metadata": {
        "colab": {
          "base_uri": "https://localhost:8080/"
        },
        "id": "N5cMhX-sl7Tb",
        "outputId": "6b98cd0d-2a01-48f7-bb3f-1f4a1fc487f9"
      },
      "outputs": [
        {
          "output_type": "stream",
          "name": "stdout",
          "text": [
            "    Columns  Coefficient Estimate\n",
            "0      CRIM              0.000000\n",
            "1        ZN              0.084440\n",
            "2     INDUS             -0.069981\n",
            "3      CHAS             -0.000000\n",
            "4       NOX             -0.000000\n",
            "5        RM              1.123505\n",
            "6       AGE             -0.007608\n",
            "7       DIS             -1.444029\n",
            "8       RAD              0.405378\n",
            "9       TAX             -0.024808\n",
            "10  PTRATIO             -0.691713\n",
            "11        B              0.009736\n",
            "12    LSTAT             -0.647171\n"
          ]
        }
      ],
      "source": [
        "\"\"\"putting together the coefficient and their corresponding variable names\"\"\"\n",
        "enet_coef = pd.DataFrame()\n",
        "enet_coef['Columns'] = x_train.columns\n",
        "enet_coef['Coefficient Estimate'] = pd.Series(enet.coef_)\n",
        "print(enet_coef)"
      ]
    },
    {
      "cell_type": "markdown",
      "metadata": {
        "id": "nsAaIc-el7Tc"
      },
      "source": [
        "Elasric Net performs performs better than Ridge and Lasso Regression for most of the test cases.\n"
      ]
    }
  ],
  "metadata": {
    "kernelspec": {
      "display_name": "Python 3",
      "language": "python",
      "name": "python3"
    },
    "language_info": {
      "codemirror_mode": {
        "name": "ipython",
        "version": 3
      },
      "file_extension": ".py",
      "mimetype": "text/x-python",
      "name": "python",
      "nbconvert_exporter": "python",
      "pygments_lexer": "ipython3",
      "version": "3.6.4"
    },
    "colab": {
      "provenance": [],
      "include_colab_link": true
    }
  },
  "nbformat": 4,
  "nbformat_minor": 0
}