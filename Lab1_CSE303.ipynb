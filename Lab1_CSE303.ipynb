{
  "nbformat": 4,
  "nbformat_minor": 0,
  "metadata": {
    "colab": {
      "provenance": [],
      "authorship_tag": "ABX9TyPRt8rt6NyEZ30XNtg5mwII",
      "include_colab_link": true
    },
    "kernelspec": {
      "name": "python3",
      "display_name": "Python 3"
    },
    "language_info": {
      "name": "python"
    }
  },
  "cells": [
    {
      "cell_type": "markdown",
      "metadata": {
        "id": "view-in-github",
        "colab_type": "text"
      },
      "source": [
        "<a href=\"https://colab.research.google.com/github/saifulislamsarfaraz/Statistics-for-Data-Science/blob/main/Lab1_CSE303.ipynb\" target=\"_parent\"><img src=\"https://colab.research.google.com/assets/colab-badge.svg\" alt=\"Open In Colab\"/></a>"
      ]
    },
    {
      "cell_type": "markdown",
      "source": [
        "# Basic Python \n"
      ],
      "metadata": {
        "id": "fiDNfBrWoFnQ"
      }
    },
    {
      "cell_type": "markdown",
      "source": [
        "**Basic in pyhton**\n",
        "\n",
        "List: can contain a number of different types of elements.\n",
        "\n",
        "---\n",
        "\n",
        "\n",
        "Loop: \n",
        "\n",
        "---\n",
        "\n",
        "\n",
        "list Comprehension:  "
      ],
      "metadata": {
        "id": "kKIpFJe9q9JR"
      }
    },
    {
      "cell_type": "code",
      "source": [
        "list2 =[]\n",
        "for i in range ( 1,100,1):\n",
        "    if i%2!=0:\n",
        "      print(i)\n",
        "      list2.append(i)\n",
        "\n",
        "\n"
      ],
      "metadata": {
        "colab": {
          "base_uri": "https://localhost:8080/"
        },
        "id": "GNeT-gSsr2GP",
        "outputId": "4357e868-ed3e-488d-d2ab-4bf7e4e1b4c1"
      },
      "execution_count": null,
      "outputs": [
        {
          "output_type": "stream",
          "name": "stdout",
          "text": [
            "1\n",
            "3\n",
            "5\n",
            "7\n",
            "9\n",
            "11\n",
            "13\n",
            "15\n",
            "17\n",
            "19\n",
            "21\n",
            "23\n",
            "25\n",
            "27\n",
            "29\n",
            "31\n",
            "33\n",
            "35\n",
            "37\n",
            "39\n",
            "41\n",
            "43\n",
            "45\n",
            "47\n",
            "49\n",
            "51\n",
            "53\n",
            "55\n",
            "57\n",
            "59\n",
            "61\n",
            "63\n",
            "65\n",
            "67\n",
            "69\n",
            "71\n",
            "73\n",
            "75\n",
            "77\n",
            "79\n",
            "81\n",
            "83\n",
            "85\n",
            "87\n",
            "89\n",
            "91\n",
            "93\n",
            "95\n",
            "97\n",
            "99\n"
          ]
        }
      ]
    },
    {
      "cell_type": "code",
      "source": [
        "oddNumbers = [i for i in range(1,100,1) if i %2!=0]\n",
        "oddNumbers"
      ],
      "metadata": {
        "colab": {
          "base_uri": "https://localhost:8080/"
        },
        "id": "cQoqPuQdsJ3X",
        "outputId": "0c650c98-4b16-4195-a270-f65fbd0c029a"
      },
      "execution_count": null,
      "outputs": [
        {
          "output_type": "execute_result",
          "data": {
            "text/plain": [
              "[1,\n",
              " 3,\n",
              " 5,\n",
              " 7,\n",
              " 9,\n",
              " 11,\n",
              " 13,\n",
              " 15,\n",
              " 17,\n",
              " 19,\n",
              " 21,\n",
              " 23,\n",
              " 25,\n",
              " 27,\n",
              " 29,\n",
              " 31,\n",
              " 33,\n",
              " 35,\n",
              " 37,\n",
              " 39,\n",
              " 41,\n",
              " 43,\n",
              " 45,\n",
              " 47,\n",
              " 49,\n",
              " 51,\n",
              " 53,\n",
              " 55,\n",
              " 57,\n",
              " 59,\n",
              " 61,\n",
              " 63,\n",
              " 65,\n",
              " 67,\n",
              " 69,\n",
              " 71,\n",
              " 73,\n",
              " 75,\n",
              " 77,\n",
              " 79,\n",
              " 81,\n",
              " 83,\n",
              " 85,\n",
              " 87,\n",
              " 89,\n",
              " 91,\n",
              " 93,\n",
              " 95,\n",
              " 97,\n",
              " 99]"
            ]
          },
          "metadata": {},
          "execution_count": 40
        }
      ]
    },
    {
      "cell_type": "code",
      "source": [
        "list1=['Alice',14,'01/01/210199', 1234.678]\n",
        "print(list1)"
      ],
      "metadata": {
        "colab": {
          "base_uri": "https://localhost:8080/"
        },
        "id": "xF9bxsnBougu",
        "outputId": "49d770ca-1fff-43a8-e88d-e23a0d36d5c0"
      },
      "execution_count": null,
      "outputs": [
        {
          "output_type": "stream",
          "name": "stdout",
          "text": [
            "['Alice', 14, '01/01/210199', 1234.678]\n"
          ]
        }
      ]
    },
    {
      "cell_type": "code",
      "source": [
        "print(list1[1])"
      ],
      "metadata": {
        "colab": {
          "base_uri": "https://localhost:8080/"
        },
        "id": "o1C3jzINo_ae",
        "outputId": "f96b4f8a-d866-4d98-9faf-f87c74de112c"
      },
      "execution_count": null,
      "outputs": [
        {
          "output_type": "stream",
          "name": "stdout",
          "text": [
            "14\n"
          ]
        }
      ]
    },
    {
      "cell_type": "code",
      "source": [
        "for i in range(0,len(list1)):\n",
        "  print(list1[i])"
      ],
      "metadata": {
        "colab": {
          "base_uri": "https://localhost:8080/"
        },
        "id": "ZrgdxtrppGd2",
        "outputId": "3aacbe42-f3c9-4b2c-fd5e-98164665a9c4"
      },
      "execution_count": null,
      "outputs": [
        {
          "output_type": "stream",
          "name": "stdout",
          "text": [
            "Alice\n",
            "14\n",
            "01/01/210199\n",
            "1234.678\n"
          ]
        }
      ]
    },
    {
      "cell_type": "code",
      "source": [
        "list1.append(\"bob\")"
      ],
      "metadata": {
        "id": "bfDPMG3Opln_"
      },
      "execution_count": null,
      "outputs": []
    },
    {
      "cell_type": "code",
      "source": [
        "print(list1)"
      ],
      "metadata": {
        "colab": {
          "base_uri": "https://localhost:8080/"
        },
        "id": "gQarVHwrp3wH",
        "outputId": "fcf9604b-d388-4769-8730-c94d8f3d3731"
      },
      "execution_count": null,
      "outputs": [
        {
          "output_type": "stream",
          "name": "stdout",
          "text": [
            "['Alice', 14, '01/01/210199', 1234.678, 'bob']\n"
          ]
        }
      ]
    },
    {
      "cell_type": "markdown",
      "source": [
        "**Question Number 1:** Given two integer numbers, write a Python program to return their product. If the product is greater\n",
        "than 1000, then return their sum. Read inputs from the user."
      ],
      "metadata": {
        "id": "pXnTsP0qmpLl"
      }
    },
    {
      "cell_type": "markdown",
      "source": [
        "# Lab 1 Problem and Solution "
      ],
      "metadata": {
        "id": "4oxDkH_dn6Lg"
      }
    },
    {
      "cell_type": "code",
      "source": [
        "def main(first_name,second_name):\n",
        "  product = int(first_number * second_number)\n",
        "  print(\"product is : \" ,type(product))\n",
        "  if product>1000:\n",
        "    return int(first_number + second_number)\n"
      ],
      "metadata": {
        "id": "e4Pg4sOSkxVu"
      },
      "execution_count": null,
      "outputs": []
    },
    {
      "cell_type": "code",
      "source": [
        "if __name__ == \"__main__\":\n",
        "  first_number = int(input(\"Enter first Number:\"))\n",
        "  second_number = int(input(\"Enter second Number:\"))\n",
        "  result = int(main(first_number,second_number))\n",
        "  print(\"result is :\", result)\n"
      ],
      "metadata": {
        "colab": {
          "base_uri": "https://localhost:8080/"
        },
        "id": "QSoiIle1lSZd",
        "outputId": "62e1b2ac-24b4-4fb7-bd2b-adc7b9915960"
      },
      "execution_count": null,
      "outputs": [
        {
          "output_type": "stream",
          "name": "stdout",
          "text": [
            "Enter first Number:40\n",
            "Enter second Number:50\n",
            "product is :  <class 'int'>\n",
            "result is : 90\n"
          ]
        }
      ]
    },
    {
      "cell_type": "markdown",
      "source": [
        "**Question Number 2:** Write a Python program to find the area and perimeter of a circle. Read inputs from the user."
      ],
      "metadata": {
        "id": "QwhORMCNm8ft"
      }
    },
    {
      "cell_type": "code",
      "source": [
        "from math import pi"
      ],
      "metadata": {
        "id": "_583IijhnsD-"
      },
      "execution_count": null,
      "outputs": []
    },
    {
      "cell_type": "code",
      "source": [
        "def areaOfCircle(r):\n",
        "  area = (pi * r**2)\n",
        "  return area\n",
        "  "
      ],
      "metadata": {
        "id": "yuHUB-3znNkm"
      },
      "execution_count": null,
      "outputs": []
    },
    {
      "cell_type": "code",
      "source": [
        "def perimeterOfCircle(r):\n",
        "  perimeter=2*pi*r\n",
        "  return perimeter"
      ],
      "metadata": {
        "id": "CWTIdEalnUaW"
      },
      "execution_count": null,
      "outputs": []
    },
    {
      "cell_type": "code",
      "source": [
        "if __name__ == \"__main__\":\n",
        "  redius = int(input(\"Enter Area Of a Circle:\"))\n",
        "  resultOfRedius = int(areaOfCircle(redius))\n",
        "  print(\"result of Area :\", resultOfRedius)\n",
        "  resultOfPerimiter = int(perimeterOfCircle(redius))\n",
        "  print(\"result of Perimiter : \", resultOfPerimiter)"
      ],
      "metadata": {
        "id": "-m7-re4vnj3G",
        "colab": {
          "base_uri": "https://localhost:8080/"
        },
        "outputId": "5c1b68a1-0ece-4c56-d0db-dffeea20d13e"
      },
      "execution_count": null,
      "outputs": [
        {
          "output_type": "stream",
          "name": "stdout",
          "text": [
            "Enter Area Of a Circle:5\n",
            "result of Area : 78\n",
            "result of Perimiter :  31\n"
          ]
        }
      ]
    },
    {
      "cell_type": "markdown",
      "source": [
        "**Question number 6:**\n",
        "Given a positive integer n (read from the user), write a Python program to find the n-th Fibonacci\n",
        "number based on the following assumptions.\n",
        "Fn = Fn-1 + Fn-2 where F0 = 0 and F1 = 1"
      ],
      "metadata": {
        "id": "Vlsn2HARtt7H"
      }
    },
    {
      "cell_type": "code",
      "source": [
        "f0=0\n",
        "f1=1\n",
        "result=0\n",
        "number = int(input(\"Enter a number:\"))\n",
        "for i in range(0,int(number-1),1):\n",
        "        result = f0 + f1\n",
        "        f0 = f1\n",
        "        f1 = result\n",
        "result\n",
        "\n",
        "  "
      ],
      "metadata": {
        "colab": {
          "base_uri": "https://localhost:8080/"
        },
        "id": "hbX155kbuHS_",
        "outputId": "3d59aa6f-6fbf-4b55-c385-f27d1c0ec278"
      },
      "execution_count": null,
      "outputs": [
        {
          "name": "stdout",
          "output_type": "stream",
          "text": [
            "Enter a number:8\n"
          ]
        },
        {
          "output_type": "execute_result",
          "data": {
            "text/plain": [
              "21"
            ]
          },
          "metadata": {},
          "execution_count": 72
        }
      ]
    },
    {
      "cell_type": "code",
      "source": [
        "f0=0\n",
        "f1=1\n",
        "result=0\n",
        "list = []\n",
        "number = int(input(\"Enter a number:\"))\n",
        "for i in range(0,int(number-1),1):\n",
        "        list.append(result)\n",
        "        result = f0 + f1\n",
        "        f0 = f1\n",
        "        f1 = result\n",
        "result\n",
        "print(result)\n",
        "list.append(result)\n",
        "  "
      ],
      "metadata": {
        "colab": {
          "base_uri": "https://localhost:8080/"
        },
        "id": "uM4ppBKy0x7x",
        "outputId": "7b7e248f-1f02-4d0e-9ad5-1a2df7cfbdfa"
      },
      "execution_count": null,
      "outputs": [
        {
          "output_type": "stream",
          "name": "stdout",
          "text": [
            "Enter a number:5\n",
            "5\n"
          ]
        }
      ]
    },
    {
      "cell_type": "code",
      "source": [
        "print(list)"
      ],
      "metadata": {
        "colab": {
          "base_uri": "https://localhost:8080/"
        },
        "id": "7w6_QNr421Rh",
        "outputId": "01c69bdf-b25b-4ade-98e6-270b231bd572"
      },
      "execution_count": null,
      "outputs": [
        {
          "output_type": "stream",
          "name": "stdout",
          "text": [
            "[0, 1, 2, 3, 5]\n"
          ]
        }
      ]
    },
    {
      "cell_type": "markdown",
      "source": [
        "The exact value of the golden ratio can be calculated by:\n",
        "`ϕ = (1+√5) / 2`"
      ],
      "metadata": {
        "id": "gNG76YASrmhl"
      }
    },
    {
      "cell_type": "code",
      "source": [
        "import math \n",
        "sqrt5 = math.sqrt(5)\n",
        "print(sqrt5)\n",
        "golden_ratio1 = (1+sqrt5)/2\n",
        "golden_ratio2 = (1-sqrt5)/2\n",
        "number = int(input(\"Enter a Number: \"))\n",
        "series = [int(( math.pow(golden_ratio1, n) - math.pow(golden_ratio2,n)) / sqrt5) for n in range(0, number+1 ,1)]\n",
        "print(\"nth fibonacci number is : \" , series[len(series)-1])\n",
        "series\n"
      ],
      "metadata": {
        "colab": {
          "base_uri": "https://localhost:8080/"
        },
        "id": "6LqgXhidhTYe",
        "outputId": "9d5dadea-4fb0-491b-be50-340a7f9929b8"
      },
      "execution_count": 39,
      "outputs": [
        {
          "output_type": "stream",
          "name": "stdout",
          "text": [
            "2.23606797749979\n",
            "Enter a Number: 5\n",
            "nth fibonacci number is :  5\n"
          ]
        },
        {
          "output_type": "execute_result",
          "data": {
            "text/plain": [
              "[0, 1, 1, 2, 3, 5]"
            ]
          },
          "metadata": {},
          "execution_count": 39
        }
      ]
    }
  ]
}