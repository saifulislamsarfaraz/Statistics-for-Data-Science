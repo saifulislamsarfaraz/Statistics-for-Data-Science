{
  "cells": [
    {
      "cell_type": "markdown",
      "metadata": {
        "id": "view-in-github",
        "colab_type": "text"
      },
      "source": [
        "<a href=\"https://colab.research.google.com/github/saifulislamsarfaraz/Statistics-for-Data-Science/blob/main/student_grade_prediction.ipynb\" target=\"_parent\"><img src=\"https://colab.research.google.com/assets/colab-badge.svg\" alt=\"Open In Colab\"/></a>"
      ]
    },
    {
      "metadata": {
        "id": "ry9fXKzksxFx"
      },
      "cell_type": "markdown",
      "source": [
        "## Table of contents: \n",
        "**1. Intuition**  \n",
        "<br/>\n",
        "     1.1 What is Regularization  \n",
        "     1.2 Ridge Regression  \n",
        "     1.3 Lasso Regression  \n",
        "     1.4 Elastic Net Regression  \n",
        "     1.5 Key differences  \n",
        "     1.6 Criteria to choose regularization method\n",
        "     <br/>\n",
        "\n",
        "**2. Example with Diabetes Dataset**  \n",
        "2.1 Importing necessary modules along with dataset  \n",
        "2.2 Data processing  \n",
        "2.3 Linear Regression Model  \n",
        "2.4 Ridge Regression  \n",
        "2.6 Lasso Regression\n",
        "\n",
        "2.7 Elastic Net Regression\n",
        "\n",
        "2.8 Elastic Net Regression with GridSearchCV  \n",
        "\n",
        "2.9 Conclusion"
      ],
      "id": "ry9fXKzksxFx"
    },
    {
      "metadata": {
        "id": "4P5nm9PpsxF0"
      },
      "cell_type": "markdown",
      "source": [
        "<br/>\n",
        "<br/>\n",
        "\n",
        "## 1.1 What is Regularization\n",
        "\n",
        "Getting a good accuracy score isn't always pleasant to a data scientist specially when he gets a good training accuracy along with a poor test accuracy. Though this type of model can predict the training set very well, but it can't perform well for the test as well as new dataset. This type of situation or model is called **Overfitting**. So how can we solved this problem?\n",
        "<br/>\n",
        "\n",
        "Here comes up **Regularizaton** to solve this problem. So in short, we can say that Regularizaton is the process to prevent a model to be overfitted.\n",
        "<br/>\n",
        "\n",
        "But how? Regularization can be carried out by **Ridge Regression**, **Lasso Regression** and **Elastic Net Regression**. We will try to show how these regression work and reduce the risk of overfitting throughout this kernel.\n",
        "\n",
        "<br/>\n"
      ],
      "id": "4P5nm9PpsxF0"
    },
    {
      "metadata": {
        "id": "rl2mrTlSsxF1"
      },
      "cell_type": "markdown",
      "source": [
        "<br/>\n",
        "\n",
        "## 1.2 Ridge Regression\n",
        "\n",
        "It's also called L2 regularization. It shrinks the coefficients by adding a penalty to the least squares.\n",
        "<br/>\n",
        "\n",
        "**Ridge Regression penalty =  lambda1  x  square of the magnitude of the coefficients**\n",
        "<br/>\n",
        "\n",
        "By shrinking the coefficients Ridge Regession reduces the model complexity and multi-collinearity. But it keeps all the variables."
      ],
      "id": "rl2mrTlSsxF1"
    },
    {
      "metadata": {
        "id": "U5Dym7DasxF2"
      },
      "cell_type": "markdown",
      "source": [
        "<br/>\n",
        "\n",
        "## 1.3 Lasso Regression\n",
        "\n",
        "It's also called L1 regularization. It shrinks the coefficients by adding a penalty to the least squares.\n",
        "<br/>\n",
        "\n",
        "**Lasso Regression penalty =  lambda2  x  |the magnitude of the coefficients|**\n",
        "<br/>\n",
        "\n",
        "By shrinking the coefficients Lasso Regession also reduces the model complexity and multi-collinearity like Ridge Regression. But in Lasso Regression, the coefficients of less important variables get multiplied by zero and removed."
      ],
      "id": "U5Dym7DasxF2"
    },
    {
      "metadata": {
        "id": "YA4XdW-lsxF2"
      },
      "cell_type": "markdown",
      "source": [
        "<br/>\n",
        "\n",
        "## 1.4 Elastic Net Regression\n",
        "\n",
        "Elastic Net is the combination of Ridge and Lasso Regression. It has both Ridge Regression penalty and Lasso Regression penalty in it's own penalty.\n",
        "<br/>\n",
        "\n",
        "**Elastic Net Regression penalty = lambda1 x square of the magnitude of the coefficients + lambda2 x |the magnitude of the coefficients|**\n",
        "<br/>\n",
        "\n",
        "When,  \n",
        "lambda1 = lambda2 = 0       -     Elastic Net becomes least square parameter estimates  \n",
        "lambda1 > 0 and lambda2 = 0 -     Ridge Regression  \n",
        "lambda1 = 0 and lambda2 > 0 -     Lasso Regression  \n",
        "lambda1  >0 and lambda2 > 0 -     Elastic Net Regression  "
      ],
      "id": "YA4XdW-lsxF2"
    },
    {
      "metadata": {
        "id": "K3yA33jmsxF2"
      },
      "cell_type": "markdown",
      "source": [
        "<br/>\n",
        "\n",
        "## 1.5 Key differences\n",
        "\n",
        "Ridge and Lasso Regression are almost same. But the only key difference they have is Ridge Regression doesn't remove any features while the features with less importance is removed by Lasso Regression."
      ],
      "id": "K3yA33jmsxF2"
    },
    {
      "metadata": {
        "id": "l9guduk4sxF3"
      },
      "cell_type": "markdown",
      "source": [
        "<br/>\n",
        "\n",
        "## 1.6 Criteria to choose regularization method\n",
        "<br/>\n",
        "\n",
        "**Ridge Regression**\n",
        "1. When all the features you have are important to your model  \n",
        "2. When you don't want to do feature selection as well as feature removing  \n",
        "<br/>\n",
        "\n",
        "**Lasso Regression**\n",
        "1. When you have too many features  \n",
        "2. And you know some of them don't have any significance to your model  \n",
        "3. When you want to remove the features with less importance  \n",
        "<br/>\n",
        "\n",
        "**Elastic Net Regression**\n",
        "1. When you don't know whether all the features have significance or not  \n",
        "2. when there are strong correlations between features"
      ],
      "id": "l9guduk4sxF3"
    },
    {
      "cell_type": "markdown",
      "id": "fb099e2b",
      "metadata": {
        "id": "fb099e2b",
        "papermill": {
          "duration": 0.040066,
          "end_time": "2021-09-03T06:09:44.955403",
          "exception": false,
          "start_time": "2021-09-03T06:09:44.915337",
          "status": "completed"
        },
        "tags": []
      },
      "source": [
        "# Student Grades Prediction\n"
      ]
    },
    {
      "cell_type": "markdown",
      "source": [
        "#### Data Set Information:\n",
        "\n",
        "This data approach student achievement in secondary education of two Portuguese schools. The data attributes include student grades, demographic, social and school-related features) and it was collected by using school reports and questionnaires. Two datasets are provided regarding the performance in two distinct subjects: Mathematics (mat) and Portuguese language (por). In [Cortez and Silva, 2008], the two datasets were modeled under binary/five-level classification and regression tasks. Important note: the target attribute G3 has a strong correlation with attributes G2 and G1. This occurs because G3 is the final year grade (issued at the 3rd period), while G1 and G2 correspond to the 1st and 2nd period grades. It is more difficult to predict G3 without G2 and G1, but such prediction is much more useful (see paper source for more details)."
      ],
      "metadata": {
        "id": "z-uO_KDL-ICV"
      },
      "id": "z-uO_KDL-ICV"
    },
    {
      "cell_type": "code",
      "execution_count": 139,
      "id": "81e92b98",
      "metadata": {
        "execution": {
          "iopub.execute_input": "2021-09-03T06:09:45.042203Z",
          "iopub.status.busy": "2021-09-03T06:09:45.040987Z",
          "iopub.status.idle": "2021-09-03T06:09:46.088882Z",
          "shell.execute_reply": "2021-09-03T06:09:46.089718Z",
          "shell.execute_reply.started": "2021-09-03T06:07:10.555656Z"
        },
        "id": "81e92b98",
        "papermill": {
          "duration": 1.094158,
          "end_time": "2021-09-03T06:09:46.090131",
          "exception": false,
          "start_time": "2021-09-03T06:09:44.995973",
          "status": "completed"
        },
        "tags": []
      },
      "outputs": [],
      "source": [
        "#import the libraries\n",
        "import pandas as pd\n",
        "import numpy as np\n",
        "import matplotlib.pyplot as plt\n",
        "import seaborn as sns\n",
        "import matplotlib.style as stl\n",
        "%matplotlib inline\n",
        "import os\n",
        "import random\n",
        "import warnings\n",
        "warnings.filterwarnings('ignore')"
      ]
    },
    {
      "cell_type": "code",
      "source": [
        "from google.colab import drive\n",
        "drive.mount('/content/drive')"
      ],
      "metadata": {
        "id": "ba9nHieoAByp",
        "colab": {
          "base_uri": "https://localhost:8080/"
        },
        "outputId": "eb43a5b5-fdb7-498b-b621-e17ac8fb6ebc"
      },
      "id": "ba9nHieoAByp",
      "execution_count": 140,
      "outputs": [
        {
          "output_type": "stream",
          "name": "stdout",
          "text": [
            "Drive already mounted at /content/drive; to attempt to forcibly remount, call drive.mount(\"/content/drive\", force_remount=True).\n"
          ]
        }
      ]
    },
    {
      "cell_type": "code",
      "source": [
        "read_path = \"/content/drive/MyDrive/Colab Notebooks/student-mat.csv\""
      ],
      "metadata": {
        "id": "q3JE082CAKH9"
      },
      "id": "q3JE082CAKH9",
      "execution_count": 141,
      "outputs": []
    },
    {
      "cell_type": "code",
      "source": [
        "data = pd.read_csv(read_path)"
      ],
      "metadata": {
        "id": "lWhqB4SIAX2_"
      },
      "id": "lWhqB4SIAX2_",
      "execution_count": 142,
      "outputs": []
    },
    {
      "cell_type": "code",
      "execution_count": 143,
      "id": "3c66b8f2",
      "metadata": {
        "execution": {
          "iopub.execute_input": "2021-09-03T06:09:46.344637Z",
          "iopub.status.busy": "2021-09-03T06:09:46.343832Z",
          "iopub.status.idle": "2021-09-03T06:09:46.371440Z",
          "shell.execute_reply": "2021-09-03T06:09:46.371927Z",
          "shell.execute_reply.started": "2021-09-03T06:07:11.574193Z"
        },
        "id": "3c66b8f2",
        "outputId": "1bc6fe77-ec9d-4595-99be-744ff820fe93",
        "papermill": {
          "duration": 0.099854,
          "end_time": "2021-09-03T06:09:46.372098",
          "exception": false,
          "start_time": "2021-09-03T06:09:46.272244",
          "status": "completed"
        },
        "tags": [],
        "colab": {
          "base_uri": "https://localhost:8080/",
          "height": 236
        }
      },
      "outputs": [
        {
          "output_type": "execute_result",
          "data": {
            "text/plain": [
              "  school sex  age address famsize Pstatus  Medu  Fedu     Mjob      Fjob  ...  \\\n",
              "0     GP   F   18       U     GT3       A     4     4  at_home   teacher  ...   \n",
              "1     GP   F   17       U     GT3       T     1     1  at_home     other  ...   \n",
              "2     GP   F   15       U     LE3       T     1     1  at_home     other  ...   \n",
              "3     GP   F   15       U     GT3       T     4     2   health  services  ...   \n",
              "4     GP   F   16       U     GT3       T     3     3    other     other  ...   \n",
              "\n",
              "  famrel freetime  goout  Dalc  Walc health absences  G1  G2  G3  \n",
              "0      4        3      4     1     1      3        6   5   6   6  \n",
              "1      5        3      3     1     1      3        4   5   5   6  \n",
              "2      4        3      2     2     3      3       10   7   8  10  \n",
              "3      3        2      2     1     1      5        2  15  14  15  \n",
              "4      4        3      2     1     2      5        4   6  10  10  \n",
              "\n",
              "[5 rows x 33 columns]"
            ],
            "text/html": [
              "\n",
              "  <div id=\"df-d178d31f-3e09-4e4d-a4a9-16d0319dd720\">\n",
              "    <div class=\"colab-df-container\">\n",
              "      <div>\n",
              "<style scoped>\n",
              "    .dataframe tbody tr th:only-of-type {\n",
              "        vertical-align: middle;\n",
              "    }\n",
              "\n",
              "    .dataframe tbody tr th {\n",
              "        vertical-align: top;\n",
              "    }\n",
              "\n",
              "    .dataframe thead th {\n",
              "        text-align: right;\n",
              "    }\n",
              "</style>\n",
              "<table border=\"1\" class=\"dataframe\">\n",
              "  <thead>\n",
              "    <tr style=\"text-align: right;\">\n",
              "      <th></th>\n",
              "      <th>school</th>\n",
              "      <th>sex</th>\n",
              "      <th>age</th>\n",
              "      <th>address</th>\n",
              "      <th>famsize</th>\n",
              "      <th>Pstatus</th>\n",
              "      <th>Medu</th>\n",
              "      <th>Fedu</th>\n",
              "      <th>Mjob</th>\n",
              "      <th>Fjob</th>\n",
              "      <th>...</th>\n",
              "      <th>famrel</th>\n",
              "      <th>freetime</th>\n",
              "      <th>goout</th>\n",
              "      <th>Dalc</th>\n",
              "      <th>Walc</th>\n",
              "      <th>health</th>\n",
              "      <th>absences</th>\n",
              "      <th>G1</th>\n",
              "      <th>G2</th>\n",
              "      <th>G3</th>\n",
              "    </tr>\n",
              "  </thead>\n",
              "  <tbody>\n",
              "    <tr>\n",
              "      <th>0</th>\n",
              "      <td>GP</td>\n",
              "      <td>F</td>\n",
              "      <td>18</td>\n",
              "      <td>U</td>\n",
              "      <td>GT3</td>\n",
              "      <td>A</td>\n",
              "      <td>4</td>\n",
              "      <td>4</td>\n",
              "      <td>at_home</td>\n",
              "      <td>teacher</td>\n",
              "      <td>...</td>\n",
              "      <td>4</td>\n",
              "      <td>3</td>\n",
              "      <td>4</td>\n",
              "      <td>1</td>\n",
              "      <td>1</td>\n",
              "      <td>3</td>\n",
              "      <td>6</td>\n",
              "      <td>5</td>\n",
              "      <td>6</td>\n",
              "      <td>6</td>\n",
              "    </tr>\n",
              "    <tr>\n",
              "      <th>1</th>\n",
              "      <td>GP</td>\n",
              "      <td>F</td>\n",
              "      <td>17</td>\n",
              "      <td>U</td>\n",
              "      <td>GT3</td>\n",
              "      <td>T</td>\n",
              "      <td>1</td>\n",
              "      <td>1</td>\n",
              "      <td>at_home</td>\n",
              "      <td>other</td>\n",
              "      <td>...</td>\n",
              "      <td>5</td>\n",
              "      <td>3</td>\n",
              "      <td>3</td>\n",
              "      <td>1</td>\n",
              "      <td>1</td>\n",
              "      <td>3</td>\n",
              "      <td>4</td>\n",
              "      <td>5</td>\n",
              "      <td>5</td>\n",
              "      <td>6</td>\n",
              "    </tr>\n",
              "    <tr>\n",
              "      <th>2</th>\n",
              "      <td>GP</td>\n",
              "      <td>F</td>\n",
              "      <td>15</td>\n",
              "      <td>U</td>\n",
              "      <td>LE3</td>\n",
              "      <td>T</td>\n",
              "      <td>1</td>\n",
              "      <td>1</td>\n",
              "      <td>at_home</td>\n",
              "      <td>other</td>\n",
              "      <td>...</td>\n",
              "      <td>4</td>\n",
              "      <td>3</td>\n",
              "      <td>2</td>\n",
              "      <td>2</td>\n",
              "      <td>3</td>\n",
              "      <td>3</td>\n",
              "      <td>10</td>\n",
              "      <td>7</td>\n",
              "      <td>8</td>\n",
              "      <td>10</td>\n",
              "    </tr>\n",
              "    <tr>\n",
              "      <th>3</th>\n",
              "      <td>GP</td>\n",
              "      <td>F</td>\n",
              "      <td>15</td>\n",
              "      <td>U</td>\n",
              "      <td>GT3</td>\n",
              "      <td>T</td>\n",
              "      <td>4</td>\n",
              "      <td>2</td>\n",
              "      <td>health</td>\n",
              "      <td>services</td>\n",
              "      <td>...</td>\n",
              "      <td>3</td>\n",
              "      <td>2</td>\n",
              "      <td>2</td>\n",
              "      <td>1</td>\n",
              "      <td>1</td>\n",
              "      <td>5</td>\n",
              "      <td>2</td>\n",
              "      <td>15</td>\n",
              "      <td>14</td>\n",
              "      <td>15</td>\n",
              "    </tr>\n",
              "    <tr>\n",
              "      <th>4</th>\n",
              "      <td>GP</td>\n",
              "      <td>F</td>\n",
              "      <td>16</td>\n",
              "      <td>U</td>\n",
              "      <td>GT3</td>\n",
              "      <td>T</td>\n",
              "      <td>3</td>\n",
              "      <td>3</td>\n",
              "      <td>other</td>\n",
              "      <td>other</td>\n",
              "      <td>...</td>\n",
              "      <td>4</td>\n",
              "      <td>3</td>\n",
              "      <td>2</td>\n",
              "      <td>1</td>\n",
              "      <td>2</td>\n",
              "      <td>5</td>\n",
              "      <td>4</td>\n",
              "      <td>6</td>\n",
              "      <td>10</td>\n",
              "      <td>10</td>\n",
              "    </tr>\n",
              "  </tbody>\n",
              "</table>\n",
              "<p>5 rows × 33 columns</p>\n",
              "</div>\n",
              "      <button class=\"colab-df-convert\" onclick=\"convertToInteractive('df-d178d31f-3e09-4e4d-a4a9-16d0319dd720')\"\n",
              "              title=\"Convert this dataframe to an interactive table.\"\n",
              "              style=\"display:none;\">\n",
              "        \n",
              "  <svg xmlns=\"http://www.w3.org/2000/svg\" height=\"24px\"viewBox=\"0 0 24 24\"\n",
              "       width=\"24px\">\n",
              "    <path d=\"M0 0h24v24H0V0z\" fill=\"none\"/>\n",
              "    <path d=\"M18.56 5.44l.94 2.06.94-2.06 2.06-.94-2.06-.94-.94-2.06-.94 2.06-2.06.94zm-11 1L8.5 8.5l.94-2.06 2.06-.94-2.06-.94L8.5 2.5l-.94 2.06-2.06.94zm10 10l.94 2.06.94-2.06 2.06-.94-2.06-.94-.94-2.06-.94 2.06-2.06.94z\"/><path d=\"M17.41 7.96l-1.37-1.37c-.4-.4-.92-.59-1.43-.59-.52 0-1.04.2-1.43.59L10.3 9.45l-7.72 7.72c-.78.78-.78 2.05 0 2.83L4 21.41c.39.39.9.59 1.41.59.51 0 1.02-.2 1.41-.59l7.78-7.78 2.81-2.81c.8-.78.8-2.07 0-2.86zM5.41 20L4 18.59l7.72-7.72 1.47 1.35L5.41 20z\"/>\n",
              "  </svg>\n",
              "      </button>\n",
              "      \n",
              "  <style>\n",
              "    .colab-df-container {\n",
              "      display:flex;\n",
              "      flex-wrap:wrap;\n",
              "      gap: 12px;\n",
              "    }\n",
              "\n",
              "    .colab-df-convert {\n",
              "      background-color: #E8F0FE;\n",
              "      border: none;\n",
              "      border-radius: 50%;\n",
              "      cursor: pointer;\n",
              "      display: none;\n",
              "      fill: #1967D2;\n",
              "      height: 32px;\n",
              "      padding: 0 0 0 0;\n",
              "      width: 32px;\n",
              "    }\n",
              "\n",
              "    .colab-df-convert:hover {\n",
              "      background-color: #E2EBFA;\n",
              "      box-shadow: 0px 1px 2px rgba(60, 64, 67, 0.3), 0px 1px 3px 1px rgba(60, 64, 67, 0.15);\n",
              "      fill: #174EA6;\n",
              "    }\n",
              "\n",
              "    [theme=dark] .colab-df-convert {\n",
              "      background-color: #3B4455;\n",
              "      fill: #D2E3FC;\n",
              "    }\n",
              "\n",
              "    [theme=dark] .colab-df-convert:hover {\n",
              "      background-color: #434B5C;\n",
              "      box-shadow: 0px 1px 3px 1px rgba(0, 0, 0, 0.15);\n",
              "      filter: drop-shadow(0px 1px 2px rgba(0, 0, 0, 0.3));\n",
              "      fill: #FFFFFF;\n",
              "    }\n",
              "  </style>\n",
              "\n",
              "      <script>\n",
              "        const buttonEl =\n",
              "          document.querySelector('#df-d178d31f-3e09-4e4d-a4a9-16d0319dd720 button.colab-df-convert');\n",
              "        buttonEl.style.display =\n",
              "          google.colab.kernel.accessAllowed ? 'block' : 'none';\n",
              "\n",
              "        async function convertToInteractive(key) {\n",
              "          const element = document.querySelector('#df-d178d31f-3e09-4e4d-a4a9-16d0319dd720');\n",
              "          const dataTable =\n",
              "            await google.colab.kernel.invokeFunction('convertToInteractive',\n",
              "                                                     [key], {});\n",
              "          if (!dataTable) return;\n",
              "\n",
              "          const docLinkHtml = 'Like what you see? Visit the ' +\n",
              "            '<a target=\"_blank\" href=https://colab.research.google.com/notebooks/data_table.ipynb>data table notebook</a>'\n",
              "            + ' to learn more about interactive tables.';\n",
              "          element.innerHTML = '';\n",
              "          dataTable['output_type'] = 'display_data';\n",
              "          await google.colab.output.renderOutput(dataTable, element);\n",
              "          const docLink = document.createElement('div');\n",
              "          docLink.innerHTML = docLinkHtml;\n",
              "          element.appendChild(docLink);\n",
              "        }\n",
              "      </script>\n",
              "    </div>\n",
              "  </div>\n",
              "  "
            ]
          },
          "metadata": {},
          "execution_count": 143
        }
      ],
      "source": [
        "data.head()"
      ]
    },
    {
      "cell_type": "code",
      "execution_count": 144,
      "id": "b792067c",
      "metadata": {
        "execution": {
          "iopub.execute_input": "2021-09-03T06:09:46.460788Z",
          "iopub.status.busy": "2021-09-03T06:09:46.459807Z",
          "iopub.status.idle": "2021-09-03T06:09:46.466514Z",
          "shell.execute_reply": "2021-09-03T06:09:46.465981Z",
          "shell.execute_reply.started": "2021-09-03T06:07:11.617275Z"
        },
        "id": "b792067c",
        "outputId": "1d5f0b57-acc2-498a-c26a-eca74ac53cd4",
        "papermill": {
          "duration": 0.053331,
          "end_time": "2021-09-03T06:09:46.466647",
          "exception": false,
          "start_time": "2021-09-03T06:09:46.413316",
          "status": "completed"
        },
        "tags": [],
        "colab": {
          "base_uri": "https://localhost:8080/"
        }
      },
      "outputs": [
        {
          "output_type": "execute_result",
          "data": {
            "text/plain": [
              "(395, 33)"
            ]
          },
          "metadata": {},
          "execution_count": 144
        }
      ],
      "source": [
        "data.shape"
      ]
    },
    {
      "cell_type": "code",
      "execution_count": 145,
      "id": "3fa4c99f",
      "metadata": {
        "execution": {
          "iopub.execute_input": "2021-09-03T06:09:46.572534Z",
          "iopub.status.busy": "2021-09-03T06:09:46.571893Z",
          "iopub.status.idle": "2021-09-03T06:09:46.574675Z",
          "shell.execute_reply": "2021-09-03T06:09:46.575218Z",
          "shell.execute_reply.started": "2021-09-03T06:07:11.626926Z"
        },
        "id": "3fa4c99f",
        "outputId": "949e45a1-19ee-4a51-f02f-bd48d1655f4b",
        "papermill": {
          "duration": 0.067335,
          "end_time": "2021-09-03T06:09:46.575392",
          "exception": false,
          "start_time": "2021-09-03T06:09:46.508057",
          "status": "completed"
        },
        "tags": [],
        "colab": {
          "base_uri": "https://localhost:8080/"
        }
      },
      "outputs": [
        {
          "output_type": "stream",
          "name": "stdout",
          "text": [
            "<class 'pandas.core.frame.DataFrame'>\n",
            "RangeIndex: 395 entries, 0 to 394\n",
            "Data columns (total 33 columns):\n",
            " #   Column      Non-Null Count  Dtype \n",
            "---  ------      --------------  ----- \n",
            " 0   school      395 non-null    object\n",
            " 1   sex         395 non-null    object\n",
            " 2   age         395 non-null    int64 \n",
            " 3   address     395 non-null    object\n",
            " 4   famsize     395 non-null    object\n",
            " 5   Pstatus     395 non-null    object\n",
            " 6   Medu        395 non-null    int64 \n",
            " 7   Fedu        395 non-null    int64 \n",
            " 8   Mjob        395 non-null    object\n",
            " 9   Fjob        395 non-null    object\n",
            " 10  reason      395 non-null    object\n",
            " 11  guardian    395 non-null    object\n",
            " 12  traveltime  395 non-null    int64 \n",
            " 13  studytime   395 non-null    int64 \n",
            " 14  failures    395 non-null    int64 \n",
            " 15  schoolsup   395 non-null    object\n",
            " 16  famsup      395 non-null    object\n",
            " 17  paid        395 non-null    object\n",
            " 18  activities  395 non-null    object\n",
            " 19  nursery     395 non-null    object\n",
            " 20  higher      395 non-null    object\n",
            " 21  internet    395 non-null    object\n",
            " 22  romantic    395 non-null    object\n",
            " 23  famrel      395 non-null    int64 \n",
            " 24  freetime    395 non-null    int64 \n",
            " 25  goout       395 non-null    int64 \n",
            " 26  Dalc        395 non-null    int64 \n",
            " 27  Walc        395 non-null    int64 \n",
            " 28  health      395 non-null    int64 \n",
            " 29  absences    395 non-null    int64 \n",
            " 30  G1          395 non-null    int64 \n",
            " 31  G2          395 non-null    int64 \n",
            " 32  G3          395 non-null    int64 \n",
            "dtypes: int64(16), object(17)\n",
            "memory usage: 102.0+ KB\n"
          ]
        }
      ],
      "source": [
        "data.info()"
      ]
    },
    {
      "cell_type": "code",
      "execution_count": 146,
      "id": "b5425c86",
      "metadata": {
        "execution": {
          "iopub.execute_input": "2021-09-03T06:09:46.662149Z",
          "iopub.status.busy": "2021-09-03T06:09:46.661483Z",
          "iopub.status.idle": "2021-09-03T06:09:46.719181Z",
          "shell.execute_reply": "2021-09-03T06:09:46.719659Z",
          "shell.execute_reply.started": "2021-09-03T06:07:11.657174Z"
        },
        "id": "b5425c86",
        "outputId": "25a2d443-353f-4958-ec3f-54229a3b6d88",
        "papermill": {
          "duration": 0.102636,
          "end_time": "2021-09-03T06:09:46.719863",
          "exception": false,
          "start_time": "2021-09-03T06:09:46.617227",
          "status": "completed"
        },
        "tags": [],
        "colab": {
          "base_uri": "https://localhost:8080/",
          "height": 344
        }
      },
      "outputs": [
        {
          "output_type": "execute_result",
          "data": {
            "text/plain": [
              "              age        Medu        Fedu  traveltime   studytime    failures  \\\n",
              "count  395.000000  395.000000  395.000000  395.000000  395.000000  395.000000   \n",
              "mean    16.696203    2.749367    2.521519    1.448101    2.035443    0.334177   \n",
              "std      1.276043    1.094735    1.088201    0.697505    0.839240    0.743651   \n",
              "min     15.000000    0.000000    0.000000    1.000000    1.000000    0.000000   \n",
              "25%     16.000000    2.000000    2.000000    1.000000    1.000000    0.000000   \n",
              "50%     17.000000    3.000000    2.000000    1.000000    2.000000    0.000000   \n",
              "75%     18.000000    4.000000    3.000000    2.000000    2.000000    0.000000   \n",
              "max     22.000000    4.000000    4.000000    4.000000    4.000000    3.000000   \n",
              "\n",
              "           famrel    freetime       goout        Dalc        Walc      health  \\\n",
              "count  395.000000  395.000000  395.000000  395.000000  395.000000  395.000000   \n",
              "mean     3.944304    3.235443    3.108861    1.481013    2.291139    3.554430   \n",
              "std      0.896659    0.998862    1.113278    0.890741    1.287897    1.390303   \n",
              "min      1.000000    1.000000    1.000000    1.000000    1.000000    1.000000   \n",
              "25%      4.000000    3.000000    2.000000    1.000000    1.000000    3.000000   \n",
              "50%      4.000000    3.000000    3.000000    1.000000    2.000000    4.000000   \n",
              "75%      5.000000    4.000000    4.000000    2.000000    3.000000    5.000000   \n",
              "max      5.000000    5.000000    5.000000    5.000000    5.000000    5.000000   \n",
              "\n",
              "         absences          G1          G2          G3  \n",
              "count  395.000000  395.000000  395.000000  395.000000  \n",
              "mean     5.708861   10.908861   10.713924   10.415190  \n",
              "std      8.003096    3.319195    3.761505    4.581443  \n",
              "min      0.000000    3.000000    0.000000    0.000000  \n",
              "25%      0.000000    8.000000    9.000000    8.000000  \n",
              "50%      4.000000   11.000000   11.000000   11.000000  \n",
              "75%      8.000000   13.000000   13.000000   14.000000  \n",
              "max     75.000000   19.000000   19.000000   20.000000  "
            ],
            "text/html": [
              "\n",
              "  <div id=\"df-18d15785-f79e-41e0-9e18-fa12e1bed838\">\n",
              "    <div class=\"colab-df-container\">\n",
              "      <div>\n",
              "<style scoped>\n",
              "    .dataframe tbody tr th:only-of-type {\n",
              "        vertical-align: middle;\n",
              "    }\n",
              "\n",
              "    .dataframe tbody tr th {\n",
              "        vertical-align: top;\n",
              "    }\n",
              "\n",
              "    .dataframe thead th {\n",
              "        text-align: right;\n",
              "    }\n",
              "</style>\n",
              "<table border=\"1\" class=\"dataframe\">\n",
              "  <thead>\n",
              "    <tr style=\"text-align: right;\">\n",
              "      <th></th>\n",
              "      <th>age</th>\n",
              "      <th>Medu</th>\n",
              "      <th>Fedu</th>\n",
              "      <th>traveltime</th>\n",
              "      <th>studytime</th>\n",
              "      <th>failures</th>\n",
              "      <th>famrel</th>\n",
              "      <th>freetime</th>\n",
              "      <th>goout</th>\n",
              "      <th>Dalc</th>\n",
              "      <th>Walc</th>\n",
              "      <th>health</th>\n",
              "      <th>absences</th>\n",
              "      <th>G1</th>\n",
              "      <th>G2</th>\n",
              "      <th>G3</th>\n",
              "    </tr>\n",
              "  </thead>\n",
              "  <tbody>\n",
              "    <tr>\n",
              "      <th>count</th>\n",
              "      <td>395.000000</td>\n",
              "      <td>395.000000</td>\n",
              "      <td>395.000000</td>\n",
              "      <td>395.000000</td>\n",
              "      <td>395.000000</td>\n",
              "      <td>395.000000</td>\n",
              "      <td>395.000000</td>\n",
              "      <td>395.000000</td>\n",
              "      <td>395.000000</td>\n",
              "      <td>395.000000</td>\n",
              "      <td>395.000000</td>\n",
              "      <td>395.000000</td>\n",
              "      <td>395.000000</td>\n",
              "      <td>395.000000</td>\n",
              "      <td>395.000000</td>\n",
              "      <td>395.000000</td>\n",
              "    </tr>\n",
              "    <tr>\n",
              "      <th>mean</th>\n",
              "      <td>16.696203</td>\n",
              "      <td>2.749367</td>\n",
              "      <td>2.521519</td>\n",
              "      <td>1.448101</td>\n",
              "      <td>2.035443</td>\n",
              "      <td>0.334177</td>\n",
              "      <td>3.944304</td>\n",
              "      <td>3.235443</td>\n",
              "      <td>3.108861</td>\n",
              "      <td>1.481013</td>\n",
              "      <td>2.291139</td>\n",
              "      <td>3.554430</td>\n",
              "      <td>5.708861</td>\n",
              "      <td>10.908861</td>\n",
              "      <td>10.713924</td>\n",
              "      <td>10.415190</td>\n",
              "    </tr>\n",
              "    <tr>\n",
              "      <th>std</th>\n",
              "      <td>1.276043</td>\n",
              "      <td>1.094735</td>\n",
              "      <td>1.088201</td>\n",
              "      <td>0.697505</td>\n",
              "      <td>0.839240</td>\n",
              "      <td>0.743651</td>\n",
              "      <td>0.896659</td>\n",
              "      <td>0.998862</td>\n",
              "      <td>1.113278</td>\n",
              "      <td>0.890741</td>\n",
              "      <td>1.287897</td>\n",
              "      <td>1.390303</td>\n",
              "      <td>8.003096</td>\n",
              "      <td>3.319195</td>\n",
              "      <td>3.761505</td>\n",
              "      <td>4.581443</td>\n",
              "    </tr>\n",
              "    <tr>\n",
              "      <th>min</th>\n",
              "      <td>15.000000</td>\n",
              "      <td>0.000000</td>\n",
              "      <td>0.000000</td>\n",
              "      <td>1.000000</td>\n",
              "      <td>1.000000</td>\n",
              "      <td>0.000000</td>\n",
              "      <td>1.000000</td>\n",
              "      <td>1.000000</td>\n",
              "      <td>1.000000</td>\n",
              "      <td>1.000000</td>\n",
              "      <td>1.000000</td>\n",
              "      <td>1.000000</td>\n",
              "      <td>0.000000</td>\n",
              "      <td>3.000000</td>\n",
              "      <td>0.000000</td>\n",
              "      <td>0.000000</td>\n",
              "    </tr>\n",
              "    <tr>\n",
              "      <th>25%</th>\n",
              "      <td>16.000000</td>\n",
              "      <td>2.000000</td>\n",
              "      <td>2.000000</td>\n",
              "      <td>1.000000</td>\n",
              "      <td>1.000000</td>\n",
              "      <td>0.000000</td>\n",
              "      <td>4.000000</td>\n",
              "      <td>3.000000</td>\n",
              "      <td>2.000000</td>\n",
              "      <td>1.000000</td>\n",
              "      <td>1.000000</td>\n",
              "      <td>3.000000</td>\n",
              "      <td>0.000000</td>\n",
              "      <td>8.000000</td>\n",
              "      <td>9.000000</td>\n",
              "      <td>8.000000</td>\n",
              "    </tr>\n",
              "    <tr>\n",
              "      <th>50%</th>\n",
              "      <td>17.000000</td>\n",
              "      <td>3.000000</td>\n",
              "      <td>2.000000</td>\n",
              "      <td>1.000000</td>\n",
              "      <td>2.000000</td>\n",
              "      <td>0.000000</td>\n",
              "      <td>4.000000</td>\n",
              "      <td>3.000000</td>\n",
              "      <td>3.000000</td>\n",
              "      <td>1.000000</td>\n",
              "      <td>2.000000</td>\n",
              "      <td>4.000000</td>\n",
              "      <td>4.000000</td>\n",
              "      <td>11.000000</td>\n",
              "      <td>11.000000</td>\n",
              "      <td>11.000000</td>\n",
              "    </tr>\n",
              "    <tr>\n",
              "      <th>75%</th>\n",
              "      <td>18.000000</td>\n",
              "      <td>4.000000</td>\n",
              "      <td>3.000000</td>\n",
              "      <td>2.000000</td>\n",
              "      <td>2.000000</td>\n",
              "      <td>0.000000</td>\n",
              "      <td>5.000000</td>\n",
              "      <td>4.000000</td>\n",
              "      <td>4.000000</td>\n",
              "      <td>2.000000</td>\n",
              "      <td>3.000000</td>\n",
              "      <td>5.000000</td>\n",
              "      <td>8.000000</td>\n",
              "      <td>13.000000</td>\n",
              "      <td>13.000000</td>\n",
              "      <td>14.000000</td>\n",
              "    </tr>\n",
              "    <tr>\n",
              "      <th>max</th>\n",
              "      <td>22.000000</td>\n",
              "      <td>4.000000</td>\n",
              "      <td>4.000000</td>\n",
              "      <td>4.000000</td>\n",
              "      <td>4.000000</td>\n",
              "      <td>3.000000</td>\n",
              "      <td>5.000000</td>\n",
              "      <td>5.000000</td>\n",
              "      <td>5.000000</td>\n",
              "      <td>5.000000</td>\n",
              "      <td>5.000000</td>\n",
              "      <td>5.000000</td>\n",
              "      <td>75.000000</td>\n",
              "      <td>19.000000</td>\n",
              "      <td>19.000000</td>\n",
              "      <td>20.000000</td>\n",
              "    </tr>\n",
              "  </tbody>\n",
              "</table>\n",
              "</div>\n",
              "      <button class=\"colab-df-convert\" onclick=\"convertToInteractive('df-18d15785-f79e-41e0-9e18-fa12e1bed838')\"\n",
              "              title=\"Convert this dataframe to an interactive table.\"\n",
              "              style=\"display:none;\">\n",
              "        \n",
              "  <svg xmlns=\"http://www.w3.org/2000/svg\" height=\"24px\"viewBox=\"0 0 24 24\"\n",
              "       width=\"24px\">\n",
              "    <path d=\"M0 0h24v24H0V0z\" fill=\"none\"/>\n",
              "    <path d=\"M18.56 5.44l.94 2.06.94-2.06 2.06-.94-2.06-.94-.94-2.06-.94 2.06-2.06.94zm-11 1L8.5 8.5l.94-2.06 2.06-.94-2.06-.94L8.5 2.5l-.94 2.06-2.06.94zm10 10l.94 2.06.94-2.06 2.06-.94-2.06-.94-.94-2.06-.94 2.06-2.06.94z\"/><path d=\"M17.41 7.96l-1.37-1.37c-.4-.4-.92-.59-1.43-.59-.52 0-1.04.2-1.43.59L10.3 9.45l-7.72 7.72c-.78.78-.78 2.05 0 2.83L4 21.41c.39.39.9.59 1.41.59.51 0 1.02-.2 1.41-.59l7.78-7.78 2.81-2.81c.8-.78.8-2.07 0-2.86zM5.41 20L4 18.59l7.72-7.72 1.47 1.35L5.41 20z\"/>\n",
              "  </svg>\n",
              "      </button>\n",
              "      \n",
              "  <style>\n",
              "    .colab-df-container {\n",
              "      display:flex;\n",
              "      flex-wrap:wrap;\n",
              "      gap: 12px;\n",
              "    }\n",
              "\n",
              "    .colab-df-convert {\n",
              "      background-color: #E8F0FE;\n",
              "      border: none;\n",
              "      border-radius: 50%;\n",
              "      cursor: pointer;\n",
              "      display: none;\n",
              "      fill: #1967D2;\n",
              "      height: 32px;\n",
              "      padding: 0 0 0 0;\n",
              "      width: 32px;\n",
              "    }\n",
              "\n",
              "    .colab-df-convert:hover {\n",
              "      background-color: #E2EBFA;\n",
              "      box-shadow: 0px 1px 2px rgba(60, 64, 67, 0.3), 0px 1px 3px 1px rgba(60, 64, 67, 0.15);\n",
              "      fill: #174EA6;\n",
              "    }\n",
              "\n",
              "    [theme=dark] .colab-df-convert {\n",
              "      background-color: #3B4455;\n",
              "      fill: #D2E3FC;\n",
              "    }\n",
              "\n",
              "    [theme=dark] .colab-df-convert:hover {\n",
              "      background-color: #434B5C;\n",
              "      box-shadow: 0px 1px 3px 1px rgba(0, 0, 0, 0.15);\n",
              "      filter: drop-shadow(0px 1px 2px rgba(0, 0, 0, 0.3));\n",
              "      fill: #FFFFFF;\n",
              "    }\n",
              "  </style>\n",
              "\n",
              "      <script>\n",
              "        const buttonEl =\n",
              "          document.querySelector('#df-18d15785-f79e-41e0-9e18-fa12e1bed838 button.colab-df-convert');\n",
              "        buttonEl.style.display =\n",
              "          google.colab.kernel.accessAllowed ? 'block' : 'none';\n",
              "\n",
              "        async function convertToInteractive(key) {\n",
              "          const element = document.querySelector('#df-18d15785-f79e-41e0-9e18-fa12e1bed838');\n",
              "          const dataTable =\n",
              "            await google.colab.kernel.invokeFunction('convertToInteractive',\n",
              "                                                     [key], {});\n",
              "          if (!dataTable) return;\n",
              "\n",
              "          const docLinkHtml = 'Like what you see? Visit the ' +\n",
              "            '<a target=\"_blank\" href=https://colab.research.google.com/notebooks/data_table.ipynb>data table notebook</a>'\n",
              "            + ' to learn more about interactive tables.';\n",
              "          element.innerHTML = '';\n",
              "          dataTable['output_type'] = 'display_data';\n",
              "          await google.colab.output.renderOutput(dataTable, element);\n",
              "          const docLink = document.createElement('div');\n",
              "          docLink.innerHTML = docLinkHtml;\n",
              "          element.appendChild(docLink);\n",
              "        }\n",
              "      </script>\n",
              "    </div>\n",
              "  </div>\n",
              "  "
            ]
          },
          "metadata": {},
          "execution_count": 146
        }
      ],
      "source": [
        "data.describe()"
      ]
    },
    {
      "cell_type": "code",
      "source": [
        "numeric = ['G1','G2','Medu','Fedu','Walc','age','Dalc','studytime','traveltime','freetime','goout','health','failures','famrel','absences']"
      ],
      "metadata": {
        "id": "xUuQWe9hBE7w"
      },
      "id": "xUuQWe9hBE7w",
      "execution_count": 147,
      "outputs": []
    },
    {
      "cell_type": "code",
      "source": [
        "plt.figure(figsize=(10,10))\n",
        "sns.heatmap(data[numeric].corr(), annot=True, annot_kws={\"fontsize\":10}, fmt=\".2f\", vmin=-1)\n",
        "plt.show()"
      ],
      "metadata": {
        "colab": {
          "base_uri": "https://localhost:8080/",
          "height": 637
        },
        "id": "gg4bOS1XA0hh",
        "outputId": "94b2eae5-10fb-4b24-b022-3a45504b84e1"
      },
      "id": "gg4bOS1XA0hh",
      "execution_count": 148,
      "outputs": [
        {
          "output_type": "display_data",
          "data": {
            "text/plain": [
              "<Figure size 720x720 with 2 Axes>"
            ],
            "image/png": "[encoded data removed]"
          },
          "metadata": {
            "needs_background": "light"
          }
        }
      ]
    },
    {
      "cell_type": "markdown",
      "id": "6087605c",
      "metadata": {
        "id": "6087605c",
        "papermill": {
          "duration": 0.044392,
          "end_time": "2021-09-03T06:09:47.514769",
          "exception": false,
          "start_time": "2021-09-03T06:09:47.470377",
          "status": "completed"
        },
        "tags": []
      },
      "source": [
        "Let us do some Exploratory data Analysis and find how dependent and independent features are related to each other."
      ]
    },
    {
      "cell_type": "code",
      "execution_count": 149,
      "id": "d9c41fec",
      "metadata": {
        "execution": {
          "iopub.execute_input": "2021-09-03T06:09:47.607187Z",
          "iopub.status.busy": "2021-09-03T06:09:47.606131Z",
          "iopub.status.idle": "2021-09-03T06:09:47.805944Z",
          "shell.execute_reply": "2021-09-03T06:09:47.805410Z",
          "shell.execute_reply.started": "2021-09-03T06:07:12.280911Z"
        },
        "id": "d9c41fec",
        "outputId": "dc59b262-525d-4e56-a73e-f5a29c28dddc",
        "papermill": {
          "duration": 0.247983,
          "end_time": "2021-09-03T06:09:47.806081",
          "exception": false,
          "start_time": "2021-09-03T06:09:47.558098",
          "status": "completed"
        },
        "tags": [],
        "colab": {
          "base_uri": "https://localhost:8080/",
          "height": 296
        }
      },
      "outputs": [
        {
          "output_type": "execute_result",
          "data": {
            "text/plain": [
              "<matplotlib.axes._subplots.AxesSubplot at 0x7f9c58896670>"
            ]
          },
          "metadata": {},
          "execution_count": 149
        },
        {
          "output_type": "display_data",
          "data": {
            "text/plain": [
              "<Figure size 432x288 with 1 Axes>"
            ],
            "image/png": "[encoded data removed]"
          },
          "metadata": {
            "needs_background": "light"
          }
        }
      ],
      "source": [
        "sns.barplot(data['sex'],data['G3'],ci = 0)"
      ]
    },
    {
      "cell_type": "markdown",
      "id": "bd5390ff",
      "metadata": {
        "id": "bd5390ff",
        "papermill": {
          "duration": 0.04432,
          "end_time": "2021-09-03T06:09:47.895131",
          "exception": false,
          "start_time": "2021-09-03T06:09:47.850811",
          "status": "completed"
        },
        "tags": []
      },
      "source": [
        "We could see that male has performed well than female."
      ]
    },
    {
      "cell_type": "code",
      "execution_count": 150,
      "id": "76b1d437",
      "metadata": {
        "execution": {
          "iopub.execute_input": "2021-09-03T06:09:48.024974Z",
          "iopub.status.busy": "2021-09-03T06:09:48.021697Z",
          "iopub.status.idle": "2021-09-03T06:09:48.680426Z",
          "shell.execute_reply": "2021-09-03T06:09:48.680904Z",
          "shell.execute_reply.started": "2021-09-03T06:07:12.481318Z"
        },
        "id": "76b1d437",
        "outputId": "aff18e6e-c367-481f-b75a-5d7c802f3b8a",
        "papermill": {
          "duration": 0.741482,
          "end_time": "2021-09-03T06:09:48.681083",
          "exception": false,
          "start_time": "2021-09-03T06:09:47.939601",
          "status": "completed"
        },
        "tags": [],
        "colab": {
          "base_uri": "https://localhost:8080/",
          "height": 296
        }
      },
      "outputs": [
        {
          "output_type": "execute_result",
          "data": {
            "text/plain": [
              "<matplotlib.axes._subplots.AxesSubplot at 0x7f9c59c6a220>"
            ]
          },
          "metadata": {},
          "execution_count": 150
        },
        {
          "output_type": "display_data",
          "data": {
            "text/plain": [
              "<Figure size 432x288 with 1 Axes>"
            ],
            "image/png": "[encoded data removed]"
          },
          "metadata": {
            "needs_background": "light"
          }
        }
      ],
      "source": [
        "sns.lineplot(data['G3'],data['absences'])"
      ]
    },
    {
      "cell_type": "markdown",
      "id": "67efbd4d",
      "metadata": {
        "id": "67efbd4d",
        "papermill": {
          "duration": 0.04706,
          "end_time": "2021-09-03T06:09:48.774720",
          "exception": false,
          "start_time": "2021-09-03T06:09:48.727660",
          "status": "completed"
        },
        "tags": []
      },
      "source": [
        "We could observe that as absences decreases, the Grade mark increases.So the students who are absent for most of the classes will get their grade low."
      ]
    },
    {
      "cell_type": "code",
      "execution_count": 151,
      "id": "de7fdd26",
      "metadata": {
        "execution": {
          "iopub.execute_input": "2021-09-03T06:09:48.870889Z",
          "iopub.status.busy": "2021-09-03T06:09:48.870271Z",
          "iopub.status.idle": "2021-09-03T06:09:49.260059Z",
          "shell.execute_reply": "2021-09-03T06:09:49.260535Z",
          "shell.execute_reply.started": "2021-09-03T06:07:13.175410Z"
        },
        "id": "de7fdd26",
        "outputId": "079c3ef9-7e24-4083-e992-ccc51b552170",
        "papermill": {
          "duration": 0.439509,
          "end_time": "2021-09-03T06:09:49.260713",
          "exception": false,
          "start_time": "2021-09-03T06:09:48.821204",
          "status": "completed"
        },
        "tags": [],
        "colab": {
          "base_uri": "https://localhost:8080/",
          "height": 296
        }
      },
      "outputs": [
        {
          "output_type": "execute_result",
          "data": {
            "text/plain": [
              "<matplotlib.axes._subplots.AxesSubplot at 0x7f9c58667250>"
            ]
          },
          "metadata": {},
          "execution_count": 151
        },
        {
          "output_type": "display_data",
          "data": {
            "text/plain": [
              "<Figure size 432x288 with 1 Axes>"
            ],
            "image/png": "[encoded data removed]"
          },
          "metadata": {
            "needs_background": "light"
          }
        }
      ],
      "source": [
        "sns.barplot(data['health'],data['absences'],ci = 0)"
      ]
    },
    {
      "cell_type": "markdown",
      "id": "b6f46c8d",
      "metadata": {
        "id": "b6f46c8d",
        "papermill": {
          "duration": 0.04967,
          "end_time": "2021-09-03T06:09:49.358833",
          "exception": false,
          "start_time": "2021-09-03T06:09:49.309163",
          "status": "completed"
        },
        "tags": []
      },
      "source": [
        "From this we could see that the students who are absent for most of the classes is not for bad health.Because even the students with good health(5) also has more absences."
      ]
    },
    {
      "cell_type": "code",
      "execution_count": 152,
      "id": "1141b78c",
      "metadata": {
        "execution": {
          "iopub.execute_input": "2021-09-03T06:09:49.458442Z",
          "iopub.status.busy": "2021-09-03T06:09:49.457781Z",
          "iopub.status.idle": "2021-09-03T06:09:49.636945Z",
          "shell.execute_reply": "2021-09-03T06:09:49.636321Z",
          "shell.execute_reply.started": "2021-09-03T06:07:13.641855Z"
        },
        "id": "1141b78c",
        "outputId": "947647ca-474b-4194-aeae-529ad9238704",
        "papermill": {
          "duration": 0.229858,
          "end_time": "2021-09-03T06:09:49.637089",
          "exception": false,
          "start_time": "2021-09-03T06:09:49.407231",
          "status": "completed"
        },
        "tags": [],
        "colab": {
          "base_uri": "https://localhost:8080/",
          "height": 296
        }
      },
      "outputs": [
        {
          "output_type": "execute_result",
          "data": {
            "text/plain": [
              "<matplotlib.axes._subplots.AxesSubplot at 0x7f9c585e0a30>"
            ]
          },
          "metadata": {},
          "execution_count": 152
        },
        {
          "output_type": "display_data",
          "data": {
            "text/plain": [
              "<Figure size 432x288 with 1 Axes>"
            ],
            "image/png": "[encoded data removed]"
          },
          "metadata": {
            "needs_background": "light"
          }
        }
      ],
      "source": [
        "sns.countplot(data['higher'],hue=data['sex'])"
      ]
    },
    {
      "cell_type": "markdown",
      "id": "1c82d617",
      "metadata": {
        "id": "1c82d617",
        "papermill": {
          "duration": 0.049441,
          "end_time": "2021-09-03T06:09:49.736417",
          "exception": false,
          "start_time": "2021-09-03T06:09:49.686976",
          "status": "completed"
        },
        "tags": []
      },
      "source": [
        "From this we could see that most of the students prefer to pursue Higher education.And even females preference was higher than male in pursuing higher education."
      ]
    },
    {
      "cell_type": "code",
      "execution_count": 153,
      "id": "ad6055d6",
      "metadata": {
        "execution": {
          "iopub.execute_input": "2021-09-03T06:09:49.842869Z",
          "iopub.status.busy": "2021-09-03T06:09:49.841854Z",
          "iopub.status.idle": "2021-09-03T06:09:50.033197Z",
          "shell.execute_reply": "2021-09-03T06:09:50.032635Z",
          "shell.execute_reply.started": "2021-09-03T06:07:13.837385Z"
        },
        "id": "ad6055d6",
        "outputId": "b17cca65-01d9-4014-f97c-f724b7112ea7",
        "papermill": {
          "duration": 0.246901,
          "end_time": "2021-09-03T06:09:50.033355",
          "exception": false,
          "start_time": "2021-09-03T06:09:49.786454",
          "status": "completed"
        },
        "tags": [],
        "colab": {
          "base_uri": "https://localhost:8080/",
          "height": 296
        }
      },
      "outputs": [
        {
          "output_type": "execute_result",
          "data": {
            "text/plain": [
              "<matplotlib.axes._subplots.AxesSubplot at 0x7f9c585b7ac0>"
            ]
          },
          "metadata": {},
          "execution_count": 153
        },
        {
          "output_type": "display_data",
          "data": {
            "text/plain": [
              "<Figure size 432x288 with 1 Axes>"
            ],
            "image/png": "[encoded data removed]"
          },
          "metadata": {
            "needs_background": "light"
          }
        }
      ],
      "source": [
        "sns.barplot(data['internet'],data['G3'],ci=0)"
      ]
    },
    {
      "cell_type": "markdown",
      "id": "9d9521e7",
      "metadata": {
        "id": "9d9521e7",
        "papermill": {
          "duration": 0.050476,
          "end_time": "2021-09-03T06:09:50.134991",
          "exception": false,
          "start_time": "2021-09-03T06:09:50.084515",
          "status": "completed"
        },
        "tags": []
      },
      "source": [
        "We could see that the students who got internet connection has scored better than the students who does'nt have internet connection."
      ]
    },
    {
      "cell_type": "code",
      "execution_count": 154,
      "id": "99194a2b",
      "metadata": {
        "execution": {
          "iopub.execute_input": "2021-09-03T06:09:50.398766Z",
          "iopub.status.busy": "2021-09-03T06:09:50.383984Z",
          "iopub.status.idle": "2021-09-03T06:09:52.256370Z",
          "shell.execute_reply": "2021-09-03T06:09:52.255803Z",
          "shell.execute_reply.started": "2021-09-03T06:07:14.144432Z"
        },
        "id": "99194a2b",
        "outputId": "17d619d7-31b1-45f4-e4ae-763c2c2d647f",
        "papermill": {
          "duration": 2.070327,
          "end_time": "2021-09-03T06:09:52.256509",
          "exception": false,
          "start_time": "2021-09-03T06:09:50.186182",
          "status": "completed"
        },
        "tags": [],
        "colab": {
          "base_uri": "https://localhost:8080/",
          "height": 351
        }
      },
      "outputs": [
        {
          "output_type": "execute_result",
          "data": {
            "text/plain": [
              "Text(0.5, 0, 'Mother education')"
            ]
          },
          "metadata": {},
          "execution_count": 154
        },
        {
          "output_type": "display_data",
          "data": {
            "text/plain": [
              "<Figure size 864x360 with 2 Axes>"
            ],
            "image/png": "[encoded data removed]"
          },
          "metadata": {
            "needs_background": "light"
          }
        }
      ],
      "source": [
        "fig,(ax1,ax2)=plt.subplots(nrows=1,ncols=2,figsize=(12,5))\n",
        "ax1.bar(data['Fedu'],data['G3'],color='tomato')\n",
        "ax1.set_xlabel('Father education')\n",
        "ax1.set_ylabel('Grade')\n",
        "ax2.bar(data['Medu'],data['G3'],color='salmon')\n",
        "ax2.set_xlabel('Mother education')\n",
        "#(0 - none, 1 - primary education (4th grade), 2 - 5th to 9th grade, 3 - secondary education or 4 - higher education)"
      ]
    },
    {
      "cell_type": "markdown",
      "id": "76de9aaf",
      "metadata": {
        "id": "76de9aaf",
        "papermill": {
          "duration": 0.05186,
          "end_time": "2021-09-03T06:09:52.360463",
          "exception": false,
          "start_time": "2021-09-03T06:09:52.308603",
          "status": "completed"
        },
        "tags": []
      },
      "source": [
        "From this we could see that Father's education does not affects student's grade but for the mothers who are educated their student's grade level got increased.It is because mothers teach their children.May be..."
      ]
    },
    {
      "cell_type": "code",
      "execution_count": 155,
      "id": "215908bd",
      "metadata": {
        "execution": {
          "iopub.execute_input": "2021-09-03T06:09:52.495536Z",
          "iopub.status.busy": "2021-09-03T06:09:52.481268Z",
          "iopub.status.idle": "2021-09-03T06:09:54.525656Z",
          "shell.execute_reply": "2021-09-03T06:09:54.526255Z",
          "shell.execute_reply.started": "2021-09-03T06:07:16.138389Z"
        },
        "id": "215908bd",
        "outputId": "d1772309-1f07-4146-8ebd-ddfce9400d77",
        "papermill": {
          "duration": 2.113093,
          "end_time": "2021-09-03T06:09:54.526461",
          "exception": false,
          "start_time": "2021-09-03T06:09:52.413368",
          "status": "completed"
        },
        "tags": [],
        "colab": {
          "base_uri": "https://localhost:8080/",
          "height": 351
        }
      },
      "outputs": [
        {
          "output_type": "execute_result",
          "data": {
            "text/plain": [
              "Text(0.5, 0, ' number of past class failures')"
            ]
          },
          "metadata": {},
          "execution_count": 155
        },
        {
          "output_type": "display_data",
          "data": {
            "text/plain": [
              "<Figure size 864x360 with 2 Axes>"
            ],
            "image/png": "[encoded data removed]"
          },
          "metadata": {
            "needs_background": "light"
          }
        }
      ],
      "source": [
        "fig,(ax1,ax2)=plt.subplots(nrows=1,ncols=2,figsize=(12,5))\n",
        "ax1.bar(data['nursery'],data['G3'],color='c')\n",
        "ax1.set_xlabel('Students attended nursery school')\n",
        "ax1.set_ylabel('Grade')\n",
        "ax2.bar(data['failures'],data['G3'])\n",
        "ax2.set_xlabel(' number of past class failures')\n"
      ]
    },
    {
      "cell_type": "markdown",
      "id": "dc22d72a",
      "metadata": {
        "id": "dc22d72a",
        "papermill": {
          "duration": 0.052232,
          "end_time": "2021-09-03T06:09:54.631950",
          "exception": false,
          "start_time": "2021-09-03T06:09:54.579718",
          "status": "completed"
        },
        "tags": []
      },
      "source": [
        "We could see that the students who attended nursery schools have performed well because of their primary Knowledge.\n",
        "\n",
        "And also as no.of past class failures increases the grade decreases."
      ]
    },
    {
      "cell_type": "code",
      "execution_count": 156,
      "id": "73ffd32c",
      "metadata": {
        "execution": {
          "iopub.execute_input": "2021-09-03T06:09:54.782898Z",
          "iopub.status.busy": "2021-09-03T06:09:54.765977Z",
          "iopub.status.idle": "2021-09-03T06:09:56.661833Z",
          "shell.execute_reply": "2021-09-03T06:09:56.661273Z",
          "shell.execute_reply.started": "2021-09-03T06:07:18.199768Z"
        },
        "id": "73ffd32c",
        "outputId": "1a85f9f7-c493-4f61-f8ef-a4cd30828fae",
        "papermill": {
          "duration": 1.977542,
          "end_time": "2021-09-03T06:09:56.662005",
          "exception": false,
          "start_time": "2021-09-03T06:09:54.684463",
          "status": "completed"
        },
        "tags": [],
        "colab": {
          "base_uri": "https://localhost:8080/",
          "height": 351
        }
      },
      "outputs": [
        {
          "output_type": "execute_result",
          "data": {
            "text/plain": [
              "Text(0.5, 0, ' weekend alcohol consumption')"
            ]
          },
          "metadata": {},
          "execution_count": 156
        },
        {
          "output_type": "display_data",
          "data": {
            "text/plain": [
              "<Figure size 864x360 with 2 Axes>"
            ],
            "image/png": "[encoded data removed]"
          },
          "metadata": {
            "needs_background": "light"
          }
        }
      ],
      "source": [
        "fig,(ax1,ax2)=plt.subplots(nrows=1,ncols=2,figsize=(12,5))\n",
        "ax1.bar(data['Dalc'],data['G3'],color='palevioletred')\n",
        "ax1.set_xlabel(' workday alcohol consumption ') #(numeric: from 1 - very low to 5 - very high)\n",
        "ax1.set_ylabel('Grade')\n",
        "ax2.bar(data['Walc'],data['G3'],color='crimson')\n",
        "ax2.set_xlabel(' weekend alcohol consumption') #(numeric: from 1 - very low to 5 - very high)"
      ]
    },
    {
      "cell_type": "markdown",
      "id": "080b4957",
      "metadata": {
        "id": "080b4957",
        "papermill": {
          "duration": 0.055026,
          "end_time": "2021-09-03T06:09:56.771276",
          "exception": false,
          "start_time": "2021-09-03T06:09:56.716250",
          "status": "completed"
        },
        "tags": []
      },
      "source": [
        "From this graph we could see that how alcohol consumption has affected the students grade."
      ]
    },
    {
      "cell_type": "code",
      "execution_count": 157,
      "id": "cc01e04d",
      "metadata": {
        "execution": {
          "iopub.execute_input": "2021-09-03T06:09:56.886479Z",
          "iopub.status.busy": "2021-09-03T06:09:56.885491Z",
          "iopub.status.idle": "2021-09-03T06:09:56.889280Z",
          "shell.execute_reply": "2021-09-03T06:09:56.889793Z",
          "shell.execute_reply.started": "2021-09-03T06:07:20.270746Z"
        },
        "id": "cc01e04d",
        "outputId": "c4f136d3-30d0-4bd4-955c-6e8ceaf2d23e",
        "papermill": {
          "duration": 0.064346,
          "end_time": "2021-09-03T06:09:56.889960",
          "exception": false,
          "start_time": "2021-09-03T06:09:56.825614",
          "status": "completed"
        },
        "tags": [],
        "colab": {
          "base_uri": "https://localhost:8080/"
        }
      },
      "outputs": [
        {
          "output_type": "execute_result",
          "data": {
            "text/plain": [
              "Index(['school', 'sex', 'age', 'address', 'famsize', 'Pstatus', 'Medu', 'Fedu',\n",
              "       'Mjob', 'Fjob', 'reason', 'guardian', 'traveltime', 'studytime',\n",
              "       'failures', 'schoolsup', 'famsup', 'paid', 'activities', 'nursery',\n",
              "       'higher', 'internet', 'romantic', 'famrel', 'freetime', 'goout', 'Dalc',\n",
              "       'Walc', 'health', 'absences', 'G1', 'G2', 'G3'],\n",
              "      dtype='object')"
            ]
          },
          "metadata": {},
          "execution_count": 157
        }
      ],
      "source": [
        "data.columns"
      ]
    },
    {
      "cell_type": "markdown",
      "id": "1f25cce7",
      "metadata": {
        "id": "1f25cce7",
        "papermill": {
          "duration": 0.054525,
          "end_time": "2021-09-03T06:09:56.999081",
          "exception": false,
          "start_time": "2021-09-03T06:09:56.944556",
          "status": "completed"
        },
        "tags": []
      },
      "source": [
        "Split the data into dependent and independent features."
      ]
    },
    {
      "cell_type": "code",
      "execution_count": 158,
      "id": "71a10529",
      "metadata": {
        "execution": {
          "iopub.execute_input": "2021-09-03T06:09:57.114769Z",
          "iopub.status.busy": "2021-09-03T06:09:57.114073Z",
          "iopub.status.idle": "2021-09-03T06:09:57.117448Z",
          "shell.execute_reply": "2021-09-03T06:09:57.116726Z",
          "shell.execute_reply.started": "2021-09-03T06:07:20.278732Z"
        },
        "id": "71a10529",
        "papermill": {
          "duration": 0.064071,
          "end_time": "2021-09-03T06:09:57.117600",
          "exception": false,
          "start_time": "2021-09-03T06:09:57.053529",
          "status": "completed"
        },
        "tags": []
      },
      "outputs": [],
      "source": [
        "X=data[['G1','G2','Medu','Fedu','Walc','age','Dalc','studytime','traveltime','freetime','goout','health','failures','famrel','absences']]\n",
        "y=data['G3']"
      ]
    },
    {
      "cell_type": "code",
      "execution_count": 159,
      "id": "3a467fab",
      "metadata": {
        "execution": {
          "iopub.execute_input": "2021-09-03T06:09:57.243101Z",
          "iopub.status.busy": "2021-09-03T06:09:57.241956Z",
          "iopub.status.idle": "2021-09-03T06:09:57.602683Z",
          "shell.execute_reply": "2021-09-03T06:09:57.601996Z",
          "shell.execute_reply.started": "2021-09-03T06:07:20.292701Z"
        },
        "id": "3a467fab",
        "papermill": {
          "duration": 0.429572,
          "end_time": "2021-09-03T06:09:57.602842",
          "exception": false,
          "start_time": "2021-09-03T06:09:57.173270",
          "status": "completed"
        },
        "tags": []
      },
      "outputs": [],
      "source": [
        "from sklearn.model_selection import train_test_split"
      ]
    },
    {
      "cell_type": "code",
      "execution_count": 160,
      "id": "b53343f2",
      "metadata": {
        "execution": {
          "iopub.execute_input": "2021-09-03T06:09:57.721699Z",
          "iopub.status.busy": "2021-09-03T06:09:57.721001Z",
          "iopub.status.idle": "2021-09-03T06:09:57.723627Z",
          "shell.execute_reply": "2021-09-03T06:09:57.724150Z",
          "shell.execute_reply.started": "2021-09-03T06:07:20.488615Z"
        },
        "id": "b53343f2",
        "papermill": {
          "duration": 0.064852,
          "end_time": "2021-09-03T06:09:57.724317",
          "exception": false,
          "start_time": "2021-09-03T06:09:57.659465",
          "status": "completed"
        },
        "tags": []
      },
      "outputs": [],
      "source": [
        "X_train,X_test,y_train,y_test=train_test_split(X,y,test_size=0.2,random_state=42)"
      ]
    },
    {
      "cell_type": "markdown",
      "source": [
        "#### Linear Regression"
      ],
      "metadata": {
        "id": "LKC3DUXm_Au3"
      },
      "id": "LKC3DUXm_Au3"
    },
    {
      "cell_type": "code",
      "source": [
        "import sklearn.metrics as metrics\n",
        "def regression_results(y_true, y_pred):\n",
        "\n",
        "    # Regression metrics\n",
        "    explained_variance=metrics.explained_variance_score(y_true, y_pred)\n",
        "    mean_absolute_error=metrics.mean_absolute_error(y_true, y_pred) \n",
        "    mse=metrics.mean_squared_error(y_true, y_pred) \n",
        "    median_absolute_error=metrics.median_absolute_error(y_true, y_pred)\n",
        "    r2=metrics.r2_score(y_true, y_pred)\n",
        "\n",
        "    print('Explained_variance: ', round(explained_variance,4))    \n",
        "    print('R-squared value: ', round(r2,4))\n",
        "    print('MAE: ', round(mean_absolute_error,4))\n",
        "    print('MSE: ', round(mse,4))\n",
        "    print('RMSE: ', round(np.sqrt(mse),4))"
      ],
      "metadata": {
        "id": "Hk7h7ulqP6Hv"
      },
      "id": "Hk7h7ulqP6Hv",
      "execution_count": 161,
      "outputs": []
    },
    {
      "cell_type": "code",
      "execution_count": 162,
      "id": "507fea8e",
      "metadata": {
        "execution": {
          "iopub.execute_input": "2021-09-03T06:10:02.091988Z",
          "iopub.status.busy": "2021-09-03T06:10:02.090957Z",
          "iopub.status.idle": "2021-09-03T06:10:02.094272Z",
          "shell.execute_reply": "2021-09-03T06:10:02.093599Z",
          "shell.execute_reply.started": "2021-09-03T06:07:23.495275Z"
        },
        "id": "507fea8e",
        "papermill": {
          "duration": 0.063856,
          "end_time": "2021-09-03T06:10:02.094415",
          "exception": false,
          "start_time": "2021-09-03T06:10:02.030559",
          "status": "completed"
        },
        "tags": []
      },
      "outputs": [],
      "source": [
        "from sklearn.linear_model import ElasticNet,Ridge,Lasso,LinearRegression\n",
        "from sklearn.model_selection import cross_val_score,GridSearchCV\n",
        "from sklearn.metrics import mean_squared_error\n",
        "from sklearn.metrics import mean_absolute_error"
      ]
    },
    {
      "cell_type": "code",
      "execution_count": 163,
      "id": "49a5bb55",
      "metadata": {
        "execution": {
          "iopub.execute_input": "2021-09-03T06:10:02.210411Z",
          "iopub.status.busy": "2021-09-03T06:10:02.209376Z",
          "iopub.status.idle": "2021-09-03T06:10:02.212873Z",
          "shell.execute_reply": "2021-09-03T06:10:02.212149Z",
          "shell.execute_reply.started": "2021-09-03T06:07:23.501923Z"
        },
        "id": "49a5bb55",
        "papermill": {
          "duration": 0.06324,
          "end_time": "2021-09-03T06:10:02.213049",
          "exception": false,
          "start_time": "2021-09-03T06:10:02.149809",
          "status": "completed"
        },
        "tags": [],
        "colab": {
          "base_uri": "https://localhost:8080/"
        },
        "outputId": "d66f6e81-a5ca-409c-8c2f-af7dc17717ea"
      },
      "outputs": [
        {
          "output_type": "stream",
          "name": "stdout",
          "text": [
            "Explained_variance:  0.7813\n",
            "R-squared value:  0.7804\n",
            "MAE:  1.3482\n",
            "MSE:  4.5038\n",
            "RMSE:  2.1222\n"
          ]
        }
      ],
      "source": [
        "linear=LinearRegression()\n",
        "model_1=linear.fit(X_train,y_train)\n",
        "pred_1=model_1.predict(X_test)\n",
        "linear_result = regression_results(y_test, pred_1)"
      ]
    },
    {
      "cell_type": "code",
      "source": [
        "#putting together the coefficient and their corresponding variable names\n",
        "linear_coef = pd.DataFrame()\n",
        "linear_coef['Columns']= X_train.columns\n",
        "linear_coef['Coefficient Estimate']= pd.Series(linear.coef_)\n",
        "print(linear_coef)"
      ],
      "metadata": {
        "colab": {
          "base_uri": "https://localhost:8080/"
        },
        "id": "HGas2mRm7Wp5",
        "outputId": "e4f94282-699c-48b8-b8c2-8ef199ca00f9"
      },
      "id": "HGas2mRm7Wp5",
      "execution_count": 164,
      "outputs": [
        {
          "output_type": "stream",
          "name": "stdout",
          "text": [
            "       Columns  Coefficient Estimate\n",
            "0           G1              0.160748\n",
            "1           G2              0.977534\n",
            "2         Medu              0.094194\n",
            "3         Fedu             -0.188338\n",
            "4         Walc              0.061756\n",
            "5          age             -0.198011\n",
            "6         Dalc             -0.105011\n",
            "7    studytime             -0.066050\n",
            "8   traveltime              0.131009\n",
            "9     freetime              0.010623\n",
            "10       goout              0.137633\n",
            "11      health              0.059078\n",
            "12    failures             -0.416258\n",
            "13      famrel              0.334612\n",
            "14    absences              0.044864\n"
          ]
        }
      ]
    },
    {
      "cell_type": "markdown",
      "source": [
        "##### Elastic Net Without Library"
      ],
      "metadata": {
        "id": "IJp_jO0Qv5jq"
      },
      "id": "IJp_jO0Qv5jq"
    },
    {
      "cell_type": "code",
      "source": [
        "def elastic_net(X, y, l, alpha, tol=1e-4, path_length=100, return_path=False):\n",
        "    \"\"\"The Elastic Net Regression model with intercept term.\n",
        "    Intercept term included via design matrix augmentation.\n",
        "    Pathwise coordinate descent with co-variance updates is applied.\n",
        "    Path from max value of the L1 tuning parameter to input tuning parameter value.\n",
        "    Features must be standardized (centered and scaled to unit variance)\n",
        "\n",
        "    Params:\n",
        "        X - NumPy matrix, size (N, p), of standardized numerical predictors\n",
        "        y - NumPy array, length N, of numerical response\n",
        "        l1 - L1 penalty tuning parameter (positive scalar)\n",
        "        l2 - L2 penalty tuning parameter (positive scalar)\n",
        "        tol - Coordinate Descent convergence tolerance (exited if change < tol)\n",
        "        path_length - Number of tuning parameter values to include in path (positive integer)\n",
        "\n",
        "    Returns:\n",
        "        NumPy array, length p + 1, of fitted model coefficients\n",
        "    \"\"\"\n",
        "    X = np.hstack((np.ones((len(X), 1)), X))\n",
        "    m, n = np.shape(X)\n",
        "    B_star = np.zeros((n))\n",
        "    if alpha == 0:\n",
        "        l2 = 1e-15\n",
        "    l_max = max(list(abs(np.dot(np.transpose(X), y)))) / m / alpha\n",
        "    if l >= l_max:\n",
        "        return np.append(np.mean(y), np.zeros((n - 1)))\n",
        "    l_path = np.geomspace(l_max, l, path_length)\n",
        "    for i in range(path_length):\n",
        "        while True:\n",
        "            B_s = B_star\n",
        "            for j in range(n):\n",
        "                k = np.where(B_s != 0)[0]\n",
        "                update = (1/m)*((np.dot(X[:,j], y)- \\\n",
        "                                np.dot(np.dot(X[:,j], X[:,k]), B_s[k]))) + \\\n",
        "                                B_s[j]\n",
        "                B_star[j] = (np.sign(update) * max(\n",
        "                    abs(update) - l_path[i] * alpha, 0)) / (1 + (l_path[i] * (1 - alpha)))\n",
        "            if np.all(abs(B_s - B_star) < tol):\n",
        "                break\n",
        "    return B_star"
      ],
      "metadata": {
        "id": "XMeb3VF1wBr5"
      },
      "id": "XMeb3VF1wBr5",
      "execution_count": 165,
      "outputs": []
    },
    {
      "cell_type": "code",
      "source": [
        "#elastic_net_raw = elastic_net(X_train, y_train,0.1,.1)"
      ],
      "metadata": {
        "id": "OZMIeQaqwT7x"
      },
      "id": "OZMIeQaqwT7x",
      "execution_count": 166,
      "outputs": []
    },
    {
      "cell_type": "markdown",
      "source": [
        "##### Lasso"
      ],
      "metadata": {
        "id": "0_4DwX15MwdR"
      },
      "id": "0_4DwX15MwdR"
    },
    {
      "cell_type": "code",
      "source": [
        "lasso = Lasso(alpha=0.1)\n",
        "model_2 = lasso.fit(X_train,y_train)\n",
        "pred_2 = model_2.predict(X_test)\n",
        "lasso_result = regression_results(y_test, pred_2)"
      ],
      "metadata": {
        "colab": {
          "base_uri": "https://localhost:8080/"
        },
        "id": "lEVYW2pnM3hM",
        "outputId": "e5850976-42f5-4710-8c8c-30fd7fd03c0d"
      },
      "id": "lEVYW2pnM3hM",
      "execution_count": 167,
      "outputs": [
        {
          "output_type": "stream",
          "name": "stdout",
          "text": [
            "Explained_variance:  0.7917\n",
            "R-squared value:  0.7902\n",
            "MAE:  1.3066\n",
            "MSE:  4.303\n",
            "RMSE:  2.0744\n"
          ]
        }
      ]
    },
    {
      "cell_type": "code",
      "source": [
        "#putting together the coefficient and their corresponding variable names\n",
        "lasso_coef = pd.DataFrame()\n",
        "lasso_coef['Columns']= X_train.columns\n",
        "lasso_coef['Coefficient Estimate']= pd.Series(lasso.coef_)\n",
        "print(lasso_coef)"
      ],
      "metadata": {
        "colab": {
          "base_uri": "https://localhost:8080/"
        },
        "id": "1pjL6fSl7ux3",
        "outputId": "95a4fa65-dd67-46a1-95fa-e4926f806754"
      },
      "id": "1pjL6fSl7ux3",
      "execution_count": 168,
      "outputs": [
        {
          "output_type": "stream",
          "name": "stdout",
          "text": [
            "       Columns  Coefficient Estimate\n",
            "0           G1              0.152208\n",
            "1           G2              0.979473\n",
            "2         Medu              0.000000\n",
            "3         Fedu             -0.000000\n",
            "4         Walc              0.000000\n",
            "5          age             -0.143789\n",
            "6         Dalc             -0.000000\n",
            "7    studytime             -0.000000\n",
            "8   traveltime              0.000000\n",
            "9     freetime              0.000000\n",
            "10       goout              0.059229\n",
            "11      health              0.011988\n",
            "12    failures             -0.192074\n",
            "13      famrel              0.231458\n",
            "14    absences              0.041863\n"
          ]
        }
      ]
    },
    {
      "cell_type": "code",
      "source": [
        "#sns.regplot(y_test,pred_2,scatter_kws={\"color\": \"black\"}, line_kws={\"color\": \"green\"})"
      ],
      "metadata": {
        "id": "SlC7RHt7u9-C"
      },
      "id": "SlC7RHt7u9-C",
      "execution_count": 169,
      "outputs": []
    },
    {
      "cell_type": "markdown",
      "source": [
        "##### Ridge"
      ],
      "metadata": {
        "id": "rGHeyk5XQKmW"
      },
      "id": "rGHeyk5XQKmW"
    },
    {
      "cell_type": "code",
      "source": [
        "ridge = Ridge(alpha=.1)\n",
        "model_3 = ridge.fit(X_train,y_train)\n",
        "pred_3 = model_3.predict(X_test)\n",
        "ridge_result = regression_results(y_test, pred_3)"
      ],
      "metadata": {
        "colab": {
          "base_uri": "https://localhost:8080/"
        },
        "id": "GjGD52PgQURG",
        "outputId": "ec66a76b-6fc0-4bcd-9810-9f5a4a4b6afc"
      },
      "id": "GjGD52PgQURG",
      "execution_count": 170,
      "outputs": [
        {
          "output_type": "stream",
          "name": "stdout",
          "text": [
            "Explained_variance:  0.7814\n",
            "R-squared value:  0.7804\n",
            "MAE:  1.3481\n",
            "MSE:  4.5035\n",
            "RMSE:  2.1221\n"
          ]
        }
      ]
    },
    {
      "cell_type": "code",
      "source": [
        "#putting together the coefficient and their corresponding variable names\n",
        "ridge_coef = pd.DataFrame()\n",
        "ridge_coef['Columns']= X_train.columns\n",
        "ridge_coef['Coefficient Estimate']= pd.Series(ridge.coef_)\n",
        "print(ridge_coef)"
      ],
      "metadata": {
        "colab": {
          "base_uri": "https://localhost:8080/"
        },
        "id": "Qf40XEEg8FHQ",
        "outputId": "18325219-28b3-4357-a2f6-634b9880bef4"
      },
      "id": "Qf40XEEg8FHQ",
      "execution_count": 171,
      "outputs": [
        {
          "output_type": "stream",
          "name": "stdout",
          "text": [
            "       Columns  Coefficient Estimate\n",
            "0           G1              0.160813\n",
            "1           G2              0.977475\n",
            "2         Medu              0.094123\n",
            "3         Fedu             -0.188209\n",
            "4         Walc              0.061731\n",
            "5          age             -0.198012\n",
            "6         Dalc             -0.104938\n",
            "7    studytime             -0.065992\n",
            "8   traveltime              0.130902\n",
            "9     freetime              0.010631\n",
            "10       goout              0.137581\n",
            "11      health              0.059060\n",
            "12    failures             -0.415977\n",
            "13      famrel              0.334491\n",
            "14    absences              0.044863\n"
          ]
        }
      ]
    },
    {
      "cell_type": "markdown",
      "id": "c678352e",
      "metadata": {
        "id": "c678352e",
        "papermill": {
          "duration": 0.057351,
          "end_time": "2021-09-03T06:10:02.853427",
          "exception": false,
          "start_time": "2021-09-03T06:10:02.796076",
          "status": "completed"
        },
        "tags": []
      },
      "source": [
        "##### Elastic Net"
      ]
    },
    {
      "cell_type": "code",
      "execution_count": 172,
      "id": "bfd8a0d9",
      "metadata": {
        "execution": {
          "iopub.execute_input": "2021-09-03T06:10:03.085961Z",
          "iopub.status.busy": "2021-09-03T06:10:03.085336Z",
          "iopub.status.idle": "2021-09-03T06:10:03.089036Z",
          "shell.execute_reply": "2021-09-03T06:10:03.089522Z",
          "shell.execute_reply.started": "2021-09-03T06:07:23.616260Z"
        },
        "id": "bfd8a0d9",
        "papermill": {
          "duration": 0.062099,
          "end_time": "2021-09-03T06:10:03.089684",
          "exception": false,
          "start_time": "2021-09-03T06:10:03.027585",
          "status": "completed"
        },
        "tags": [],
        "colab": {
          "base_uri": "https://localhost:8080/"
        },
        "outputId": "640753f8-8080-43db-f7d6-1561f2ac24cc"
      },
      "outputs": [
        {
          "output_type": "stream",
          "name": "stdout",
          "text": [
            "Explained_variance:  0.787\n",
            "R-squared value:  0.7855\n",
            "MAE:  1.3194\n",
            "MSE:  4.3992\n",
            "RMSE:  2.0974\n"
          ]
        }
      ],
      "source": [
        "elastic_net=ElasticNet(alpha=0.1, l1_ratio=.5)\n",
        "model_4=elastic_net.fit(X_train,y_train)\n",
        "pred_4=model_4.predict(X_test)\n",
        "elastic_result = regression_results(y_test, pred_4)"
      ]
    },
    {
      "cell_type": "code",
      "source": [
        "#putting together the coefficient and their corresponding variable names\n",
        "elastic_net_coef = pd.DataFrame()\n",
        "elastic_net_coef['Columns']= X_train.columns\n",
        "elastic_net_coef['Coefficient Estimate']= pd.Series(elastic_net.coef_)\n",
        "print(elastic_net_coef)"
      ],
      "metadata": {
        "colab": {
          "base_uri": "https://localhost:8080/"
        },
        "id": "i52TEWZy8VQY",
        "outputId": "99ed02c9-dce5-4d91-8ec9-b5def4a4591f"
      },
      "id": "i52TEWZy8VQY",
      "execution_count": 173,
      "outputs": [
        {
          "output_type": "stream",
          "name": "stdout",
          "text": [
            "       Columns  Coefficient Estimate\n",
            "0           G1              0.166665\n",
            "1           G2              0.968668\n",
            "2         Medu              0.000000\n",
            "3         Fedu             -0.063771\n",
            "4         Walc              0.008679\n",
            "5          age             -0.175624\n",
            "6         Dalc             -0.000000\n",
            "7    studytime             -0.000000\n",
            "8   traveltime              0.026763\n",
            "9     freetime              0.000000\n",
            "10       goout              0.100335\n",
            "11      health              0.032596\n",
            "12    failures             -0.279774\n",
            "13      famrel              0.266747\n",
            "14    absences              0.043670\n"
          ]
        }
      ]
    },
    {
      "cell_type": "code",
      "execution_count": 174,
      "id": "b36e8b4d",
      "metadata": {
        "execution": {
          "iopub.execute_input": "2021-09-03T06:10:03.582402Z",
          "iopub.status.busy": "2021-09-03T06:10:03.581425Z",
          "iopub.status.idle": "2021-09-03T06:10:03.586951Z",
          "shell.execute_reply": "2021-09-03T06:10:03.586074Z",
          "shell.execute_reply.started": "2021-09-03T06:07:23.674932Z"
        },
        "id": "b36e8b4d",
        "outputId": "306807d1-9f11-4958-9f76-880ba43d876d",
        "papermill": {
          "duration": 0.068472,
          "end_time": "2021-09-03T06:10:03.587148",
          "exception": false,
          "start_time": "2021-09-03T06:10:03.518676",
          "status": "completed"
        },
        "tags": [],
        "colab": {
          "base_uri": "https://localhost:8080/"
        }
      },
      "outputs": [
        {
          "output_type": "stream",
          "name": "stdout",
          "text": [
            "Accuracy:  0.8466357794832635\n",
            "Accuracy:  0.7854590664700447\n"
          ]
        }
      ],
      "source": [
        "accuracy_test = elastic_net.score(X_test, y_test)\n",
        "accuracy_train = elastic_net.score(X_train, y_train)\n",
        "print('Accuracy: ',accuracy_train)\n",
        "print('Accuracy: ',accuracy_test)"
      ]
    },
    {
      "cell_type": "markdown",
      "source": [
        "### Using Gread Search CV"
      ],
      "metadata": {
        "id": "UgoAGidZSJcH"
      },
      "id": "UgoAGidZSJcH"
    },
    {
      "cell_type": "markdown",
      "source": [
        "##### Lasso CV"
      ],
      "metadata": {
        "id": "nEhPHv2ySe89"
      },
      "id": "nEhPHv2ySe89"
    },
    {
      "cell_type": "code",
      "source": [
        "lasso = Lasso()\n",
        "parameter = {\"alpha\":[1e-10,1e-5,1e-2,.1,1, 10,20,30,40,50,70,100,110,120,130,140,150]}\n",
        "lasso_reg = GridSearchCV(lasso,param_grid=parameter,cv=5,scoring=\"neg_mean_squared_error\")\n",
        "lasso_reg.fit(X_train,y_train)\n",
        "pred_5 = lasso_reg.predict(X_test)"
      ],
      "metadata": {
        "id": "0kSVkXVUGaCP"
      },
      "id": "0kSVkXVUGaCP",
      "execution_count": 175,
      "outputs": []
    },
    {
      "cell_type": "code",
      "source": [
        "lasso_CV_result = regression_results(y_test, pred_5)"
      ],
      "metadata": {
        "colab": {
          "base_uri": "https://localhost:8080/"
        },
        "id": "doX8f6dC9WyI",
        "outputId": "2c80a9d7-20ed-4280-e4e1-3cd45002f7a5"
      },
      "id": "doX8f6dC9WyI",
      "execution_count": 176,
      "outputs": [
        {
          "output_type": "stream",
          "name": "stdout",
          "text": [
            "Explained_variance:  0.7917\n",
            "R-squared value:  0.7902\n",
            "MAE:  1.3066\n",
            "MSE:  4.303\n",
            "RMSE:  2.0744\n"
          ]
        }
      ]
    },
    {
      "cell_type": "markdown",
      "source": [
        "##### Ridge CV"
      ],
      "metadata": {
        "id": "XWBQB8CvSZo0"
      },
      "id": "XWBQB8CvSZo0"
    },
    {
      "cell_type": "code",
      "source": [
        "ridge = Ridge()\n",
        "parameter = {\"alpha\":[1e-15,1e-10,1e-8,1e-5,1e-2,.01,.5,.1,10,20,30,40,50,70,100]}\n",
        "ridge_reg = GridSearchCV(ridge,param_grid=parameter,cv=5,scoring=\"neg_mean_squared_error\")\n",
        "ridge_reg.fit(X_train,y_train)\n",
        "pred_6=ridge_reg.predict(X_test)"
      ],
      "metadata": {
        "id": "dw4kvWVuEsri"
      },
      "id": "dw4kvWVuEsri",
      "execution_count": 177,
      "outputs": []
    },
    {
      "cell_type": "code",
      "source": [
        "Ridge_CV_result = regression_results(y_test, pred_5)"
      ],
      "metadata": {
        "colab": {
          "base_uri": "https://localhost:8080/"
        },
        "id": "YzXOSY1BGBHz",
        "outputId": "b56ec4ae-1d45-472e-d17b-604b8a386b05"
      },
      "id": "YzXOSY1BGBHz",
      "execution_count": 178,
      "outputs": [
        {
          "output_type": "stream",
          "name": "stdout",
          "text": [
            "Explained_variance:  0.7917\n",
            "R-squared value:  0.7902\n",
            "MAE:  1.3066\n",
            "MSE:  4.303\n",
            "RMSE:  2.0744\n"
          ]
        }
      ]
    },
    {
      "cell_type": "markdown",
      "source": [
        "##### Elastic NetCV"
      ],
      "metadata": {
        "id": "ZX2-oHIZSS72"
      },
      "id": "ZX2-oHIZSS72"
    },
    {
      "cell_type": "code",
      "source": [
        "elastic = ElasticNet()\n",
        "parameter = {\"l1_ratio\":[0.4,0.5,0.6],\n",
        "             \"alpha\":[1e-10,1e-5,.01,.1,5,10,20,30,40,50,70,100,110,120,130,140,150]}\n",
        "elastic_reg = GridSearchCV(elastic,param_grid=parameter,cv=5,scoring=\"neg_mean_squared_error\")\n",
        "elastic_reg.fit(X_train,y_train)\n",
        "pred_8 = elastic_reg.predict(X_test)"
      ],
      "metadata": {
        "id": "LJTNC4P6HAmw"
      },
      "id": "LJTNC4P6HAmw",
      "execution_count": 179,
      "outputs": []
    },
    {
      "cell_type": "code",
      "source": [
        "elastic_net_CV_result = regression_results(y_test, pred_5)"
      ],
      "metadata": {
        "colab": {
          "base_uri": "https://localhost:8080/"
        },
        "id": "eknnIhRwHU3h",
        "outputId": "fa3e292f-8cc7-4929-e403-8866f8d30e57"
      },
      "id": "eknnIhRwHU3h",
      "execution_count": 180,
      "outputs": [
        {
          "output_type": "stream",
          "name": "stdout",
          "text": [
            "Explained_variance:  0.7917\n",
            "R-squared value:  0.7902\n",
            "MAE:  1.3066\n",
            "MSE:  4.303\n",
            "RMSE:  2.0744\n"
          ]
        }
      ]
    },
    {
      "cell_type": "code",
      "source": [
        "print(\"Best Parameter \", elastic_reg.best_estimator_)"
      ],
      "metadata": {
        "colab": {
          "base_uri": "https://localhost:8080/"
        },
        "id": "4Gr3Rk2e2vSh",
        "outputId": "25099f9e-e6cd-478e-b010-c712258199a2"
      },
      "id": "4Gr3Rk2e2vSh",
      "execution_count": 181,
      "outputs": [
        {
          "output_type": "stream",
          "name": "stdout",
          "text": [
            "Best Parameter  ElasticNet(alpha=0.1)\n"
          ]
        }
      ]
    },
    {
      "cell_type": "markdown",
      "source": [
        "### Proposed Model "
      ],
      "metadata": {
        "id": "7eLbFthS4vos"
      },
      "id": "7eLbFthS4vos"
    },
    {
      "cell_type": "code",
      "source": [
        "elastic_net=ElasticNet(alpha=0.1, l1_ratio=.6)\n",
        "model_elastic=elastic_net.fit(X_train,y_train)\n",
        "pred_model=model_elastic.predict(X_test)\n",
        "elastic_net_CV_result = regression_results(y_test, pred_model)"
      ],
      "metadata": {
        "colab": {
          "base_uri": "https://localhost:8080/"
        },
        "id": "VtyUkjF5414G",
        "outputId": "e006a4be-cafd-44ee-aa6c-11b46a6492cd"
      },
      "id": "VtyUkjF5414G",
      "execution_count": 182,
      "outputs": [
        {
          "output_type": "stream",
          "name": "stdout",
          "text": [
            "Explained_variance:  0.7878\n",
            "R-squared value:  0.7862\n",
            "MAE:  1.3181\n",
            "MSE:  4.3839\n",
            "RMSE:  2.0938\n"
          ]
        }
      ]
    },
    {
      "cell_type": "code",
      "source": [
        "accuracy_train = linear.score(X_train,y_train)\n",
        "accuracy_test = linear.score(X_test, y_test)\n",
        "print('Accuracy train: ',accuracy_train)\n",
        "print('Accuracy test: ',accuracy_test)\n"
      ],
      "metadata": {
        "colab": {
          "base_uri": "https://localhost:8080/"
        },
        "id": "Wtf1Pgd75DLo",
        "outputId": "dd71f9b4-e3cc-4e74-a6b7-1ba7a4783648"
      },
      "id": "Wtf1Pgd75DLo",
      "execution_count": 183,
      "outputs": [
        {
          "output_type": "stream",
          "name": "stdout",
          "text": [
            "Accuracy train:  0.8486403769767731\n",
            "Accuracy test:  0.7803580213768326\n"
          ]
        }
      ]
    },
    {
      "cell_type": "code",
      "source": [
        "Y_pred_ridge = ridge_reg.predict(X_test)\n",
        "Y_pred_lasso = lasso_reg.predict(X_test)\n",
        "Y_pred_elastic_net = elastic_reg.predict(X_test)"
      ],
      "metadata": {
        "id": "4A1YQPfW8TVo"
      },
      "id": "4A1YQPfW8TVo",
      "execution_count": 184,
      "outputs": []
    },
    {
      "cell_type": "code",
      "source": [
        "plt.figure(figsize= (14,4))\n",
        "plt.subplot(1, 3, 1)\n",
        "sns.distplot(Y_pred_ridge)\n",
        "plt.title(\"Ridge\")\n",
        "\n",
        "plt.subplot(1, 3, 2)\n",
        "plt.title(\"Lasso\")\n",
        "sns.distplot(Y_pred_lasso)\n",
        "\n",
        "plt.subplot(1, 3, 3)\n",
        "plt.title(\"Elastic-Net\")\n",
        "sns.distplot(Y_pred_elastic_net)\n",
        "plt.tight_layout()\n",
        "plt.show()\n"
      ],
      "metadata": {
        "colab": {
          "base_uri": "https://localhost:8080/",
          "height": 297
        },
        "id": "WsJE9NeT9FGT",
        "outputId": "f51eb2a3-2837-438c-d3d3-739c410e1dd5"
      },
      "id": "WsJE9NeT9FGT",
      "execution_count": 185,
      "outputs": [
        {
          "output_type": "display_data",
          "data": {
            "text/plain": [
              "<Figure size 1008x288 with 3 Axes>"
            ],
            "image/png": "[encoded data removed]"
          },
          "metadata": {
            "needs_background": "light"
          }
        }
      ]
    },
    {
      "cell_type": "markdown",
      "source": [
        "We can observer that Predicted output value is better spread using Elastic-Net Model"
      ],
      "metadata": {
        "id": "yg1gu_Kt9r8a"
      },
      "id": "yg1gu_Kt9r8a"
    }
  ],
  "metadata": {
    "kernelspec": {
      "display_name": "Python 3",
      "language": "python",
      "name": "python3"
    },
    "language_info": {
      "codemirror_mode": {
        "name": "ipython",
        "version": 3
      },
      "file_extension": ".py",
      "mimetype": "text/x-python",
      "name": "python",
      "nbconvert_exporter": "python",
      "pygments_lexer": "ipython3",
      "version": "3.7.10"
    },
    "papermill": {
      "default_parameters": {},
      "duration": 27.770668,
      "end_time": "2021-09-03T06:10:04.656361",
      "environment_variables": {},
      "exception": null,
      "input_path": "__notebook__.ipynb",
      "output_path": "__notebook__.ipynb",
      "parameters": {},
      "start_time": "2021-09-03T06:09:36.885693",
      "version": "2.3.3"
    },
    "colab": {
      "provenance": [],
      "include_colab_link": true
    }
  },
  "nbformat": 4,
  "nbformat_minor": 5
}